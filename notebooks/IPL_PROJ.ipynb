{
  "cells": [
    {
      "cell_type": "markdown",
      "source": [
        "# IPL WIN PROBABILITY PREDICTOR"
      ],
      "metadata": {
        "nteract": {
          "transient": {
            "deleting": false
          }
        }
      }
    },
    {
      "cell_type": "markdown",
      "source": [
        "## (1) DATA PREPROCESSING"
      ],
      "metadata": {
        "nteract": {
          "transient": {
            "deleting": false
          }
        }
      }
    },
    {
      "cell_type": "markdown",
      "source": [
        "#### Step 1: Import all the required libraries"
      ],
      "metadata": {
        "nteract": {
          "transient": {
            "deleting": false
          }
        }
      }
    },
    {
      "cell_type": "code",
      "source": [
        "import numpy as np\n",
        "import pandas as pd"
      ],
      "outputs": [],
      "execution_count": 33,
      "metadata": {
        "gather": {
          "logged": 1676794388836
        }
      }
    },
    {
      "cell_type": "markdown",
      "source": [
        "#### Step 2: Read Dataset from CSV file"
      ],
      "metadata": {
        "nteract": {
          "transient": {
            "deleting": false
          }
        }
      }
    },
    {
      "cell_type": "code",
      "source": [
        "match_df = pd.read_csv('IPL_Matches_2008_2022.csv')\n",
        "delivery_df = pd.read_csv('IPL_Ball_by_Ball_2008_2022.csv')"
      ],
      "outputs": [],
      "execution_count": 34,
      "metadata": {
        "jupyter": {
          "source_hidden": false,
          "outputs_hidden": false
        },
        "nteract": {
          "transient": {
            "deleting": false
          }
        },
        "gather": {
          "logged": 1676794390955
        }
      }
    },
    {
      "cell_type": "code",
      "source": [
        "match_df.head()"
      ],
      "outputs": [
        {
          "output_type": "execute_result",
          "execution_count": 35,
          "data": {
            "text/plain": "        ID       City        Date Season  MatchNumber  \\\n0  1312200  Ahmedabad  2022-05-29   2022        Final   \n1  1312199  Ahmedabad  2022-05-27   2022  Qualifier 2   \n2  1312198    Kolkata  2022-05-25   2022   Eliminator   \n3  1312197    Kolkata  2022-05-24   2022  Qualifier 1   \n4  1304116     Mumbai  2022-05-22   2022           70   \n\n                         Team1                 Team2  \\\n0             Rajasthan Royals        Gujarat Titans   \n1  Royal Challengers Bangalore      Rajasthan Royals   \n2  Royal Challengers Bangalore  Lucknow Super Giants   \n3             Rajasthan Royals        Gujarat Titans   \n4          Sunrisers Hyderabad          Punjab Kings   \n\n                              Venue            TossWinner TossDecision  \\\n0  Narendra Modi Stadium, Ahmedabad      Rajasthan Royals          bat   \n1  Narendra Modi Stadium, Ahmedabad      Rajasthan Royals        field   \n2             Eden Gardens, Kolkata  Lucknow Super Giants        field   \n3             Eden Gardens, Kolkata        Gujarat Titans        field   \n4          Wankhede Stadium, Mumbai   Sunrisers Hyderabad          bat   \n\n  SuperOver                  WinningTeam    WonBy  Margin method  \\\n0         N               Gujarat Titans  Wickets     7.0    NaN   \n1         N             Rajasthan Royals  Wickets     7.0    NaN   \n2         N  Royal Challengers Bangalore     Runs    14.0    NaN   \n3         N               Gujarat Titans  Wickets     7.0    NaN   \n4         N                 Punjab Kings  Wickets     5.0    NaN   \n\n  Player_of_Match                                       Team1Players  \\\n0       HH Pandya  ['YBK Jaiswal', 'JC Buttler', 'SV Samson', 'D ...   \n1      JC Buttler  ['V Kohli', 'F du Plessis', 'RM Patidar', 'GJ ...   \n2      RM Patidar  ['V Kohli', 'F du Plessis', 'RM Patidar', 'GJ ...   \n3       DA Miller  ['YBK Jaiswal', 'JC Buttler', 'SV Samson', 'D ...   \n4   Harpreet Brar  ['PK Garg', 'Abhishek Sharma', 'RA Tripathi', ...   \n\n                                        Team2Players        Umpire1  \\\n0  ['WP Saha', 'Shubman Gill', 'MS Wade', 'HH Pan...    CB Gaffaney   \n1  ['YBK Jaiswal', 'JC Buttler', 'SV Samson', 'D ...    CB Gaffaney   \n2  ['Q de Kock', 'KL Rahul', 'M Vohra', 'DJ Hooda...  J Madanagopal   \n3  ['WP Saha', 'Shubman Gill', 'MS Wade', 'HH Pan...   BNJ Oxenford   \n4  ['JM Bairstow', 'S Dhawan', 'M Shahrukh Khan',...   AK Chaudhary   \n\n         Umpire2  \n0    Nitin Menon  \n1    Nitin Menon  \n2       MA Gough  \n3      VK Sharma  \n4  NA Patwardhan  ",
            "text/html": "<div>\n<style scoped>\n    .dataframe tbody tr th:only-of-type {\n        vertical-align: middle;\n    }\n\n    .dataframe tbody tr th {\n        vertical-align: top;\n    }\n\n    .dataframe thead th {\n        text-align: right;\n    }\n</style>\n<table border=\"1\" class=\"dataframe\">\n  <thead>\n    <tr style=\"text-align: right;\">\n      <th></th>\n      <th>ID</th>\n      <th>City</th>\n      <th>Date</th>\n      <th>Season</th>\n      <th>MatchNumber</th>\n      <th>Team1</th>\n      <th>Team2</th>\n      <th>Venue</th>\n      <th>TossWinner</th>\n      <th>TossDecision</th>\n      <th>SuperOver</th>\n      <th>WinningTeam</th>\n      <th>WonBy</th>\n      <th>Margin</th>\n      <th>method</th>\n      <th>Player_of_Match</th>\n      <th>Team1Players</th>\n      <th>Team2Players</th>\n      <th>Umpire1</th>\n      <th>Umpire2</th>\n    </tr>\n  </thead>\n  <tbody>\n    <tr>\n      <th>0</th>\n      <td>1312200</td>\n      <td>Ahmedabad</td>\n      <td>2022-05-29</td>\n      <td>2022</td>\n      <td>Final</td>\n      <td>Rajasthan Royals</td>\n      <td>Gujarat Titans</td>\n      <td>Narendra Modi Stadium, Ahmedabad</td>\n      <td>Rajasthan Royals</td>\n      <td>bat</td>\n      <td>N</td>\n      <td>Gujarat Titans</td>\n      <td>Wickets</td>\n      <td>7.0</td>\n      <td>NaN</td>\n      <td>HH Pandya</td>\n      <td>['YBK Jaiswal', 'JC Buttler', 'SV Samson', 'D ...</td>\n      <td>['WP Saha', 'Shubman Gill', 'MS Wade', 'HH Pan...</td>\n      <td>CB Gaffaney</td>\n      <td>Nitin Menon</td>\n    </tr>\n    <tr>\n      <th>1</th>\n      <td>1312199</td>\n      <td>Ahmedabad</td>\n      <td>2022-05-27</td>\n      <td>2022</td>\n      <td>Qualifier 2</td>\n      <td>Royal Challengers Bangalore</td>\n      <td>Rajasthan Royals</td>\n      <td>Narendra Modi Stadium, Ahmedabad</td>\n      <td>Rajasthan Royals</td>\n      <td>field</td>\n      <td>N</td>\n      <td>Rajasthan Royals</td>\n      <td>Wickets</td>\n      <td>7.0</td>\n      <td>NaN</td>\n      <td>JC Buttler</td>\n      <td>['V Kohli', 'F du Plessis', 'RM Patidar', 'GJ ...</td>\n      <td>['YBK Jaiswal', 'JC Buttler', 'SV Samson', 'D ...</td>\n      <td>CB Gaffaney</td>\n      <td>Nitin Menon</td>\n    </tr>\n    <tr>\n      <th>2</th>\n      <td>1312198</td>\n      <td>Kolkata</td>\n      <td>2022-05-25</td>\n      <td>2022</td>\n      <td>Eliminator</td>\n      <td>Royal Challengers Bangalore</td>\n      <td>Lucknow Super Giants</td>\n      <td>Eden Gardens, Kolkata</td>\n      <td>Lucknow Super Giants</td>\n      <td>field</td>\n      <td>N</td>\n      <td>Royal Challengers Bangalore</td>\n      <td>Runs</td>\n      <td>14.0</td>\n      <td>NaN</td>\n      <td>RM Patidar</td>\n      <td>['V Kohli', 'F du Plessis', 'RM Patidar', 'GJ ...</td>\n      <td>['Q de Kock', 'KL Rahul', 'M Vohra', 'DJ Hooda...</td>\n      <td>J Madanagopal</td>\n      <td>MA Gough</td>\n    </tr>\n    <tr>\n      <th>3</th>\n      <td>1312197</td>\n      <td>Kolkata</td>\n      <td>2022-05-24</td>\n      <td>2022</td>\n      <td>Qualifier 1</td>\n      <td>Rajasthan Royals</td>\n      <td>Gujarat Titans</td>\n      <td>Eden Gardens, Kolkata</td>\n      <td>Gujarat Titans</td>\n      <td>field</td>\n      <td>N</td>\n      <td>Gujarat Titans</td>\n      <td>Wickets</td>\n      <td>7.0</td>\n      <td>NaN</td>\n      <td>DA Miller</td>\n      <td>['YBK Jaiswal', 'JC Buttler', 'SV Samson', 'D ...</td>\n      <td>['WP Saha', 'Shubman Gill', 'MS Wade', 'HH Pan...</td>\n      <td>BNJ Oxenford</td>\n      <td>VK Sharma</td>\n    </tr>\n    <tr>\n      <th>4</th>\n      <td>1304116</td>\n      <td>Mumbai</td>\n      <td>2022-05-22</td>\n      <td>2022</td>\n      <td>70</td>\n      <td>Sunrisers Hyderabad</td>\n      <td>Punjab Kings</td>\n      <td>Wankhede Stadium, Mumbai</td>\n      <td>Sunrisers Hyderabad</td>\n      <td>bat</td>\n      <td>N</td>\n      <td>Punjab Kings</td>\n      <td>Wickets</td>\n      <td>5.0</td>\n      <td>NaN</td>\n      <td>Harpreet Brar</td>\n      <td>['PK Garg', 'Abhishek Sharma', 'RA Tripathi', ...</td>\n      <td>['JM Bairstow', 'S Dhawan', 'M Shahrukh Khan',...</td>\n      <td>AK Chaudhary</td>\n      <td>NA Patwardhan</td>\n    </tr>\n  </tbody>\n</table>\n</div>"
          },
          "metadata": {}
        }
      ],
      "execution_count": 35,
      "metadata": {
        "jupyter": {
          "source_hidden": false,
          "outputs_hidden": false
        },
        "nteract": {
          "transient": {
            "deleting": false
          }
        },
        "gather": {
          "logged": 1676794391280
        }
      }
    },
    {
      "cell_type": "code",
      "source": [
        "delivery_df.head()"
      ],
      "outputs": [
        {
          "output_type": "execute_result",
          "execution_count": 36,
          "data": {
            "text/plain": "        ID  innings  overs  ballnumber       batter          bowler  \\\n0  1312200        1      0           1  YBK Jaiswal  Mohammed Shami   \n1  1312200        1      0           2  YBK Jaiswal  Mohammed Shami   \n2  1312200        1      0           3   JC Buttler  Mohammed Shami   \n3  1312200        1      0           4  YBK Jaiswal  Mohammed Shami   \n4  1312200        1      0           5  YBK Jaiswal  Mohammed Shami   \n\n   non-striker extra_type  batsman_run  extras_run  total_run  non_boundary  \\\n0   JC Buttler        NaN            0           0          0             0   \n1   JC Buttler    legbyes            0           1          1             0   \n2  YBK Jaiswal        NaN            1           0          1             0   \n3   JC Buttler        NaN            0           0          0             0   \n4   JC Buttler        NaN            0           0          0             0   \n\n   isWicketDelivery player_out kind fielders_involved       BattingTeam  \n0                 0        NaN  NaN               NaN  Rajasthan Royals  \n1                 0        NaN  NaN               NaN  Rajasthan Royals  \n2                 0        NaN  NaN               NaN  Rajasthan Royals  \n3                 0        NaN  NaN               NaN  Rajasthan Royals  \n4                 0        NaN  NaN               NaN  Rajasthan Royals  ",
            "text/html": "<div>\n<style scoped>\n    .dataframe tbody tr th:only-of-type {\n        vertical-align: middle;\n    }\n\n    .dataframe tbody tr th {\n        vertical-align: top;\n    }\n\n    .dataframe thead th {\n        text-align: right;\n    }\n</style>\n<table border=\"1\" class=\"dataframe\">\n  <thead>\n    <tr style=\"text-align: right;\">\n      <th></th>\n      <th>ID</th>\n      <th>innings</th>\n      <th>overs</th>\n      <th>ballnumber</th>\n      <th>batter</th>\n      <th>bowler</th>\n      <th>non-striker</th>\n      <th>extra_type</th>\n      <th>batsman_run</th>\n      <th>extras_run</th>\n      <th>total_run</th>\n      <th>non_boundary</th>\n      <th>isWicketDelivery</th>\n      <th>player_out</th>\n      <th>kind</th>\n      <th>fielders_involved</th>\n      <th>BattingTeam</th>\n    </tr>\n  </thead>\n  <tbody>\n    <tr>\n      <th>0</th>\n      <td>1312200</td>\n      <td>1</td>\n      <td>0</td>\n      <td>1</td>\n      <td>YBK Jaiswal</td>\n      <td>Mohammed Shami</td>\n      <td>JC Buttler</td>\n      <td>NaN</td>\n      <td>0</td>\n      <td>0</td>\n      <td>0</td>\n      <td>0</td>\n      <td>0</td>\n      <td>NaN</td>\n      <td>NaN</td>\n      <td>NaN</td>\n      <td>Rajasthan Royals</td>\n    </tr>\n    <tr>\n      <th>1</th>\n      <td>1312200</td>\n      <td>1</td>\n      <td>0</td>\n      <td>2</td>\n      <td>YBK Jaiswal</td>\n      <td>Mohammed Shami</td>\n      <td>JC Buttler</td>\n      <td>legbyes</td>\n      <td>0</td>\n      <td>1</td>\n      <td>1</td>\n      <td>0</td>\n      <td>0</td>\n      <td>NaN</td>\n      <td>NaN</td>\n      <td>NaN</td>\n      <td>Rajasthan Royals</td>\n    </tr>\n    <tr>\n      <th>2</th>\n      <td>1312200</td>\n      <td>1</td>\n      <td>0</td>\n      <td>3</td>\n      <td>JC Buttler</td>\n      <td>Mohammed Shami</td>\n      <td>YBK Jaiswal</td>\n      <td>NaN</td>\n      <td>1</td>\n      <td>0</td>\n      <td>1</td>\n      <td>0</td>\n      <td>0</td>\n      <td>NaN</td>\n      <td>NaN</td>\n      <td>NaN</td>\n      <td>Rajasthan Royals</td>\n    </tr>\n    <tr>\n      <th>3</th>\n      <td>1312200</td>\n      <td>1</td>\n      <td>0</td>\n      <td>4</td>\n      <td>YBK Jaiswal</td>\n      <td>Mohammed Shami</td>\n      <td>JC Buttler</td>\n      <td>NaN</td>\n      <td>0</td>\n      <td>0</td>\n      <td>0</td>\n      <td>0</td>\n      <td>0</td>\n      <td>NaN</td>\n      <td>NaN</td>\n      <td>NaN</td>\n      <td>Rajasthan Royals</td>\n    </tr>\n    <tr>\n      <th>4</th>\n      <td>1312200</td>\n      <td>1</td>\n      <td>0</td>\n      <td>5</td>\n      <td>YBK Jaiswal</td>\n      <td>Mohammed Shami</td>\n      <td>JC Buttler</td>\n      <td>NaN</td>\n      <td>0</td>\n      <td>0</td>\n      <td>0</td>\n      <td>0</td>\n      <td>0</td>\n      <td>NaN</td>\n      <td>NaN</td>\n      <td>NaN</td>\n      <td>Rajasthan Royals</td>\n    </tr>\n  </tbody>\n</table>\n</div>"
          },
          "metadata": {}
        }
      ],
      "execution_count": 36,
      "metadata": {
        "jupyter": {
          "source_hidden": false,
          "outputs_hidden": false
        },
        "nteract": {
          "transient": {
            "deleting": false
          }
        },
        "gather": {
          "logged": 1676794391616
        }
      }
    },
    {
      "cell_type": "markdown",
      "source": [
        "##"
      ],
      "metadata": {
        "nteract": {
          "transient": {
            "deleting": false
          }
        }
      }
    },
    {
      "cell_type": "markdown",
      "source": [
        "#### Step 3: Add the field - Bowling Team "
      ],
      "metadata": {
        "nteract": {
          "transient": {
            "deleting": false
          }
        }
      }
    },
    {
      "cell_type": "code",
      "source": [
        "match_df = match_df.merge(delivery_df, on='ID')"
      ],
      "outputs": [],
      "execution_count": 37,
      "metadata": {
        "jupyter": {
          "source_hidden": false,
          "outputs_hidden": false
        },
        "nteract": {
          "transient": {
            "deleting": false
          }
        },
        "gather": {
          "logged": 1676794391937
        }
      }
    },
    {
      "cell_type": "code",
      "source": [
        "match_df"
      ],
      "outputs": [
        {
          "output_type": "execute_result",
          "execution_count": 38,
          "data": {
            "text/plain": "             ID       City        Date   Season MatchNumber  \\\n0       1312200  Ahmedabad  2022-05-29     2022       Final   \n1       1312200  Ahmedabad  2022-05-29     2022       Final   \n2       1312200  Ahmedabad  2022-05-29     2022       Final   \n3       1312200  Ahmedabad  2022-05-29     2022       Final   \n4       1312200  Ahmedabad  2022-05-29     2022       Final   \n...         ...        ...         ...      ...         ...   \n225949   335982  Bangalore  2008-04-18  2007/08           1   \n225950   335982  Bangalore  2008-04-18  2007/08           1   \n225951   335982  Bangalore  2008-04-18  2007/08           1   \n225952   335982  Bangalore  2008-04-18  2007/08           1   \n225953   335982  Bangalore  2008-04-18  2007/08           1   \n\n                              Team1                  Team2  \\\n0                  Rajasthan Royals         Gujarat Titans   \n1                  Rajasthan Royals         Gujarat Titans   \n2                  Rajasthan Royals         Gujarat Titans   \n3                  Rajasthan Royals         Gujarat Titans   \n4                  Rajasthan Royals         Gujarat Titans   \n...                             ...                    ...   \n225949  Royal Challengers Bangalore  Kolkata Knight Riders   \n225950  Royal Challengers Bangalore  Kolkata Knight Riders   \n225951  Royal Challengers Bangalore  Kolkata Knight Riders   \n225952  Royal Challengers Bangalore  Kolkata Knight Riders   \n225953  Royal Challengers Bangalore  Kolkata Knight Riders   \n\n                                   Venue                   TossWinner  \\\n0       Narendra Modi Stadium, Ahmedabad             Rajasthan Royals   \n1       Narendra Modi Stadium, Ahmedabad             Rajasthan Royals   \n2       Narendra Modi Stadium, Ahmedabad             Rajasthan Royals   \n3       Narendra Modi Stadium, Ahmedabad             Rajasthan Royals   \n4       Narendra Modi Stadium, Ahmedabad             Rajasthan Royals   \n...                                  ...                          ...   \n225949             M Chinnaswamy Stadium  Royal Challengers Bangalore   \n225950             M Chinnaswamy Stadium  Royal Challengers Bangalore   \n225951             M Chinnaswamy Stadium  Royal Challengers Bangalore   \n225952             M Chinnaswamy Stadium  Royal Challengers Bangalore   \n225953             M Chinnaswamy Stadium  Royal Challengers Bangalore   \n\n       TossDecision  ... extra_type batsman_run extras_run  total_run  \\\n0               bat  ...        NaN           0          0          0   \n1               bat  ...    legbyes           0          1          1   \n2               bat  ...        NaN           1          0          1   \n3               bat  ...        NaN           0          0          0   \n4               bat  ...        NaN           0          0          0   \n...             ...  ...        ...         ...        ...        ...   \n225949        field  ...    legbyes           0          1          1   \n225950        field  ...        NaN           1          0          1   \n225951        field  ...        NaN           0          0          0   \n225952        field  ...      wides           0          1          1   \n225953        field  ...        NaN           0          0          0   \n\n       non_boundary isWicketDelivery player_out    kind fielders_involved  \\\n0                 0                0        NaN     NaN               NaN   \n1                 0                0        NaN     NaN               NaN   \n2                 0                0        NaN     NaN               NaN   \n3                 0                0        NaN     NaN               NaN   \n4                 0                0        NaN     NaN               NaN   \n...             ...              ...        ...     ...               ...   \n225949            0                0        NaN     NaN               NaN   \n225950            0                0        NaN     NaN               NaN   \n225951            0                0        NaN     NaN               NaN   \n225952            0                0        NaN     NaN               NaN   \n225953            0                1   SB Joshi  caught       BB McCullum   \n\n                        BattingTeam  \n0                  Rajasthan Royals  \n1                  Rajasthan Royals  \n2                  Rajasthan Royals  \n3                  Rajasthan Royals  \n4                  Rajasthan Royals  \n...                             ...  \n225949  Royal Challengers Bangalore  \n225950  Royal Challengers Bangalore  \n225951  Royal Challengers Bangalore  \n225952  Royal Challengers Bangalore  \n225953  Royal Challengers Bangalore  \n\n[225954 rows x 36 columns]",
            "text/html": "<div>\n<style scoped>\n    .dataframe tbody tr th:only-of-type {\n        vertical-align: middle;\n    }\n\n    .dataframe tbody tr th {\n        vertical-align: top;\n    }\n\n    .dataframe thead th {\n        text-align: right;\n    }\n</style>\n<table border=\"1\" class=\"dataframe\">\n  <thead>\n    <tr style=\"text-align: right;\">\n      <th></th>\n      <th>ID</th>\n      <th>City</th>\n      <th>Date</th>\n      <th>Season</th>\n      <th>MatchNumber</th>\n      <th>Team1</th>\n      <th>Team2</th>\n      <th>Venue</th>\n      <th>TossWinner</th>\n      <th>TossDecision</th>\n      <th>...</th>\n      <th>extra_type</th>\n      <th>batsman_run</th>\n      <th>extras_run</th>\n      <th>total_run</th>\n      <th>non_boundary</th>\n      <th>isWicketDelivery</th>\n      <th>player_out</th>\n      <th>kind</th>\n      <th>fielders_involved</th>\n      <th>BattingTeam</th>\n    </tr>\n  </thead>\n  <tbody>\n    <tr>\n      <th>0</th>\n      <td>1312200</td>\n      <td>Ahmedabad</td>\n      <td>2022-05-29</td>\n      <td>2022</td>\n      <td>Final</td>\n      <td>Rajasthan Royals</td>\n      <td>Gujarat Titans</td>\n      <td>Narendra Modi Stadium, Ahmedabad</td>\n      <td>Rajasthan Royals</td>\n      <td>bat</td>\n      <td>...</td>\n      <td>NaN</td>\n      <td>0</td>\n      <td>0</td>\n      <td>0</td>\n      <td>0</td>\n      <td>0</td>\n      <td>NaN</td>\n      <td>NaN</td>\n      <td>NaN</td>\n      <td>Rajasthan Royals</td>\n    </tr>\n    <tr>\n      <th>1</th>\n      <td>1312200</td>\n      <td>Ahmedabad</td>\n      <td>2022-05-29</td>\n      <td>2022</td>\n      <td>Final</td>\n      <td>Rajasthan Royals</td>\n      <td>Gujarat Titans</td>\n      <td>Narendra Modi Stadium, Ahmedabad</td>\n      <td>Rajasthan Royals</td>\n      <td>bat</td>\n      <td>...</td>\n      <td>legbyes</td>\n      <td>0</td>\n      <td>1</td>\n      <td>1</td>\n      <td>0</td>\n      <td>0</td>\n      <td>NaN</td>\n      <td>NaN</td>\n      <td>NaN</td>\n      <td>Rajasthan Royals</td>\n    </tr>\n    <tr>\n      <th>2</th>\n      <td>1312200</td>\n      <td>Ahmedabad</td>\n      <td>2022-05-29</td>\n      <td>2022</td>\n      <td>Final</td>\n      <td>Rajasthan Royals</td>\n      <td>Gujarat Titans</td>\n      <td>Narendra Modi Stadium, Ahmedabad</td>\n      <td>Rajasthan Royals</td>\n      <td>bat</td>\n      <td>...</td>\n      <td>NaN</td>\n      <td>1</td>\n      <td>0</td>\n      <td>1</td>\n      <td>0</td>\n      <td>0</td>\n      <td>NaN</td>\n      <td>NaN</td>\n      <td>NaN</td>\n      <td>Rajasthan Royals</td>\n    </tr>\n    <tr>\n      <th>3</th>\n      <td>1312200</td>\n      <td>Ahmedabad</td>\n      <td>2022-05-29</td>\n      <td>2022</td>\n      <td>Final</td>\n      <td>Rajasthan Royals</td>\n      <td>Gujarat Titans</td>\n      <td>Narendra Modi Stadium, Ahmedabad</td>\n      <td>Rajasthan Royals</td>\n      <td>bat</td>\n      <td>...</td>\n      <td>NaN</td>\n      <td>0</td>\n      <td>0</td>\n      <td>0</td>\n      <td>0</td>\n      <td>0</td>\n      <td>NaN</td>\n      <td>NaN</td>\n      <td>NaN</td>\n      <td>Rajasthan Royals</td>\n    </tr>\n    <tr>\n      <th>4</th>\n      <td>1312200</td>\n      <td>Ahmedabad</td>\n      <td>2022-05-29</td>\n      <td>2022</td>\n      <td>Final</td>\n      <td>Rajasthan Royals</td>\n      <td>Gujarat Titans</td>\n      <td>Narendra Modi Stadium, Ahmedabad</td>\n      <td>Rajasthan Royals</td>\n      <td>bat</td>\n      <td>...</td>\n      <td>NaN</td>\n      <td>0</td>\n      <td>0</td>\n      <td>0</td>\n      <td>0</td>\n      <td>0</td>\n      <td>NaN</td>\n      <td>NaN</td>\n      <td>NaN</td>\n      <td>Rajasthan Royals</td>\n    </tr>\n    <tr>\n      <th>...</th>\n      <td>...</td>\n      <td>...</td>\n      <td>...</td>\n      <td>...</td>\n      <td>...</td>\n      <td>...</td>\n      <td>...</td>\n      <td>...</td>\n      <td>...</td>\n      <td>...</td>\n      <td>...</td>\n      <td>...</td>\n      <td>...</td>\n      <td>...</td>\n      <td>...</td>\n      <td>...</td>\n      <td>...</td>\n      <td>...</td>\n      <td>...</td>\n      <td>...</td>\n      <td>...</td>\n    </tr>\n    <tr>\n      <th>225949</th>\n      <td>335982</td>\n      <td>Bangalore</td>\n      <td>2008-04-18</td>\n      <td>2007/08</td>\n      <td>1</td>\n      <td>Royal Challengers Bangalore</td>\n      <td>Kolkata Knight Riders</td>\n      <td>M Chinnaswamy Stadium</td>\n      <td>Royal Challengers Bangalore</td>\n      <td>field</td>\n      <td>...</td>\n      <td>legbyes</td>\n      <td>0</td>\n      <td>1</td>\n      <td>1</td>\n      <td>0</td>\n      <td>0</td>\n      <td>NaN</td>\n      <td>NaN</td>\n      <td>NaN</td>\n      <td>Royal Challengers Bangalore</td>\n    </tr>\n    <tr>\n      <th>225950</th>\n      <td>335982</td>\n      <td>Bangalore</td>\n      <td>2008-04-18</td>\n      <td>2007/08</td>\n      <td>1</td>\n      <td>Royal Challengers Bangalore</td>\n      <td>Kolkata Knight Riders</td>\n      <td>M Chinnaswamy Stadium</td>\n      <td>Royal Challengers Bangalore</td>\n      <td>field</td>\n      <td>...</td>\n      <td>NaN</td>\n      <td>1</td>\n      <td>0</td>\n      <td>1</td>\n      <td>0</td>\n      <td>0</td>\n      <td>NaN</td>\n      <td>NaN</td>\n      <td>NaN</td>\n      <td>Royal Challengers Bangalore</td>\n    </tr>\n    <tr>\n      <th>225951</th>\n      <td>335982</td>\n      <td>Bangalore</td>\n      <td>2008-04-18</td>\n      <td>2007/08</td>\n      <td>1</td>\n      <td>Royal Challengers Bangalore</td>\n      <td>Kolkata Knight Riders</td>\n      <td>M Chinnaswamy Stadium</td>\n      <td>Royal Challengers Bangalore</td>\n      <td>field</td>\n      <td>...</td>\n      <td>NaN</td>\n      <td>0</td>\n      <td>0</td>\n      <td>0</td>\n      <td>0</td>\n      <td>0</td>\n      <td>NaN</td>\n      <td>NaN</td>\n      <td>NaN</td>\n      <td>Royal Challengers Bangalore</td>\n    </tr>\n    <tr>\n      <th>225952</th>\n      <td>335982</td>\n      <td>Bangalore</td>\n      <td>2008-04-18</td>\n      <td>2007/08</td>\n      <td>1</td>\n      <td>Royal Challengers Bangalore</td>\n      <td>Kolkata Knight Riders</td>\n      <td>M Chinnaswamy Stadium</td>\n      <td>Royal Challengers Bangalore</td>\n      <td>field</td>\n      <td>...</td>\n      <td>wides</td>\n      <td>0</td>\n      <td>1</td>\n      <td>1</td>\n      <td>0</td>\n      <td>0</td>\n      <td>NaN</td>\n      <td>NaN</td>\n      <td>NaN</td>\n      <td>Royal Challengers Bangalore</td>\n    </tr>\n    <tr>\n      <th>225953</th>\n      <td>335982</td>\n      <td>Bangalore</td>\n      <td>2008-04-18</td>\n      <td>2007/08</td>\n      <td>1</td>\n      <td>Royal Challengers Bangalore</td>\n      <td>Kolkata Knight Riders</td>\n      <td>M Chinnaswamy Stadium</td>\n      <td>Royal Challengers Bangalore</td>\n      <td>field</td>\n      <td>...</td>\n      <td>NaN</td>\n      <td>0</td>\n      <td>0</td>\n      <td>0</td>\n      <td>0</td>\n      <td>1</td>\n      <td>SB Joshi</td>\n      <td>caught</td>\n      <td>BB McCullum</td>\n      <td>Royal Challengers Bangalore</td>\n    </tr>\n  </tbody>\n</table>\n<p>225954 rows × 36 columns</p>\n</div>"
          },
          "metadata": {}
        }
      ],
      "execution_count": 38,
      "metadata": {
        "jupyter": {
          "source_hidden": false,
          "outputs_hidden": false
        },
        "nteract": {
          "transient": {
            "deleting": false
          }
        },
        "gather": {
          "logged": 1676794392255
        }
      }
    },
    {
      "cell_type": "code",
      "source": [
        "def bowl(row):\n",
        "    if row['Team1'] == row['BattingTeam']:\n",
        "        return row['Team2']\n",
        "    else:\n",
        "        return row['Team1']"
      ],
      "outputs": [],
      "execution_count": 39,
      "metadata": {
        "jupyter": {
          "source_hidden": false,
          "outputs_hidden": false
        },
        "nteract": {
          "transient": {
            "deleting": false
          }
        },
        "gather": {
          "logged": 1676794394446
        }
      }
    },
    {
      "cell_type": "code",
      "source": [
        "match_df['BowlingTeam'] = match_df.apply(bowl,axis=1)"
      ],
      "outputs": [],
      "execution_count": 40,
      "metadata": {
        "jupyter": {
          "source_hidden": false,
          "outputs_hidden": false
        },
        "nteract": {
          "transient": {
            "deleting": false
          }
        },
        "gather": {
          "logged": 1676794397699
        }
      }
    },
    {
      "cell_type": "code",
      "source": [
        "match_df"
      ],
      "outputs": [
        {
          "output_type": "execute_result",
          "execution_count": 41,
          "data": {
            "text/plain": "             ID       City        Date   Season MatchNumber  \\\n0       1312200  Ahmedabad  2022-05-29     2022       Final   \n1       1312200  Ahmedabad  2022-05-29     2022       Final   \n2       1312200  Ahmedabad  2022-05-29     2022       Final   \n3       1312200  Ahmedabad  2022-05-29     2022       Final   \n4       1312200  Ahmedabad  2022-05-29     2022       Final   \n...         ...        ...         ...      ...         ...   \n225949   335982  Bangalore  2008-04-18  2007/08           1   \n225950   335982  Bangalore  2008-04-18  2007/08           1   \n225951   335982  Bangalore  2008-04-18  2007/08           1   \n225952   335982  Bangalore  2008-04-18  2007/08           1   \n225953   335982  Bangalore  2008-04-18  2007/08           1   \n\n                              Team1                  Team2  \\\n0                  Rajasthan Royals         Gujarat Titans   \n1                  Rajasthan Royals         Gujarat Titans   \n2                  Rajasthan Royals         Gujarat Titans   \n3                  Rajasthan Royals         Gujarat Titans   \n4                  Rajasthan Royals         Gujarat Titans   \n...                             ...                    ...   \n225949  Royal Challengers Bangalore  Kolkata Knight Riders   \n225950  Royal Challengers Bangalore  Kolkata Knight Riders   \n225951  Royal Challengers Bangalore  Kolkata Knight Riders   \n225952  Royal Challengers Bangalore  Kolkata Knight Riders   \n225953  Royal Challengers Bangalore  Kolkata Knight Riders   \n\n                                   Venue                   TossWinner  \\\n0       Narendra Modi Stadium, Ahmedabad             Rajasthan Royals   \n1       Narendra Modi Stadium, Ahmedabad             Rajasthan Royals   \n2       Narendra Modi Stadium, Ahmedabad             Rajasthan Royals   \n3       Narendra Modi Stadium, Ahmedabad             Rajasthan Royals   \n4       Narendra Modi Stadium, Ahmedabad             Rajasthan Royals   \n...                                  ...                          ...   \n225949             M Chinnaswamy Stadium  Royal Challengers Bangalore   \n225950             M Chinnaswamy Stadium  Royal Challengers Bangalore   \n225951             M Chinnaswamy Stadium  Royal Challengers Bangalore   \n225952             M Chinnaswamy Stadium  Royal Challengers Bangalore   \n225953             M Chinnaswamy Stadium  Royal Challengers Bangalore   \n\n       TossDecision  ... batsman_run extras_run total_run  non_boundary  \\\n0               bat  ...           0          0         0             0   \n1               bat  ...           0          1         1             0   \n2               bat  ...           1          0         1             0   \n3               bat  ...           0          0         0             0   \n4               bat  ...           0          0         0             0   \n...             ...  ...         ...        ...       ...           ...   \n225949        field  ...           0          1         1             0   \n225950        field  ...           1          0         1             0   \n225951        field  ...           0          0         0             0   \n225952        field  ...           0          1         1             0   \n225953        field  ...           0          0         0             0   \n\n       isWicketDelivery player_out    kind fielders_involved  \\\n0                     0        NaN     NaN               NaN   \n1                     0        NaN     NaN               NaN   \n2                     0        NaN     NaN               NaN   \n3                     0        NaN     NaN               NaN   \n4                     0        NaN     NaN               NaN   \n...                 ...        ...     ...               ...   \n225949                0        NaN     NaN               NaN   \n225950                0        NaN     NaN               NaN   \n225951                0        NaN     NaN               NaN   \n225952                0        NaN     NaN               NaN   \n225953                1   SB Joshi  caught       BB McCullum   \n\n                        BattingTeam            BowlingTeam  \n0                  Rajasthan Royals         Gujarat Titans  \n1                  Rajasthan Royals         Gujarat Titans  \n2                  Rajasthan Royals         Gujarat Titans  \n3                  Rajasthan Royals         Gujarat Titans  \n4                  Rajasthan Royals         Gujarat Titans  \n...                             ...                    ...  \n225949  Royal Challengers Bangalore  Kolkata Knight Riders  \n225950  Royal Challengers Bangalore  Kolkata Knight Riders  \n225951  Royal Challengers Bangalore  Kolkata Knight Riders  \n225952  Royal Challengers Bangalore  Kolkata Knight Riders  \n225953  Royal Challengers Bangalore  Kolkata Knight Riders  \n\n[225954 rows x 37 columns]",
            "text/html": "<div>\n<style scoped>\n    .dataframe tbody tr th:only-of-type {\n        vertical-align: middle;\n    }\n\n    .dataframe tbody tr th {\n        vertical-align: top;\n    }\n\n    .dataframe thead th {\n        text-align: right;\n    }\n</style>\n<table border=\"1\" class=\"dataframe\">\n  <thead>\n    <tr style=\"text-align: right;\">\n      <th></th>\n      <th>ID</th>\n      <th>City</th>\n      <th>Date</th>\n      <th>Season</th>\n      <th>MatchNumber</th>\n      <th>Team1</th>\n      <th>Team2</th>\n      <th>Venue</th>\n      <th>TossWinner</th>\n      <th>TossDecision</th>\n      <th>...</th>\n      <th>batsman_run</th>\n      <th>extras_run</th>\n      <th>total_run</th>\n      <th>non_boundary</th>\n      <th>isWicketDelivery</th>\n      <th>player_out</th>\n      <th>kind</th>\n      <th>fielders_involved</th>\n      <th>BattingTeam</th>\n      <th>BowlingTeam</th>\n    </tr>\n  </thead>\n  <tbody>\n    <tr>\n      <th>0</th>\n      <td>1312200</td>\n      <td>Ahmedabad</td>\n      <td>2022-05-29</td>\n      <td>2022</td>\n      <td>Final</td>\n      <td>Rajasthan Royals</td>\n      <td>Gujarat Titans</td>\n      <td>Narendra Modi Stadium, Ahmedabad</td>\n      <td>Rajasthan Royals</td>\n      <td>bat</td>\n      <td>...</td>\n      <td>0</td>\n      <td>0</td>\n      <td>0</td>\n      <td>0</td>\n      <td>0</td>\n      <td>NaN</td>\n      <td>NaN</td>\n      <td>NaN</td>\n      <td>Rajasthan Royals</td>\n      <td>Gujarat Titans</td>\n    </tr>\n    <tr>\n      <th>1</th>\n      <td>1312200</td>\n      <td>Ahmedabad</td>\n      <td>2022-05-29</td>\n      <td>2022</td>\n      <td>Final</td>\n      <td>Rajasthan Royals</td>\n      <td>Gujarat Titans</td>\n      <td>Narendra Modi Stadium, Ahmedabad</td>\n      <td>Rajasthan Royals</td>\n      <td>bat</td>\n      <td>...</td>\n      <td>0</td>\n      <td>1</td>\n      <td>1</td>\n      <td>0</td>\n      <td>0</td>\n      <td>NaN</td>\n      <td>NaN</td>\n      <td>NaN</td>\n      <td>Rajasthan Royals</td>\n      <td>Gujarat Titans</td>\n    </tr>\n    <tr>\n      <th>2</th>\n      <td>1312200</td>\n      <td>Ahmedabad</td>\n      <td>2022-05-29</td>\n      <td>2022</td>\n      <td>Final</td>\n      <td>Rajasthan Royals</td>\n      <td>Gujarat Titans</td>\n      <td>Narendra Modi Stadium, Ahmedabad</td>\n      <td>Rajasthan Royals</td>\n      <td>bat</td>\n      <td>...</td>\n      <td>1</td>\n      <td>0</td>\n      <td>1</td>\n      <td>0</td>\n      <td>0</td>\n      <td>NaN</td>\n      <td>NaN</td>\n      <td>NaN</td>\n      <td>Rajasthan Royals</td>\n      <td>Gujarat Titans</td>\n    </tr>\n    <tr>\n      <th>3</th>\n      <td>1312200</td>\n      <td>Ahmedabad</td>\n      <td>2022-05-29</td>\n      <td>2022</td>\n      <td>Final</td>\n      <td>Rajasthan Royals</td>\n      <td>Gujarat Titans</td>\n      <td>Narendra Modi Stadium, Ahmedabad</td>\n      <td>Rajasthan Royals</td>\n      <td>bat</td>\n      <td>...</td>\n      <td>0</td>\n      <td>0</td>\n      <td>0</td>\n      <td>0</td>\n      <td>0</td>\n      <td>NaN</td>\n      <td>NaN</td>\n      <td>NaN</td>\n      <td>Rajasthan Royals</td>\n      <td>Gujarat Titans</td>\n    </tr>\n    <tr>\n      <th>4</th>\n      <td>1312200</td>\n      <td>Ahmedabad</td>\n      <td>2022-05-29</td>\n      <td>2022</td>\n      <td>Final</td>\n      <td>Rajasthan Royals</td>\n      <td>Gujarat Titans</td>\n      <td>Narendra Modi Stadium, Ahmedabad</td>\n      <td>Rajasthan Royals</td>\n      <td>bat</td>\n      <td>...</td>\n      <td>0</td>\n      <td>0</td>\n      <td>0</td>\n      <td>0</td>\n      <td>0</td>\n      <td>NaN</td>\n      <td>NaN</td>\n      <td>NaN</td>\n      <td>Rajasthan Royals</td>\n      <td>Gujarat Titans</td>\n    </tr>\n    <tr>\n      <th>...</th>\n      <td>...</td>\n      <td>...</td>\n      <td>...</td>\n      <td>...</td>\n      <td>...</td>\n      <td>...</td>\n      <td>...</td>\n      <td>...</td>\n      <td>...</td>\n      <td>...</td>\n      <td>...</td>\n      <td>...</td>\n      <td>...</td>\n      <td>...</td>\n      <td>...</td>\n      <td>...</td>\n      <td>...</td>\n      <td>...</td>\n      <td>...</td>\n      <td>...</td>\n      <td>...</td>\n    </tr>\n    <tr>\n      <th>225949</th>\n      <td>335982</td>\n      <td>Bangalore</td>\n      <td>2008-04-18</td>\n      <td>2007/08</td>\n      <td>1</td>\n      <td>Royal Challengers Bangalore</td>\n      <td>Kolkata Knight Riders</td>\n      <td>M Chinnaswamy Stadium</td>\n      <td>Royal Challengers Bangalore</td>\n      <td>field</td>\n      <td>...</td>\n      <td>0</td>\n      <td>1</td>\n      <td>1</td>\n      <td>0</td>\n      <td>0</td>\n      <td>NaN</td>\n      <td>NaN</td>\n      <td>NaN</td>\n      <td>Royal Challengers Bangalore</td>\n      <td>Kolkata Knight Riders</td>\n    </tr>\n    <tr>\n      <th>225950</th>\n      <td>335982</td>\n      <td>Bangalore</td>\n      <td>2008-04-18</td>\n      <td>2007/08</td>\n      <td>1</td>\n      <td>Royal Challengers Bangalore</td>\n      <td>Kolkata Knight Riders</td>\n      <td>M Chinnaswamy Stadium</td>\n      <td>Royal Challengers Bangalore</td>\n      <td>field</td>\n      <td>...</td>\n      <td>1</td>\n      <td>0</td>\n      <td>1</td>\n      <td>0</td>\n      <td>0</td>\n      <td>NaN</td>\n      <td>NaN</td>\n      <td>NaN</td>\n      <td>Royal Challengers Bangalore</td>\n      <td>Kolkata Knight Riders</td>\n    </tr>\n    <tr>\n      <th>225951</th>\n      <td>335982</td>\n      <td>Bangalore</td>\n      <td>2008-04-18</td>\n      <td>2007/08</td>\n      <td>1</td>\n      <td>Royal Challengers Bangalore</td>\n      <td>Kolkata Knight Riders</td>\n      <td>M Chinnaswamy Stadium</td>\n      <td>Royal Challengers Bangalore</td>\n      <td>field</td>\n      <td>...</td>\n      <td>0</td>\n      <td>0</td>\n      <td>0</td>\n      <td>0</td>\n      <td>0</td>\n      <td>NaN</td>\n      <td>NaN</td>\n      <td>NaN</td>\n      <td>Royal Challengers Bangalore</td>\n      <td>Kolkata Knight Riders</td>\n    </tr>\n    <tr>\n      <th>225952</th>\n      <td>335982</td>\n      <td>Bangalore</td>\n      <td>2008-04-18</td>\n      <td>2007/08</td>\n      <td>1</td>\n      <td>Royal Challengers Bangalore</td>\n      <td>Kolkata Knight Riders</td>\n      <td>M Chinnaswamy Stadium</td>\n      <td>Royal Challengers Bangalore</td>\n      <td>field</td>\n      <td>...</td>\n      <td>0</td>\n      <td>1</td>\n      <td>1</td>\n      <td>0</td>\n      <td>0</td>\n      <td>NaN</td>\n      <td>NaN</td>\n      <td>NaN</td>\n      <td>Royal Challengers Bangalore</td>\n      <td>Kolkata Knight Riders</td>\n    </tr>\n    <tr>\n      <th>225953</th>\n      <td>335982</td>\n      <td>Bangalore</td>\n      <td>2008-04-18</td>\n      <td>2007/08</td>\n      <td>1</td>\n      <td>Royal Challengers Bangalore</td>\n      <td>Kolkata Knight Riders</td>\n      <td>M Chinnaswamy Stadium</td>\n      <td>Royal Challengers Bangalore</td>\n      <td>field</td>\n      <td>...</td>\n      <td>0</td>\n      <td>0</td>\n      <td>0</td>\n      <td>0</td>\n      <td>1</td>\n      <td>SB Joshi</td>\n      <td>caught</td>\n      <td>BB McCullum</td>\n      <td>Royal Challengers Bangalore</td>\n      <td>Kolkata Knight Riders</td>\n    </tr>\n  </tbody>\n</table>\n<p>225954 rows × 37 columns</p>\n</div>"
          },
          "metadata": {}
        }
      ],
      "execution_count": 41,
      "metadata": {
        "jupyter": {
          "source_hidden": false,
          "outputs_hidden": false
        },
        "nteract": {
          "transient": {
            "deleting": false
          }
        },
        "gather": {
          "logged": 1676794397993
        }
      }
    },
    {
      "cell_type": "code",
      "source": [
        "delivery_df"
      ],
      "outputs": [
        {
          "output_type": "execute_result",
          "execution_count": 42,
          "data": {
            "text/plain": "             ID  innings  overs  ballnumber       batter          bowler  \\\n0       1312200        1      0           1  YBK Jaiswal  Mohammed Shami   \n1       1312200        1      0           2  YBK Jaiswal  Mohammed Shami   \n2       1312200        1      0           3   JC Buttler  Mohammed Shami   \n3       1312200        1      0           4  YBK Jaiswal  Mohammed Shami   \n4       1312200        1      0           5  YBK Jaiswal  Mohammed Shami   \n...         ...      ...    ...         ...          ...             ...   \n225949   335982        2     14           5      P Kumar        I Sharma   \n225950   335982        2     14           6     SB Joshi        I Sharma   \n225951   335982        2     14           7      P Kumar        I Sharma   \n225952   335982        2     15           1     SB Joshi       LR Shukla   \n225953   335982        2     15           2     SB Joshi       LR Shukla   \n\n        non-striker extra_type  batsman_run  extras_run  total_run  \\\n0        JC Buttler        NaN            0           0          0   \n1        JC Buttler    legbyes            0           1          1   \n2       YBK Jaiswal        NaN            1           0          1   \n3        JC Buttler        NaN            0           0          0   \n4        JC Buttler        NaN            0           0          0   \n...             ...        ...          ...         ...        ...   \n225949     SB Joshi    legbyes            0           1          1   \n225950      P Kumar        NaN            1           0          1   \n225951     SB Joshi        NaN            0           0          0   \n225952      P Kumar      wides            0           1          1   \n225953      P Kumar        NaN            0           0          0   \n\n        non_boundary  isWicketDelivery player_out    kind fielders_involved  \\\n0                  0                 0        NaN     NaN               NaN   \n1                  0                 0        NaN     NaN               NaN   \n2                  0                 0        NaN     NaN               NaN   \n3                  0                 0        NaN     NaN               NaN   \n4                  0                 0        NaN     NaN               NaN   \n...              ...               ...        ...     ...               ...   \n225949             0                 0        NaN     NaN               NaN   \n225950             0                 0        NaN     NaN               NaN   \n225951             0                 0        NaN     NaN               NaN   \n225952             0                 0        NaN     NaN               NaN   \n225953             0                 1   SB Joshi  caught       BB McCullum   \n\n                        BattingTeam  \n0                  Rajasthan Royals  \n1                  Rajasthan Royals  \n2                  Rajasthan Royals  \n3                  Rajasthan Royals  \n4                  Rajasthan Royals  \n...                             ...  \n225949  Royal Challengers Bangalore  \n225950  Royal Challengers Bangalore  \n225951  Royal Challengers Bangalore  \n225952  Royal Challengers Bangalore  \n225953  Royal Challengers Bangalore  \n\n[225954 rows x 17 columns]",
            "text/html": "<div>\n<style scoped>\n    .dataframe tbody tr th:only-of-type {\n        vertical-align: middle;\n    }\n\n    .dataframe tbody tr th {\n        vertical-align: top;\n    }\n\n    .dataframe thead th {\n        text-align: right;\n    }\n</style>\n<table border=\"1\" class=\"dataframe\">\n  <thead>\n    <tr style=\"text-align: right;\">\n      <th></th>\n      <th>ID</th>\n      <th>innings</th>\n      <th>overs</th>\n      <th>ballnumber</th>\n      <th>batter</th>\n      <th>bowler</th>\n      <th>non-striker</th>\n      <th>extra_type</th>\n      <th>batsman_run</th>\n      <th>extras_run</th>\n      <th>total_run</th>\n      <th>non_boundary</th>\n      <th>isWicketDelivery</th>\n      <th>player_out</th>\n      <th>kind</th>\n      <th>fielders_involved</th>\n      <th>BattingTeam</th>\n    </tr>\n  </thead>\n  <tbody>\n    <tr>\n      <th>0</th>\n      <td>1312200</td>\n      <td>1</td>\n      <td>0</td>\n      <td>1</td>\n      <td>YBK Jaiswal</td>\n      <td>Mohammed Shami</td>\n      <td>JC Buttler</td>\n      <td>NaN</td>\n      <td>0</td>\n      <td>0</td>\n      <td>0</td>\n      <td>0</td>\n      <td>0</td>\n      <td>NaN</td>\n      <td>NaN</td>\n      <td>NaN</td>\n      <td>Rajasthan Royals</td>\n    </tr>\n    <tr>\n      <th>1</th>\n      <td>1312200</td>\n      <td>1</td>\n      <td>0</td>\n      <td>2</td>\n      <td>YBK Jaiswal</td>\n      <td>Mohammed Shami</td>\n      <td>JC Buttler</td>\n      <td>legbyes</td>\n      <td>0</td>\n      <td>1</td>\n      <td>1</td>\n      <td>0</td>\n      <td>0</td>\n      <td>NaN</td>\n      <td>NaN</td>\n      <td>NaN</td>\n      <td>Rajasthan Royals</td>\n    </tr>\n    <tr>\n      <th>2</th>\n      <td>1312200</td>\n      <td>1</td>\n      <td>0</td>\n      <td>3</td>\n      <td>JC Buttler</td>\n      <td>Mohammed Shami</td>\n      <td>YBK Jaiswal</td>\n      <td>NaN</td>\n      <td>1</td>\n      <td>0</td>\n      <td>1</td>\n      <td>0</td>\n      <td>0</td>\n      <td>NaN</td>\n      <td>NaN</td>\n      <td>NaN</td>\n      <td>Rajasthan Royals</td>\n    </tr>\n    <tr>\n      <th>3</th>\n      <td>1312200</td>\n      <td>1</td>\n      <td>0</td>\n      <td>4</td>\n      <td>YBK Jaiswal</td>\n      <td>Mohammed Shami</td>\n      <td>JC Buttler</td>\n      <td>NaN</td>\n      <td>0</td>\n      <td>0</td>\n      <td>0</td>\n      <td>0</td>\n      <td>0</td>\n      <td>NaN</td>\n      <td>NaN</td>\n      <td>NaN</td>\n      <td>Rajasthan Royals</td>\n    </tr>\n    <tr>\n      <th>4</th>\n      <td>1312200</td>\n      <td>1</td>\n      <td>0</td>\n      <td>5</td>\n      <td>YBK Jaiswal</td>\n      <td>Mohammed Shami</td>\n      <td>JC Buttler</td>\n      <td>NaN</td>\n      <td>0</td>\n      <td>0</td>\n      <td>0</td>\n      <td>0</td>\n      <td>0</td>\n      <td>NaN</td>\n      <td>NaN</td>\n      <td>NaN</td>\n      <td>Rajasthan Royals</td>\n    </tr>\n    <tr>\n      <th>...</th>\n      <td>...</td>\n      <td>...</td>\n      <td>...</td>\n      <td>...</td>\n      <td>...</td>\n      <td>...</td>\n      <td>...</td>\n      <td>...</td>\n      <td>...</td>\n      <td>...</td>\n      <td>...</td>\n      <td>...</td>\n      <td>...</td>\n      <td>...</td>\n      <td>...</td>\n      <td>...</td>\n      <td>...</td>\n    </tr>\n    <tr>\n      <th>225949</th>\n      <td>335982</td>\n      <td>2</td>\n      <td>14</td>\n      <td>5</td>\n      <td>P Kumar</td>\n      <td>I Sharma</td>\n      <td>SB Joshi</td>\n      <td>legbyes</td>\n      <td>0</td>\n      <td>1</td>\n      <td>1</td>\n      <td>0</td>\n      <td>0</td>\n      <td>NaN</td>\n      <td>NaN</td>\n      <td>NaN</td>\n      <td>Royal Challengers Bangalore</td>\n    </tr>\n    <tr>\n      <th>225950</th>\n      <td>335982</td>\n      <td>2</td>\n      <td>14</td>\n      <td>6</td>\n      <td>SB Joshi</td>\n      <td>I Sharma</td>\n      <td>P Kumar</td>\n      <td>NaN</td>\n      <td>1</td>\n      <td>0</td>\n      <td>1</td>\n      <td>0</td>\n      <td>0</td>\n      <td>NaN</td>\n      <td>NaN</td>\n      <td>NaN</td>\n      <td>Royal Challengers Bangalore</td>\n    </tr>\n    <tr>\n      <th>225951</th>\n      <td>335982</td>\n      <td>2</td>\n      <td>14</td>\n      <td>7</td>\n      <td>P Kumar</td>\n      <td>I Sharma</td>\n      <td>SB Joshi</td>\n      <td>NaN</td>\n      <td>0</td>\n      <td>0</td>\n      <td>0</td>\n      <td>0</td>\n      <td>0</td>\n      <td>NaN</td>\n      <td>NaN</td>\n      <td>NaN</td>\n      <td>Royal Challengers Bangalore</td>\n    </tr>\n    <tr>\n      <th>225952</th>\n      <td>335982</td>\n      <td>2</td>\n      <td>15</td>\n      <td>1</td>\n      <td>SB Joshi</td>\n      <td>LR Shukla</td>\n      <td>P Kumar</td>\n      <td>wides</td>\n      <td>0</td>\n      <td>1</td>\n      <td>1</td>\n      <td>0</td>\n      <td>0</td>\n      <td>NaN</td>\n      <td>NaN</td>\n      <td>NaN</td>\n      <td>Royal Challengers Bangalore</td>\n    </tr>\n    <tr>\n      <th>225953</th>\n      <td>335982</td>\n      <td>2</td>\n      <td>15</td>\n      <td>2</td>\n      <td>SB Joshi</td>\n      <td>LR Shukla</td>\n      <td>P Kumar</td>\n      <td>NaN</td>\n      <td>0</td>\n      <td>0</td>\n      <td>0</td>\n      <td>0</td>\n      <td>1</td>\n      <td>SB Joshi</td>\n      <td>caught</td>\n      <td>BB McCullum</td>\n      <td>Royal Challengers Bangalore</td>\n    </tr>\n  </tbody>\n</table>\n<p>225954 rows × 17 columns</p>\n</div>"
          },
          "metadata": {}
        }
      ],
      "execution_count": 42,
      "metadata": {
        "jupyter": {
          "source_hidden": false,
          "outputs_hidden": false
        },
        "nteract": {
          "transient": {
            "deleting": false
          }
        },
        "gather": {
          "logged": 1676794398295
        }
      }
    },
    {
      "cell_type": "code",
      "source": [
        "delivery_df = match_df[['ID','innings','overs','ballnumber','batter','bowler','non-striker','extra_type','batsman_run','extras_run','total_run','non_boundary','isWicketDelivery','player_out','kind','fielders_involved','BattingTeam','BowlingTeam']]"
      ],
      "outputs": [],
      "execution_count": 43,
      "metadata": {
        "jupyter": {
          "source_hidden": false,
          "outputs_hidden": false
        },
        "nteract": {
          "transient": {
            "deleting": false
          }
        },
        "gather": {
          "logged": 1676794398569
        }
      }
    },
    {
      "cell_type": "code",
      "source": [
        "delivery_df"
      ],
      "outputs": [
        {
          "output_type": "execute_result",
          "execution_count": 44,
          "data": {
            "text/plain": "             ID  innings  overs  ballnumber       batter          bowler  \\\n0       1312200        1      0           1  YBK Jaiswal  Mohammed Shami   \n1       1312200        1      0           2  YBK Jaiswal  Mohammed Shami   \n2       1312200        1      0           3   JC Buttler  Mohammed Shami   \n3       1312200        1      0           4  YBK Jaiswal  Mohammed Shami   \n4       1312200        1      0           5  YBK Jaiswal  Mohammed Shami   \n...         ...      ...    ...         ...          ...             ...   \n225949   335982        2     14           5      P Kumar        I Sharma   \n225950   335982        2     14           6     SB Joshi        I Sharma   \n225951   335982        2     14           7      P Kumar        I Sharma   \n225952   335982        2     15           1     SB Joshi       LR Shukla   \n225953   335982        2     15           2     SB Joshi       LR Shukla   \n\n        non-striker extra_type  batsman_run  extras_run  total_run  \\\n0        JC Buttler        NaN            0           0          0   \n1        JC Buttler    legbyes            0           1          1   \n2       YBK Jaiswal        NaN            1           0          1   \n3        JC Buttler        NaN            0           0          0   \n4        JC Buttler        NaN            0           0          0   \n...             ...        ...          ...         ...        ...   \n225949     SB Joshi    legbyes            0           1          1   \n225950      P Kumar        NaN            1           0          1   \n225951     SB Joshi        NaN            0           0          0   \n225952      P Kumar      wides            0           1          1   \n225953      P Kumar        NaN            0           0          0   \n\n        non_boundary  isWicketDelivery player_out    kind fielders_involved  \\\n0                  0                 0        NaN     NaN               NaN   \n1                  0                 0        NaN     NaN               NaN   \n2                  0                 0        NaN     NaN               NaN   \n3                  0                 0        NaN     NaN               NaN   \n4                  0                 0        NaN     NaN               NaN   \n...              ...               ...        ...     ...               ...   \n225949             0                 0        NaN     NaN               NaN   \n225950             0                 0        NaN     NaN               NaN   \n225951             0                 0        NaN     NaN               NaN   \n225952             0                 0        NaN     NaN               NaN   \n225953             0                 1   SB Joshi  caught       BB McCullum   \n\n                        BattingTeam            BowlingTeam  \n0                  Rajasthan Royals         Gujarat Titans  \n1                  Rajasthan Royals         Gujarat Titans  \n2                  Rajasthan Royals         Gujarat Titans  \n3                  Rajasthan Royals         Gujarat Titans  \n4                  Rajasthan Royals         Gujarat Titans  \n...                             ...                    ...  \n225949  Royal Challengers Bangalore  Kolkata Knight Riders  \n225950  Royal Challengers Bangalore  Kolkata Knight Riders  \n225951  Royal Challengers Bangalore  Kolkata Knight Riders  \n225952  Royal Challengers Bangalore  Kolkata Knight Riders  \n225953  Royal Challengers Bangalore  Kolkata Knight Riders  \n\n[225954 rows x 18 columns]",
            "text/html": "<div>\n<style scoped>\n    .dataframe tbody tr th:only-of-type {\n        vertical-align: middle;\n    }\n\n    .dataframe tbody tr th {\n        vertical-align: top;\n    }\n\n    .dataframe thead th {\n        text-align: right;\n    }\n</style>\n<table border=\"1\" class=\"dataframe\">\n  <thead>\n    <tr style=\"text-align: right;\">\n      <th></th>\n      <th>ID</th>\n      <th>innings</th>\n      <th>overs</th>\n      <th>ballnumber</th>\n      <th>batter</th>\n      <th>bowler</th>\n      <th>non-striker</th>\n      <th>extra_type</th>\n      <th>batsman_run</th>\n      <th>extras_run</th>\n      <th>total_run</th>\n      <th>non_boundary</th>\n      <th>isWicketDelivery</th>\n      <th>player_out</th>\n      <th>kind</th>\n      <th>fielders_involved</th>\n      <th>BattingTeam</th>\n      <th>BowlingTeam</th>\n    </tr>\n  </thead>\n  <tbody>\n    <tr>\n      <th>0</th>\n      <td>1312200</td>\n      <td>1</td>\n      <td>0</td>\n      <td>1</td>\n      <td>YBK Jaiswal</td>\n      <td>Mohammed Shami</td>\n      <td>JC Buttler</td>\n      <td>NaN</td>\n      <td>0</td>\n      <td>0</td>\n      <td>0</td>\n      <td>0</td>\n      <td>0</td>\n      <td>NaN</td>\n      <td>NaN</td>\n      <td>NaN</td>\n      <td>Rajasthan Royals</td>\n      <td>Gujarat Titans</td>\n    </tr>\n    <tr>\n      <th>1</th>\n      <td>1312200</td>\n      <td>1</td>\n      <td>0</td>\n      <td>2</td>\n      <td>YBK Jaiswal</td>\n      <td>Mohammed Shami</td>\n      <td>JC Buttler</td>\n      <td>legbyes</td>\n      <td>0</td>\n      <td>1</td>\n      <td>1</td>\n      <td>0</td>\n      <td>0</td>\n      <td>NaN</td>\n      <td>NaN</td>\n      <td>NaN</td>\n      <td>Rajasthan Royals</td>\n      <td>Gujarat Titans</td>\n    </tr>\n    <tr>\n      <th>2</th>\n      <td>1312200</td>\n      <td>1</td>\n      <td>0</td>\n      <td>3</td>\n      <td>JC Buttler</td>\n      <td>Mohammed Shami</td>\n      <td>YBK Jaiswal</td>\n      <td>NaN</td>\n      <td>1</td>\n      <td>0</td>\n      <td>1</td>\n      <td>0</td>\n      <td>0</td>\n      <td>NaN</td>\n      <td>NaN</td>\n      <td>NaN</td>\n      <td>Rajasthan Royals</td>\n      <td>Gujarat Titans</td>\n    </tr>\n    <tr>\n      <th>3</th>\n      <td>1312200</td>\n      <td>1</td>\n      <td>0</td>\n      <td>4</td>\n      <td>YBK Jaiswal</td>\n      <td>Mohammed Shami</td>\n      <td>JC Buttler</td>\n      <td>NaN</td>\n      <td>0</td>\n      <td>0</td>\n      <td>0</td>\n      <td>0</td>\n      <td>0</td>\n      <td>NaN</td>\n      <td>NaN</td>\n      <td>NaN</td>\n      <td>Rajasthan Royals</td>\n      <td>Gujarat Titans</td>\n    </tr>\n    <tr>\n      <th>4</th>\n      <td>1312200</td>\n      <td>1</td>\n      <td>0</td>\n      <td>5</td>\n      <td>YBK Jaiswal</td>\n      <td>Mohammed Shami</td>\n      <td>JC Buttler</td>\n      <td>NaN</td>\n      <td>0</td>\n      <td>0</td>\n      <td>0</td>\n      <td>0</td>\n      <td>0</td>\n      <td>NaN</td>\n      <td>NaN</td>\n      <td>NaN</td>\n      <td>Rajasthan Royals</td>\n      <td>Gujarat Titans</td>\n    </tr>\n    <tr>\n      <th>...</th>\n      <td>...</td>\n      <td>...</td>\n      <td>...</td>\n      <td>...</td>\n      <td>...</td>\n      <td>...</td>\n      <td>...</td>\n      <td>...</td>\n      <td>...</td>\n      <td>...</td>\n      <td>...</td>\n      <td>...</td>\n      <td>...</td>\n      <td>...</td>\n      <td>...</td>\n      <td>...</td>\n      <td>...</td>\n      <td>...</td>\n    </tr>\n    <tr>\n      <th>225949</th>\n      <td>335982</td>\n      <td>2</td>\n      <td>14</td>\n      <td>5</td>\n      <td>P Kumar</td>\n      <td>I Sharma</td>\n      <td>SB Joshi</td>\n      <td>legbyes</td>\n      <td>0</td>\n      <td>1</td>\n      <td>1</td>\n      <td>0</td>\n      <td>0</td>\n      <td>NaN</td>\n      <td>NaN</td>\n      <td>NaN</td>\n      <td>Royal Challengers Bangalore</td>\n      <td>Kolkata Knight Riders</td>\n    </tr>\n    <tr>\n      <th>225950</th>\n      <td>335982</td>\n      <td>2</td>\n      <td>14</td>\n      <td>6</td>\n      <td>SB Joshi</td>\n      <td>I Sharma</td>\n      <td>P Kumar</td>\n      <td>NaN</td>\n      <td>1</td>\n      <td>0</td>\n      <td>1</td>\n      <td>0</td>\n      <td>0</td>\n      <td>NaN</td>\n      <td>NaN</td>\n      <td>NaN</td>\n      <td>Royal Challengers Bangalore</td>\n      <td>Kolkata Knight Riders</td>\n    </tr>\n    <tr>\n      <th>225951</th>\n      <td>335982</td>\n      <td>2</td>\n      <td>14</td>\n      <td>7</td>\n      <td>P Kumar</td>\n      <td>I Sharma</td>\n      <td>SB Joshi</td>\n      <td>NaN</td>\n      <td>0</td>\n      <td>0</td>\n      <td>0</td>\n      <td>0</td>\n      <td>0</td>\n      <td>NaN</td>\n      <td>NaN</td>\n      <td>NaN</td>\n      <td>Royal Challengers Bangalore</td>\n      <td>Kolkata Knight Riders</td>\n    </tr>\n    <tr>\n      <th>225952</th>\n      <td>335982</td>\n      <td>2</td>\n      <td>15</td>\n      <td>1</td>\n      <td>SB Joshi</td>\n      <td>LR Shukla</td>\n      <td>P Kumar</td>\n      <td>wides</td>\n      <td>0</td>\n      <td>1</td>\n      <td>1</td>\n      <td>0</td>\n      <td>0</td>\n      <td>NaN</td>\n      <td>NaN</td>\n      <td>NaN</td>\n      <td>Royal Challengers Bangalore</td>\n      <td>Kolkata Knight Riders</td>\n    </tr>\n    <tr>\n      <th>225953</th>\n      <td>335982</td>\n      <td>2</td>\n      <td>15</td>\n      <td>2</td>\n      <td>SB Joshi</td>\n      <td>LR Shukla</td>\n      <td>P Kumar</td>\n      <td>NaN</td>\n      <td>0</td>\n      <td>0</td>\n      <td>0</td>\n      <td>0</td>\n      <td>1</td>\n      <td>SB Joshi</td>\n      <td>caught</td>\n      <td>BB McCullum</td>\n      <td>Royal Challengers Bangalore</td>\n      <td>Kolkata Knight Riders</td>\n    </tr>\n  </tbody>\n</table>\n<p>225954 rows × 18 columns</p>\n</div>"
          },
          "metadata": {}
        }
      ],
      "execution_count": 44,
      "metadata": {
        "jupyter": {
          "source_hidden": false,
          "outputs_hidden": false
        },
        "nteract": {
          "transient": {
            "deleting": false
          }
        },
        "gather": {
          "logged": 1676794402019
        }
      }
    },
    {
      "cell_type": "code",
      "source": [
        "match_df=match_df[['ID','City','Date','Season','MatchNumber','Team1','Team2','Venue','TossWinner','TossDecision','SuperOver','WinningTeam','WonBy','Margin','method','Player_of_Match']]"
      ],
      "outputs": [],
      "execution_count": 45,
      "metadata": {
        "jupyter": {
          "source_hidden": false,
          "outputs_hidden": false
        },
        "nteract": {
          "transient": {
            "deleting": false
          }
        },
        "gather": {
          "logged": 1676794402485
        }
      }
    },
    {
      "cell_type": "code",
      "source": [
        "match_df"
      ],
      "outputs": [
        {
          "output_type": "execute_result",
          "execution_count": 46,
          "data": {
            "text/plain": "             ID       City        Date   Season MatchNumber  \\\n0       1312200  Ahmedabad  2022-05-29     2022       Final   \n1       1312200  Ahmedabad  2022-05-29     2022       Final   \n2       1312200  Ahmedabad  2022-05-29     2022       Final   \n3       1312200  Ahmedabad  2022-05-29     2022       Final   \n4       1312200  Ahmedabad  2022-05-29     2022       Final   \n...         ...        ...         ...      ...         ...   \n225949   335982  Bangalore  2008-04-18  2007/08           1   \n225950   335982  Bangalore  2008-04-18  2007/08           1   \n225951   335982  Bangalore  2008-04-18  2007/08           1   \n225952   335982  Bangalore  2008-04-18  2007/08           1   \n225953   335982  Bangalore  2008-04-18  2007/08           1   \n\n                              Team1                  Team2  \\\n0                  Rajasthan Royals         Gujarat Titans   \n1                  Rajasthan Royals         Gujarat Titans   \n2                  Rajasthan Royals         Gujarat Titans   \n3                  Rajasthan Royals         Gujarat Titans   \n4                  Rajasthan Royals         Gujarat Titans   \n...                             ...                    ...   \n225949  Royal Challengers Bangalore  Kolkata Knight Riders   \n225950  Royal Challengers Bangalore  Kolkata Knight Riders   \n225951  Royal Challengers Bangalore  Kolkata Knight Riders   \n225952  Royal Challengers Bangalore  Kolkata Knight Riders   \n225953  Royal Challengers Bangalore  Kolkata Knight Riders   \n\n                                   Venue                   TossWinner  \\\n0       Narendra Modi Stadium, Ahmedabad             Rajasthan Royals   \n1       Narendra Modi Stadium, Ahmedabad             Rajasthan Royals   \n2       Narendra Modi Stadium, Ahmedabad             Rajasthan Royals   \n3       Narendra Modi Stadium, Ahmedabad             Rajasthan Royals   \n4       Narendra Modi Stadium, Ahmedabad             Rajasthan Royals   \n...                                  ...                          ...   \n225949             M Chinnaswamy Stadium  Royal Challengers Bangalore   \n225950             M Chinnaswamy Stadium  Royal Challengers Bangalore   \n225951             M Chinnaswamy Stadium  Royal Challengers Bangalore   \n225952             M Chinnaswamy Stadium  Royal Challengers Bangalore   \n225953             M Chinnaswamy Stadium  Royal Challengers Bangalore   \n\n       TossDecision SuperOver            WinningTeam    WonBy  Margin method  \\\n0               bat         N         Gujarat Titans  Wickets     7.0    NaN   \n1               bat         N         Gujarat Titans  Wickets     7.0    NaN   \n2               bat         N         Gujarat Titans  Wickets     7.0    NaN   \n3               bat         N         Gujarat Titans  Wickets     7.0    NaN   \n4               bat         N         Gujarat Titans  Wickets     7.0    NaN   \n...             ...       ...                    ...      ...     ...    ...   \n225949        field         N  Kolkata Knight Riders     Runs   140.0    NaN   \n225950        field         N  Kolkata Knight Riders     Runs   140.0    NaN   \n225951        field         N  Kolkata Knight Riders     Runs   140.0    NaN   \n225952        field         N  Kolkata Knight Riders     Runs   140.0    NaN   \n225953        field         N  Kolkata Knight Riders     Runs   140.0    NaN   \n\n       Player_of_Match  \n0            HH Pandya  \n1            HH Pandya  \n2            HH Pandya  \n3            HH Pandya  \n4            HH Pandya  \n...                ...  \n225949     BB McCullum  \n225950     BB McCullum  \n225951     BB McCullum  \n225952     BB McCullum  \n225953     BB McCullum  \n\n[225954 rows x 16 columns]",
            "text/html": "<div>\n<style scoped>\n    .dataframe tbody tr th:only-of-type {\n        vertical-align: middle;\n    }\n\n    .dataframe tbody tr th {\n        vertical-align: top;\n    }\n\n    .dataframe thead th {\n        text-align: right;\n    }\n</style>\n<table border=\"1\" class=\"dataframe\">\n  <thead>\n    <tr style=\"text-align: right;\">\n      <th></th>\n      <th>ID</th>\n      <th>City</th>\n      <th>Date</th>\n      <th>Season</th>\n      <th>MatchNumber</th>\n      <th>Team1</th>\n      <th>Team2</th>\n      <th>Venue</th>\n      <th>TossWinner</th>\n      <th>TossDecision</th>\n      <th>SuperOver</th>\n      <th>WinningTeam</th>\n      <th>WonBy</th>\n      <th>Margin</th>\n      <th>method</th>\n      <th>Player_of_Match</th>\n    </tr>\n  </thead>\n  <tbody>\n    <tr>\n      <th>0</th>\n      <td>1312200</td>\n      <td>Ahmedabad</td>\n      <td>2022-05-29</td>\n      <td>2022</td>\n      <td>Final</td>\n      <td>Rajasthan Royals</td>\n      <td>Gujarat Titans</td>\n      <td>Narendra Modi Stadium, Ahmedabad</td>\n      <td>Rajasthan Royals</td>\n      <td>bat</td>\n      <td>N</td>\n      <td>Gujarat Titans</td>\n      <td>Wickets</td>\n      <td>7.0</td>\n      <td>NaN</td>\n      <td>HH Pandya</td>\n    </tr>\n    <tr>\n      <th>1</th>\n      <td>1312200</td>\n      <td>Ahmedabad</td>\n      <td>2022-05-29</td>\n      <td>2022</td>\n      <td>Final</td>\n      <td>Rajasthan Royals</td>\n      <td>Gujarat Titans</td>\n      <td>Narendra Modi Stadium, Ahmedabad</td>\n      <td>Rajasthan Royals</td>\n      <td>bat</td>\n      <td>N</td>\n      <td>Gujarat Titans</td>\n      <td>Wickets</td>\n      <td>7.0</td>\n      <td>NaN</td>\n      <td>HH Pandya</td>\n    </tr>\n    <tr>\n      <th>2</th>\n      <td>1312200</td>\n      <td>Ahmedabad</td>\n      <td>2022-05-29</td>\n      <td>2022</td>\n      <td>Final</td>\n      <td>Rajasthan Royals</td>\n      <td>Gujarat Titans</td>\n      <td>Narendra Modi Stadium, Ahmedabad</td>\n      <td>Rajasthan Royals</td>\n      <td>bat</td>\n      <td>N</td>\n      <td>Gujarat Titans</td>\n      <td>Wickets</td>\n      <td>7.0</td>\n      <td>NaN</td>\n      <td>HH Pandya</td>\n    </tr>\n    <tr>\n      <th>3</th>\n      <td>1312200</td>\n      <td>Ahmedabad</td>\n      <td>2022-05-29</td>\n      <td>2022</td>\n      <td>Final</td>\n      <td>Rajasthan Royals</td>\n      <td>Gujarat Titans</td>\n      <td>Narendra Modi Stadium, Ahmedabad</td>\n      <td>Rajasthan Royals</td>\n      <td>bat</td>\n      <td>N</td>\n      <td>Gujarat Titans</td>\n      <td>Wickets</td>\n      <td>7.0</td>\n      <td>NaN</td>\n      <td>HH Pandya</td>\n    </tr>\n    <tr>\n      <th>4</th>\n      <td>1312200</td>\n      <td>Ahmedabad</td>\n      <td>2022-05-29</td>\n      <td>2022</td>\n      <td>Final</td>\n      <td>Rajasthan Royals</td>\n      <td>Gujarat Titans</td>\n      <td>Narendra Modi Stadium, Ahmedabad</td>\n      <td>Rajasthan Royals</td>\n      <td>bat</td>\n      <td>N</td>\n      <td>Gujarat Titans</td>\n      <td>Wickets</td>\n      <td>7.0</td>\n      <td>NaN</td>\n      <td>HH Pandya</td>\n    </tr>\n    <tr>\n      <th>...</th>\n      <td>...</td>\n      <td>...</td>\n      <td>...</td>\n      <td>...</td>\n      <td>...</td>\n      <td>...</td>\n      <td>...</td>\n      <td>...</td>\n      <td>...</td>\n      <td>...</td>\n      <td>...</td>\n      <td>...</td>\n      <td>...</td>\n      <td>...</td>\n      <td>...</td>\n      <td>...</td>\n    </tr>\n    <tr>\n      <th>225949</th>\n      <td>335982</td>\n      <td>Bangalore</td>\n      <td>2008-04-18</td>\n      <td>2007/08</td>\n      <td>1</td>\n      <td>Royal Challengers Bangalore</td>\n      <td>Kolkata Knight Riders</td>\n      <td>M Chinnaswamy Stadium</td>\n      <td>Royal Challengers Bangalore</td>\n      <td>field</td>\n      <td>N</td>\n      <td>Kolkata Knight Riders</td>\n      <td>Runs</td>\n      <td>140.0</td>\n      <td>NaN</td>\n      <td>BB McCullum</td>\n    </tr>\n    <tr>\n      <th>225950</th>\n      <td>335982</td>\n      <td>Bangalore</td>\n      <td>2008-04-18</td>\n      <td>2007/08</td>\n      <td>1</td>\n      <td>Royal Challengers Bangalore</td>\n      <td>Kolkata Knight Riders</td>\n      <td>M Chinnaswamy Stadium</td>\n      <td>Royal Challengers Bangalore</td>\n      <td>field</td>\n      <td>N</td>\n      <td>Kolkata Knight Riders</td>\n      <td>Runs</td>\n      <td>140.0</td>\n      <td>NaN</td>\n      <td>BB McCullum</td>\n    </tr>\n    <tr>\n      <th>225951</th>\n      <td>335982</td>\n      <td>Bangalore</td>\n      <td>2008-04-18</td>\n      <td>2007/08</td>\n      <td>1</td>\n      <td>Royal Challengers Bangalore</td>\n      <td>Kolkata Knight Riders</td>\n      <td>M Chinnaswamy Stadium</td>\n      <td>Royal Challengers Bangalore</td>\n      <td>field</td>\n      <td>N</td>\n      <td>Kolkata Knight Riders</td>\n      <td>Runs</td>\n      <td>140.0</td>\n      <td>NaN</td>\n      <td>BB McCullum</td>\n    </tr>\n    <tr>\n      <th>225952</th>\n      <td>335982</td>\n      <td>Bangalore</td>\n      <td>2008-04-18</td>\n      <td>2007/08</td>\n      <td>1</td>\n      <td>Royal Challengers Bangalore</td>\n      <td>Kolkata Knight Riders</td>\n      <td>M Chinnaswamy Stadium</td>\n      <td>Royal Challengers Bangalore</td>\n      <td>field</td>\n      <td>N</td>\n      <td>Kolkata Knight Riders</td>\n      <td>Runs</td>\n      <td>140.0</td>\n      <td>NaN</td>\n      <td>BB McCullum</td>\n    </tr>\n    <tr>\n      <th>225953</th>\n      <td>335982</td>\n      <td>Bangalore</td>\n      <td>2008-04-18</td>\n      <td>2007/08</td>\n      <td>1</td>\n      <td>Royal Challengers Bangalore</td>\n      <td>Kolkata Knight Riders</td>\n      <td>M Chinnaswamy Stadium</td>\n      <td>Royal Challengers Bangalore</td>\n      <td>field</td>\n      <td>N</td>\n      <td>Kolkata Knight Riders</td>\n      <td>Runs</td>\n      <td>140.0</td>\n      <td>NaN</td>\n      <td>BB McCullum</td>\n    </tr>\n  </tbody>\n</table>\n<p>225954 rows × 16 columns</p>\n</div>"
          },
          "metadata": {}
        }
      ],
      "execution_count": 46,
      "metadata": {
        "jupyter": {
          "source_hidden": false,
          "outputs_hidden": false
        },
        "nteract": {
          "transient": {
            "deleting": false
          }
        },
        "gather": {
          "logged": 1676794402794
        }
      }
    },
    {
      "cell_type": "markdown",
      "source": [
        "#### Step 4: Checking the shape of the data"
      ],
      "metadata": {
        "nteract": {
          "transient": {
            "deleting": false
          }
        }
      }
    },
    {
      "cell_type": "code",
      "source": [
        "match_df.shape"
      ],
      "outputs": [
        {
          "output_type": "execute_result",
          "execution_count": 47,
          "data": {
            "text/plain": "(225954, 16)"
          },
          "metadata": {}
        }
      ],
      "execution_count": 47,
      "metadata": {
        "jupyter": {
          "source_hidden": false,
          "outputs_hidden": false
        },
        "nteract": {
          "transient": {
            "deleting": false
          }
        },
        "gather": {
          "logged": 1676794403065
        }
      }
    },
    {
      "cell_type": "code",
      "source": [
        "delivery_df.shape"
      ],
      "outputs": [
        {
          "output_type": "execute_result",
          "execution_count": 48,
          "data": {
            "text/plain": "(225954, 18)"
          },
          "metadata": {}
        }
      ],
      "execution_count": 48,
      "metadata": {
        "jupyter": {
          "source_hidden": false,
          "outputs_hidden": false
        },
        "nteract": {
          "transient": {
            "deleting": false
          }
        },
        "gather": {
          "logged": 1676794403317
        }
      }
    },
    {
      "cell_type": "markdown",
      "source": [
        "#### Step 5: Group by innings and display the total runs per match in each inning"
      ],
      "metadata": {
        "nteract": {
          "transient": {
            "deleting": false
          }
        }
      }
    },
    {
      "cell_type": "code",
      "source": [
        "total_scores_df = delivery_df.groupby(['ID','innings']).sum()['total_run'].reset_index()"
      ],
      "outputs": [],
      "execution_count": 49,
      "metadata": {
        "jupyter": {
          "source_hidden": false,
          "outputs_hidden": false
        },
        "nteract": {
          "transient": {
            "deleting": false
          }
        },
        "gather": {
          "logged": 1676794407518
        }
      }
    },
    {
      "cell_type": "code",
      "source": [
        "total_scores_df"
      ],
      "outputs": [
        {
          "output_type": "execute_result",
          "execution_count": 50,
          "data": {
            "text/plain": "           ID  innings  total_run\n0      335982        1        222\n1      335982        2         82\n2      335983        1        240\n3      335983        2        207\n4      335984        1        129\n...       ...      ...        ...\n1923  1312198        2        193\n1924  1312199        1        157\n1925  1312199        2        161\n1926  1312200        1        130\n1927  1312200        2        133\n\n[1928 rows x 3 columns]",
            "text/html": "<div>\n<style scoped>\n    .dataframe tbody tr th:only-of-type {\n        vertical-align: middle;\n    }\n\n    .dataframe tbody tr th {\n        vertical-align: top;\n    }\n\n    .dataframe thead th {\n        text-align: right;\n    }\n</style>\n<table border=\"1\" class=\"dataframe\">\n  <thead>\n    <tr style=\"text-align: right;\">\n      <th></th>\n      <th>ID</th>\n      <th>innings</th>\n      <th>total_run</th>\n    </tr>\n  </thead>\n  <tbody>\n    <tr>\n      <th>0</th>\n      <td>335982</td>\n      <td>1</td>\n      <td>222</td>\n    </tr>\n    <tr>\n      <th>1</th>\n      <td>335982</td>\n      <td>2</td>\n      <td>82</td>\n    </tr>\n    <tr>\n      <th>2</th>\n      <td>335983</td>\n      <td>1</td>\n      <td>240</td>\n    </tr>\n    <tr>\n      <th>3</th>\n      <td>335983</td>\n      <td>2</td>\n      <td>207</td>\n    </tr>\n    <tr>\n      <th>4</th>\n      <td>335984</td>\n      <td>1</td>\n      <td>129</td>\n    </tr>\n    <tr>\n      <th>...</th>\n      <td>...</td>\n      <td>...</td>\n      <td>...</td>\n    </tr>\n    <tr>\n      <th>1923</th>\n      <td>1312198</td>\n      <td>2</td>\n      <td>193</td>\n    </tr>\n    <tr>\n      <th>1924</th>\n      <td>1312199</td>\n      <td>1</td>\n      <td>157</td>\n    </tr>\n    <tr>\n      <th>1925</th>\n      <td>1312199</td>\n      <td>2</td>\n      <td>161</td>\n    </tr>\n    <tr>\n      <th>1926</th>\n      <td>1312200</td>\n      <td>1</td>\n      <td>130</td>\n    </tr>\n    <tr>\n      <th>1927</th>\n      <td>1312200</td>\n      <td>2</td>\n      <td>133</td>\n    </tr>\n  </tbody>\n</table>\n<p>1928 rows × 3 columns</p>\n</div>"
          },
          "metadata": {}
        }
      ],
      "execution_count": 50,
      "metadata": {
        "jupyter": {
          "source_hidden": false,
          "outputs_hidden": false
        },
        "nteract": {
          "transient": {
            "deleting": false
          }
        },
        "gather": {
          "logged": 1676794407939
        }
      }
    },
    {
      "cell_type": "markdown",
      "source": [
        "#### Step 6: Gather the data of only the first innings"
      ],
      "metadata": {
        "nteract": {
          "transient": {
            "deleting": false
          }
        }
      }
    },
    {
      "cell_type": "code",
      "source": [
        "total_scores_df = total_scores_df[total_scores_df['innings'] == 1]"
      ],
      "outputs": [],
      "execution_count": 51,
      "metadata": {
        "jupyter": {
          "source_hidden": false,
          "outputs_hidden": false
        },
        "nteract": {
          "transient": {
            "deleting": false
          }
        },
        "gather": {
          "logged": 1676794408461
        }
      }
    },
    {
      "cell_type": "code",
      "source": [
        "total_scores_df"
      ],
      "outputs": [
        {
          "output_type": "execute_result",
          "execution_count": 52,
          "data": {
            "text/plain": "           ID  innings  total_run\n0      335982        1        222\n2      335983        1        240\n4      335984        1        129\n6      335985        1        165\n8      335986        1        110\n...       ...      ...        ...\n1918  1304116        1        157\n1920  1312197        1        188\n1922  1312198        1        207\n1924  1312199        1        157\n1926  1312200        1        130\n\n[950 rows x 3 columns]",
            "text/html": "<div>\n<style scoped>\n    .dataframe tbody tr th:only-of-type {\n        vertical-align: middle;\n    }\n\n    .dataframe tbody tr th {\n        vertical-align: top;\n    }\n\n    .dataframe thead th {\n        text-align: right;\n    }\n</style>\n<table border=\"1\" class=\"dataframe\">\n  <thead>\n    <tr style=\"text-align: right;\">\n      <th></th>\n      <th>ID</th>\n      <th>innings</th>\n      <th>total_run</th>\n    </tr>\n  </thead>\n  <tbody>\n    <tr>\n      <th>0</th>\n      <td>335982</td>\n      <td>1</td>\n      <td>222</td>\n    </tr>\n    <tr>\n      <th>2</th>\n      <td>335983</td>\n      <td>1</td>\n      <td>240</td>\n    </tr>\n    <tr>\n      <th>4</th>\n      <td>335984</td>\n      <td>1</td>\n      <td>129</td>\n    </tr>\n    <tr>\n      <th>6</th>\n      <td>335985</td>\n      <td>1</td>\n      <td>165</td>\n    </tr>\n    <tr>\n      <th>8</th>\n      <td>335986</td>\n      <td>1</td>\n      <td>110</td>\n    </tr>\n    <tr>\n      <th>...</th>\n      <td>...</td>\n      <td>...</td>\n      <td>...</td>\n    </tr>\n    <tr>\n      <th>1918</th>\n      <td>1304116</td>\n      <td>1</td>\n      <td>157</td>\n    </tr>\n    <tr>\n      <th>1920</th>\n      <td>1312197</td>\n      <td>1</td>\n      <td>188</td>\n    </tr>\n    <tr>\n      <th>1922</th>\n      <td>1312198</td>\n      <td>1</td>\n      <td>207</td>\n    </tr>\n    <tr>\n      <th>1924</th>\n      <td>1312199</td>\n      <td>1</td>\n      <td>157</td>\n    </tr>\n    <tr>\n      <th>1926</th>\n      <td>1312200</td>\n      <td>1</td>\n      <td>130</td>\n    </tr>\n  </tbody>\n</table>\n<p>950 rows × 3 columns</p>\n</div>"
          },
          "metadata": {}
        }
      ],
      "execution_count": 52,
      "metadata": {
        "jupyter": {
          "source_hidden": false,
          "outputs_hidden": false
        },
        "nteract": {
          "transient": {
            "deleting": false
          }
        },
        "gather": {
          "logged": 1676794408781
        }
      }
    },
    {
      "cell_type": "markdown",
      "source": [
        "#### Step 7: Merge total_scores_df and match_df\n",
        "\n",
        "This is done to get the total runs in the match table."
      ],
      "metadata": {
        "nteract": {
          "transient": {
            "deleting": false
          }
        }
      }
    },
    {
      "cell_type": "code",
      "source": [
        "match_df = match_df.merge(total_scores_df[['ID','total_run']], on='ID')"
      ],
      "outputs": [],
      "execution_count": 53,
      "metadata": {
        "jupyter": {
          "source_hidden": false,
          "outputs_hidden": false
        },
        "nteract": {
          "transient": {
            "deleting": false
          }
        },
        "gather": {
          "logged": 1676794409049
        }
      }
    },
    {
      "cell_type": "code",
      "source": [
        "match_df"
      ],
      "outputs": [
        {
          "output_type": "execute_result",
          "execution_count": 54,
          "data": {
            "text/plain": "             ID       City        Date   Season MatchNumber  \\\n0       1312200  Ahmedabad  2022-05-29     2022       Final   \n1       1312200  Ahmedabad  2022-05-29     2022       Final   \n2       1312200  Ahmedabad  2022-05-29     2022       Final   \n3       1312200  Ahmedabad  2022-05-29     2022       Final   \n4       1312200  Ahmedabad  2022-05-29     2022       Final   \n...         ...        ...         ...      ...         ...   \n225949   335982  Bangalore  2008-04-18  2007/08           1   \n225950   335982  Bangalore  2008-04-18  2007/08           1   \n225951   335982  Bangalore  2008-04-18  2007/08           1   \n225952   335982  Bangalore  2008-04-18  2007/08           1   \n225953   335982  Bangalore  2008-04-18  2007/08           1   \n\n                              Team1                  Team2  \\\n0                  Rajasthan Royals         Gujarat Titans   \n1                  Rajasthan Royals         Gujarat Titans   \n2                  Rajasthan Royals         Gujarat Titans   \n3                  Rajasthan Royals         Gujarat Titans   \n4                  Rajasthan Royals         Gujarat Titans   \n...                             ...                    ...   \n225949  Royal Challengers Bangalore  Kolkata Knight Riders   \n225950  Royal Challengers Bangalore  Kolkata Knight Riders   \n225951  Royal Challengers Bangalore  Kolkata Knight Riders   \n225952  Royal Challengers Bangalore  Kolkata Knight Riders   \n225953  Royal Challengers Bangalore  Kolkata Knight Riders   \n\n                                   Venue                   TossWinner  \\\n0       Narendra Modi Stadium, Ahmedabad             Rajasthan Royals   \n1       Narendra Modi Stadium, Ahmedabad             Rajasthan Royals   \n2       Narendra Modi Stadium, Ahmedabad             Rajasthan Royals   \n3       Narendra Modi Stadium, Ahmedabad             Rajasthan Royals   \n4       Narendra Modi Stadium, Ahmedabad             Rajasthan Royals   \n...                                  ...                          ...   \n225949             M Chinnaswamy Stadium  Royal Challengers Bangalore   \n225950             M Chinnaswamy Stadium  Royal Challengers Bangalore   \n225951             M Chinnaswamy Stadium  Royal Challengers Bangalore   \n225952             M Chinnaswamy Stadium  Royal Challengers Bangalore   \n225953             M Chinnaswamy Stadium  Royal Challengers Bangalore   \n\n       TossDecision SuperOver            WinningTeam    WonBy  Margin method  \\\n0               bat         N         Gujarat Titans  Wickets     7.0    NaN   \n1               bat         N         Gujarat Titans  Wickets     7.0    NaN   \n2               bat         N         Gujarat Titans  Wickets     7.0    NaN   \n3               bat         N         Gujarat Titans  Wickets     7.0    NaN   \n4               bat         N         Gujarat Titans  Wickets     7.0    NaN   \n...             ...       ...                    ...      ...     ...    ...   \n225949        field         N  Kolkata Knight Riders     Runs   140.0    NaN   \n225950        field         N  Kolkata Knight Riders     Runs   140.0    NaN   \n225951        field         N  Kolkata Knight Riders     Runs   140.0    NaN   \n225952        field         N  Kolkata Knight Riders     Runs   140.0    NaN   \n225953        field         N  Kolkata Knight Riders     Runs   140.0    NaN   \n\n       Player_of_Match  total_run  \n0            HH Pandya        130  \n1            HH Pandya        130  \n2            HH Pandya        130  \n3            HH Pandya        130  \n4            HH Pandya        130  \n...                ...        ...  \n225949     BB McCullum        222  \n225950     BB McCullum        222  \n225951     BB McCullum        222  \n225952     BB McCullum        222  \n225953     BB McCullum        222  \n\n[225954 rows x 17 columns]",
            "text/html": "<div>\n<style scoped>\n    .dataframe tbody tr th:only-of-type {\n        vertical-align: middle;\n    }\n\n    .dataframe tbody tr th {\n        vertical-align: top;\n    }\n\n    .dataframe thead th {\n        text-align: right;\n    }\n</style>\n<table border=\"1\" class=\"dataframe\">\n  <thead>\n    <tr style=\"text-align: right;\">\n      <th></th>\n      <th>ID</th>\n      <th>City</th>\n      <th>Date</th>\n      <th>Season</th>\n      <th>MatchNumber</th>\n      <th>Team1</th>\n      <th>Team2</th>\n      <th>Venue</th>\n      <th>TossWinner</th>\n      <th>TossDecision</th>\n      <th>SuperOver</th>\n      <th>WinningTeam</th>\n      <th>WonBy</th>\n      <th>Margin</th>\n      <th>method</th>\n      <th>Player_of_Match</th>\n      <th>total_run</th>\n    </tr>\n  </thead>\n  <tbody>\n    <tr>\n      <th>0</th>\n      <td>1312200</td>\n      <td>Ahmedabad</td>\n      <td>2022-05-29</td>\n      <td>2022</td>\n      <td>Final</td>\n      <td>Rajasthan Royals</td>\n      <td>Gujarat Titans</td>\n      <td>Narendra Modi Stadium, Ahmedabad</td>\n      <td>Rajasthan Royals</td>\n      <td>bat</td>\n      <td>N</td>\n      <td>Gujarat Titans</td>\n      <td>Wickets</td>\n      <td>7.0</td>\n      <td>NaN</td>\n      <td>HH Pandya</td>\n      <td>130</td>\n    </tr>\n    <tr>\n      <th>1</th>\n      <td>1312200</td>\n      <td>Ahmedabad</td>\n      <td>2022-05-29</td>\n      <td>2022</td>\n      <td>Final</td>\n      <td>Rajasthan Royals</td>\n      <td>Gujarat Titans</td>\n      <td>Narendra Modi Stadium, Ahmedabad</td>\n      <td>Rajasthan Royals</td>\n      <td>bat</td>\n      <td>N</td>\n      <td>Gujarat Titans</td>\n      <td>Wickets</td>\n      <td>7.0</td>\n      <td>NaN</td>\n      <td>HH Pandya</td>\n      <td>130</td>\n    </tr>\n    <tr>\n      <th>2</th>\n      <td>1312200</td>\n      <td>Ahmedabad</td>\n      <td>2022-05-29</td>\n      <td>2022</td>\n      <td>Final</td>\n      <td>Rajasthan Royals</td>\n      <td>Gujarat Titans</td>\n      <td>Narendra Modi Stadium, Ahmedabad</td>\n      <td>Rajasthan Royals</td>\n      <td>bat</td>\n      <td>N</td>\n      <td>Gujarat Titans</td>\n      <td>Wickets</td>\n      <td>7.0</td>\n      <td>NaN</td>\n      <td>HH Pandya</td>\n      <td>130</td>\n    </tr>\n    <tr>\n      <th>3</th>\n      <td>1312200</td>\n      <td>Ahmedabad</td>\n      <td>2022-05-29</td>\n      <td>2022</td>\n      <td>Final</td>\n      <td>Rajasthan Royals</td>\n      <td>Gujarat Titans</td>\n      <td>Narendra Modi Stadium, Ahmedabad</td>\n      <td>Rajasthan Royals</td>\n      <td>bat</td>\n      <td>N</td>\n      <td>Gujarat Titans</td>\n      <td>Wickets</td>\n      <td>7.0</td>\n      <td>NaN</td>\n      <td>HH Pandya</td>\n      <td>130</td>\n    </tr>\n    <tr>\n      <th>4</th>\n      <td>1312200</td>\n      <td>Ahmedabad</td>\n      <td>2022-05-29</td>\n      <td>2022</td>\n      <td>Final</td>\n      <td>Rajasthan Royals</td>\n      <td>Gujarat Titans</td>\n      <td>Narendra Modi Stadium, Ahmedabad</td>\n      <td>Rajasthan Royals</td>\n      <td>bat</td>\n      <td>N</td>\n      <td>Gujarat Titans</td>\n      <td>Wickets</td>\n      <td>7.0</td>\n      <td>NaN</td>\n      <td>HH Pandya</td>\n      <td>130</td>\n    </tr>\n    <tr>\n      <th>...</th>\n      <td>...</td>\n      <td>...</td>\n      <td>...</td>\n      <td>...</td>\n      <td>...</td>\n      <td>...</td>\n      <td>...</td>\n      <td>...</td>\n      <td>...</td>\n      <td>...</td>\n      <td>...</td>\n      <td>...</td>\n      <td>...</td>\n      <td>...</td>\n      <td>...</td>\n      <td>...</td>\n      <td>...</td>\n    </tr>\n    <tr>\n      <th>225949</th>\n      <td>335982</td>\n      <td>Bangalore</td>\n      <td>2008-04-18</td>\n      <td>2007/08</td>\n      <td>1</td>\n      <td>Royal Challengers Bangalore</td>\n      <td>Kolkata Knight Riders</td>\n      <td>M Chinnaswamy Stadium</td>\n      <td>Royal Challengers Bangalore</td>\n      <td>field</td>\n      <td>N</td>\n      <td>Kolkata Knight Riders</td>\n      <td>Runs</td>\n      <td>140.0</td>\n      <td>NaN</td>\n      <td>BB McCullum</td>\n      <td>222</td>\n    </tr>\n    <tr>\n      <th>225950</th>\n      <td>335982</td>\n      <td>Bangalore</td>\n      <td>2008-04-18</td>\n      <td>2007/08</td>\n      <td>1</td>\n      <td>Royal Challengers Bangalore</td>\n      <td>Kolkata Knight Riders</td>\n      <td>M Chinnaswamy Stadium</td>\n      <td>Royal Challengers Bangalore</td>\n      <td>field</td>\n      <td>N</td>\n      <td>Kolkata Knight Riders</td>\n      <td>Runs</td>\n      <td>140.0</td>\n      <td>NaN</td>\n      <td>BB McCullum</td>\n      <td>222</td>\n    </tr>\n    <tr>\n      <th>225951</th>\n      <td>335982</td>\n      <td>Bangalore</td>\n      <td>2008-04-18</td>\n      <td>2007/08</td>\n      <td>1</td>\n      <td>Royal Challengers Bangalore</td>\n      <td>Kolkata Knight Riders</td>\n      <td>M Chinnaswamy Stadium</td>\n      <td>Royal Challengers Bangalore</td>\n      <td>field</td>\n      <td>N</td>\n      <td>Kolkata Knight Riders</td>\n      <td>Runs</td>\n      <td>140.0</td>\n      <td>NaN</td>\n      <td>BB McCullum</td>\n      <td>222</td>\n    </tr>\n    <tr>\n      <th>225952</th>\n      <td>335982</td>\n      <td>Bangalore</td>\n      <td>2008-04-18</td>\n      <td>2007/08</td>\n      <td>1</td>\n      <td>Royal Challengers Bangalore</td>\n      <td>Kolkata Knight Riders</td>\n      <td>M Chinnaswamy Stadium</td>\n      <td>Royal Challengers Bangalore</td>\n      <td>field</td>\n      <td>N</td>\n      <td>Kolkata Knight Riders</td>\n      <td>Runs</td>\n      <td>140.0</td>\n      <td>NaN</td>\n      <td>BB McCullum</td>\n      <td>222</td>\n    </tr>\n    <tr>\n      <th>225953</th>\n      <td>335982</td>\n      <td>Bangalore</td>\n      <td>2008-04-18</td>\n      <td>2007/08</td>\n      <td>1</td>\n      <td>Royal Challengers Bangalore</td>\n      <td>Kolkata Knight Riders</td>\n      <td>M Chinnaswamy Stadium</td>\n      <td>Royal Challengers Bangalore</td>\n      <td>field</td>\n      <td>N</td>\n      <td>Kolkata Knight Riders</td>\n      <td>Runs</td>\n      <td>140.0</td>\n      <td>NaN</td>\n      <td>BB McCullum</td>\n      <td>222</td>\n    </tr>\n  </tbody>\n</table>\n<p>225954 rows × 17 columns</p>\n</div>"
          },
          "metadata": {}
        }
      ],
      "execution_count": 54,
      "metadata": {
        "jupyter": {
          "source_hidden": false,
          "outputs_hidden": false
        },
        "nteract": {
          "transient": {
            "deleting": false
          }
        },
        "gather": {
          "logged": 1676794412573
        }
      }
    },
    {
      "cell_type": "markdown",
      "source": [
        "#### Step 8: List the unique teams"
      ],
      "metadata": {
        "nteract": {
          "transient": {
            "deleting": false
          }
        }
      }
    },
    {
      "cell_type": "code",
      "source": [
        "match_df['Team1'].unique()"
      ],
      "outputs": [
        {
          "output_type": "execute_result",
          "execution_count": 55,
          "data": {
            "text/plain": "array(['Rajasthan Royals', 'Royal Challengers Bangalore',\n       'Sunrisers Hyderabad', 'Delhi Capitals', 'Chennai Super Kings',\n       'Gujarat Titans', 'Lucknow Super Giants', 'Kolkata Knight Riders',\n       'Punjab Kings', 'Mumbai Indians', 'Kings XI Punjab',\n       'Delhi Daredevils', 'Rising Pune Supergiant', 'Gujarat Lions',\n       'Rising Pune Supergiants', 'Pune Warriors', 'Deccan Chargers',\n       'Kochi Tuskers Kerala'], dtype=object)"
          },
          "metadata": {}
        }
      ],
      "execution_count": 55,
      "metadata": {
        "jupyter": {
          "source_hidden": false,
          "outputs_hidden": false
        },
        "nteract": {
          "transient": {
            "deleting": false
          }
        },
        "gather": {
          "logged": 1676794412982
        }
      }
    },
    {
      "cell_type": "code",
      "source": [
        "teams = [\n",
        "    'Rajasthan Royals',\n",
        "    'Royal Challengers Bangalore',\n",
        "    'Sunrisers Hyderabad',\n",
        "    'Delhi Capitals',\n",
        "    'Chennai Super Kings',\n",
        "    'Gujarat Titans',\n",
        "    'Lucknow Super Giants',\n",
        "    'Kolkata Knight Riders',\n",
        "    'Punjab Kings',\n",
        "    'Mumbai Indians'\n",
        "]"
      ],
      "outputs": [],
      "execution_count": 56,
      "metadata": {
        "jupyter": {
          "source_hidden": false,
          "outputs_hidden": false
        },
        "nteract": {
          "transient": {
            "deleting": false
          }
        },
        "gather": {
          "logged": 1676794413408
        }
      }
    },
    {
      "cell_type": "code",
      "source": [
        "match_df['Team1'] = match_df['Team1'].str.replace('Delhi Daredevils','Delhi Capitals')\n",
        "match_df['Team2'] = match_df['Team2'].str.replace('Delhi Daredevils','Delhi Capitals')\n",
        "\n",
        "match_df['Team1'] = match_df['Team1'].str.replace('Deccan Chargers','Sunrisers Hyderabad')\n",
        "match_df['Team2'] = match_df['Team2'].str.replace('Deccan Chargers','Sunrisers Hyderabad')\n",
        "\n",
        "match_df['Team1'] = match_df['Team1'].str.replace('Gujarat Lions','Gujarat Titans')\n",
        "match_df['Team2'] = match_df['Team2'].str.replace('Gujarat Lions','Gujarat Titans')\n",
        "\n",
        "match_df['Team1'] = match_df['Team1'].str.replace('Kings XI Punjab','Punjab Kings')\n",
        "match_df['Team2'] = match_df['Team2'].str.replace('Kings XI Punjab','Punjab Kings')\n"
      ],
      "outputs": [],
      "execution_count": 57,
      "metadata": {
        "jupyter": {
          "source_hidden": false,
          "outputs_hidden": false
        },
        "nteract": {
          "transient": {
            "deleting": false
          }
        },
        "gather": {
          "logged": 1676794414314
        }
      }
    },
    {
      "cell_type": "markdown",
      "source": [
        "#### Step 9: Update the match_df"
      ],
      "metadata": {
        "nteract": {
          "transient": {
            "deleting": false
          }
        }
      }
    },
    {
      "cell_type": "code",
      "source": [
        "match_df[match_df['Team1'].isin(teams)]"
      ],
      "outputs": [
        {
          "output_type": "execute_result",
          "execution_count": 58,
          "data": {
            "text/plain": "             ID       City        Date   Season MatchNumber  \\\n0       1312200  Ahmedabad  2022-05-29     2022       Final   \n1       1312200  Ahmedabad  2022-05-29     2022       Final   \n2       1312200  Ahmedabad  2022-05-29     2022       Final   \n3       1312200  Ahmedabad  2022-05-29     2022       Final   \n4       1312200  Ahmedabad  2022-05-29     2022       Final   \n...         ...        ...         ...      ...         ...   \n225949   335982  Bangalore  2008-04-18  2007/08           1   \n225950   335982  Bangalore  2008-04-18  2007/08           1   \n225951   335982  Bangalore  2008-04-18  2007/08           1   \n225952   335982  Bangalore  2008-04-18  2007/08           1   \n225953   335982  Bangalore  2008-04-18  2007/08           1   \n\n                              Team1                  Team2  \\\n0                  Rajasthan Royals         Gujarat Titans   \n1                  Rajasthan Royals         Gujarat Titans   \n2                  Rajasthan Royals         Gujarat Titans   \n3                  Rajasthan Royals         Gujarat Titans   \n4                  Rajasthan Royals         Gujarat Titans   \n...                             ...                    ...   \n225949  Royal Challengers Bangalore  Kolkata Knight Riders   \n225950  Royal Challengers Bangalore  Kolkata Knight Riders   \n225951  Royal Challengers Bangalore  Kolkata Knight Riders   \n225952  Royal Challengers Bangalore  Kolkata Knight Riders   \n225953  Royal Challengers Bangalore  Kolkata Knight Riders   \n\n                                   Venue                   TossWinner  \\\n0       Narendra Modi Stadium, Ahmedabad             Rajasthan Royals   \n1       Narendra Modi Stadium, Ahmedabad             Rajasthan Royals   \n2       Narendra Modi Stadium, Ahmedabad             Rajasthan Royals   \n3       Narendra Modi Stadium, Ahmedabad             Rajasthan Royals   \n4       Narendra Modi Stadium, Ahmedabad             Rajasthan Royals   \n...                                  ...                          ...   \n225949             M Chinnaswamy Stadium  Royal Challengers Bangalore   \n225950             M Chinnaswamy Stadium  Royal Challengers Bangalore   \n225951             M Chinnaswamy Stadium  Royal Challengers Bangalore   \n225952             M Chinnaswamy Stadium  Royal Challengers Bangalore   \n225953             M Chinnaswamy Stadium  Royal Challengers Bangalore   \n\n       TossDecision SuperOver            WinningTeam    WonBy  Margin method  \\\n0               bat         N         Gujarat Titans  Wickets     7.0    NaN   \n1               bat         N         Gujarat Titans  Wickets     7.0    NaN   \n2               bat         N         Gujarat Titans  Wickets     7.0    NaN   \n3               bat         N         Gujarat Titans  Wickets     7.0    NaN   \n4               bat         N         Gujarat Titans  Wickets     7.0    NaN   \n...             ...       ...                    ...      ...     ...    ...   \n225949        field         N  Kolkata Knight Riders     Runs   140.0    NaN   \n225950        field         N  Kolkata Knight Riders     Runs   140.0    NaN   \n225951        field         N  Kolkata Knight Riders     Runs   140.0    NaN   \n225952        field         N  Kolkata Knight Riders     Runs   140.0    NaN   \n225953        field         N  Kolkata Knight Riders     Runs   140.0    NaN   \n\n       Player_of_Match  total_run  \n0            HH Pandya        130  \n1            HH Pandya        130  \n2            HH Pandya        130  \n3            HH Pandya        130  \n4            HH Pandya        130  \n...                ...        ...  \n225949     BB McCullum        222  \n225950     BB McCullum        222  \n225951     BB McCullum        222  \n225952     BB McCullum        222  \n225953     BB McCullum        222  \n\n[215614 rows x 17 columns]",
            "text/html": "<div>\n<style scoped>\n    .dataframe tbody tr th:only-of-type {\n        vertical-align: middle;\n    }\n\n    .dataframe tbody tr th {\n        vertical-align: top;\n    }\n\n    .dataframe thead th {\n        text-align: right;\n    }\n</style>\n<table border=\"1\" class=\"dataframe\">\n  <thead>\n    <tr style=\"text-align: right;\">\n      <th></th>\n      <th>ID</th>\n      <th>City</th>\n      <th>Date</th>\n      <th>Season</th>\n      <th>MatchNumber</th>\n      <th>Team1</th>\n      <th>Team2</th>\n      <th>Venue</th>\n      <th>TossWinner</th>\n      <th>TossDecision</th>\n      <th>SuperOver</th>\n      <th>WinningTeam</th>\n      <th>WonBy</th>\n      <th>Margin</th>\n      <th>method</th>\n      <th>Player_of_Match</th>\n      <th>total_run</th>\n    </tr>\n  </thead>\n  <tbody>\n    <tr>\n      <th>0</th>\n      <td>1312200</td>\n      <td>Ahmedabad</td>\n      <td>2022-05-29</td>\n      <td>2022</td>\n      <td>Final</td>\n      <td>Rajasthan Royals</td>\n      <td>Gujarat Titans</td>\n      <td>Narendra Modi Stadium, Ahmedabad</td>\n      <td>Rajasthan Royals</td>\n      <td>bat</td>\n      <td>N</td>\n      <td>Gujarat Titans</td>\n      <td>Wickets</td>\n      <td>7.0</td>\n      <td>NaN</td>\n      <td>HH Pandya</td>\n      <td>130</td>\n    </tr>\n    <tr>\n      <th>1</th>\n      <td>1312200</td>\n      <td>Ahmedabad</td>\n      <td>2022-05-29</td>\n      <td>2022</td>\n      <td>Final</td>\n      <td>Rajasthan Royals</td>\n      <td>Gujarat Titans</td>\n      <td>Narendra Modi Stadium, Ahmedabad</td>\n      <td>Rajasthan Royals</td>\n      <td>bat</td>\n      <td>N</td>\n      <td>Gujarat Titans</td>\n      <td>Wickets</td>\n      <td>7.0</td>\n      <td>NaN</td>\n      <td>HH Pandya</td>\n      <td>130</td>\n    </tr>\n    <tr>\n      <th>2</th>\n      <td>1312200</td>\n      <td>Ahmedabad</td>\n      <td>2022-05-29</td>\n      <td>2022</td>\n      <td>Final</td>\n      <td>Rajasthan Royals</td>\n      <td>Gujarat Titans</td>\n      <td>Narendra Modi Stadium, Ahmedabad</td>\n      <td>Rajasthan Royals</td>\n      <td>bat</td>\n      <td>N</td>\n      <td>Gujarat Titans</td>\n      <td>Wickets</td>\n      <td>7.0</td>\n      <td>NaN</td>\n      <td>HH Pandya</td>\n      <td>130</td>\n    </tr>\n    <tr>\n      <th>3</th>\n      <td>1312200</td>\n      <td>Ahmedabad</td>\n      <td>2022-05-29</td>\n      <td>2022</td>\n      <td>Final</td>\n      <td>Rajasthan Royals</td>\n      <td>Gujarat Titans</td>\n      <td>Narendra Modi Stadium, Ahmedabad</td>\n      <td>Rajasthan Royals</td>\n      <td>bat</td>\n      <td>N</td>\n      <td>Gujarat Titans</td>\n      <td>Wickets</td>\n      <td>7.0</td>\n      <td>NaN</td>\n      <td>HH Pandya</td>\n      <td>130</td>\n    </tr>\n    <tr>\n      <th>4</th>\n      <td>1312200</td>\n      <td>Ahmedabad</td>\n      <td>2022-05-29</td>\n      <td>2022</td>\n      <td>Final</td>\n      <td>Rajasthan Royals</td>\n      <td>Gujarat Titans</td>\n      <td>Narendra Modi Stadium, Ahmedabad</td>\n      <td>Rajasthan Royals</td>\n      <td>bat</td>\n      <td>N</td>\n      <td>Gujarat Titans</td>\n      <td>Wickets</td>\n      <td>7.0</td>\n      <td>NaN</td>\n      <td>HH Pandya</td>\n      <td>130</td>\n    </tr>\n    <tr>\n      <th>...</th>\n      <td>...</td>\n      <td>...</td>\n      <td>...</td>\n      <td>...</td>\n      <td>...</td>\n      <td>...</td>\n      <td>...</td>\n      <td>...</td>\n      <td>...</td>\n      <td>...</td>\n      <td>...</td>\n      <td>...</td>\n      <td>...</td>\n      <td>...</td>\n      <td>...</td>\n      <td>...</td>\n      <td>...</td>\n    </tr>\n    <tr>\n      <th>225949</th>\n      <td>335982</td>\n      <td>Bangalore</td>\n      <td>2008-04-18</td>\n      <td>2007/08</td>\n      <td>1</td>\n      <td>Royal Challengers Bangalore</td>\n      <td>Kolkata Knight Riders</td>\n      <td>M Chinnaswamy Stadium</td>\n      <td>Royal Challengers Bangalore</td>\n      <td>field</td>\n      <td>N</td>\n      <td>Kolkata Knight Riders</td>\n      <td>Runs</td>\n      <td>140.0</td>\n      <td>NaN</td>\n      <td>BB McCullum</td>\n      <td>222</td>\n    </tr>\n    <tr>\n      <th>225950</th>\n      <td>335982</td>\n      <td>Bangalore</td>\n      <td>2008-04-18</td>\n      <td>2007/08</td>\n      <td>1</td>\n      <td>Royal Challengers Bangalore</td>\n      <td>Kolkata Knight Riders</td>\n      <td>M Chinnaswamy Stadium</td>\n      <td>Royal Challengers Bangalore</td>\n      <td>field</td>\n      <td>N</td>\n      <td>Kolkata Knight Riders</td>\n      <td>Runs</td>\n      <td>140.0</td>\n      <td>NaN</td>\n      <td>BB McCullum</td>\n      <td>222</td>\n    </tr>\n    <tr>\n      <th>225951</th>\n      <td>335982</td>\n      <td>Bangalore</td>\n      <td>2008-04-18</td>\n      <td>2007/08</td>\n      <td>1</td>\n      <td>Royal Challengers Bangalore</td>\n      <td>Kolkata Knight Riders</td>\n      <td>M Chinnaswamy Stadium</td>\n      <td>Royal Challengers Bangalore</td>\n      <td>field</td>\n      <td>N</td>\n      <td>Kolkata Knight Riders</td>\n      <td>Runs</td>\n      <td>140.0</td>\n      <td>NaN</td>\n      <td>BB McCullum</td>\n      <td>222</td>\n    </tr>\n    <tr>\n      <th>225952</th>\n      <td>335982</td>\n      <td>Bangalore</td>\n      <td>2008-04-18</td>\n      <td>2007/08</td>\n      <td>1</td>\n      <td>Royal Challengers Bangalore</td>\n      <td>Kolkata Knight Riders</td>\n      <td>M Chinnaswamy Stadium</td>\n      <td>Royal Challengers Bangalore</td>\n      <td>field</td>\n      <td>N</td>\n      <td>Kolkata Knight Riders</td>\n      <td>Runs</td>\n      <td>140.0</td>\n      <td>NaN</td>\n      <td>BB McCullum</td>\n      <td>222</td>\n    </tr>\n    <tr>\n      <th>225953</th>\n      <td>335982</td>\n      <td>Bangalore</td>\n      <td>2008-04-18</td>\n      <td>2007/08</td>\n      <td>1</td>\n      <td>Royal Challengers Bangalore</td>\n      <td>Kolkata Knight Riders</td>\n      <td>M Chinnaswamy Stadium</td>\n      <td>Royal Challengers Bangalore</td>\n      <td>field</td>\n      <td>N</td>\n      <td>Kolkata Knight Riders</td>\n      <td>Runs</td>\n      <td>140.0</td>\n      <td>NaN</td>\n      <td>BB McCullum</td>\n      <td>222</td>\n    </tr>\n  </tbody>\n</table>\n<p>215614 rows × 17 columns</p>\n</div>"
          },
          "metadata": {}
        }
      ],
      "execution_count": 58,
      "metadata": {
        "jupyter": {
          "source_hidden": false,
          "outputs_hidden": false
        },
        "nteract": {
          "transient": {
            "deleting": false
          }
        },
        "gather": {
          "logged": 1676794414609
        }
      }
    },
    {
      "cell_type": "code",
      "source": [
        "match_df = match_df[match_df['Team1'].isin(teams)]\n",
        "match_df = match_df[match_df['Team2'].isin(teams)]\n",
        "match_df = match_df[match_df['WinningTeam'].isin(teams)]"
      ],
      "outputs": [],
      "execution_count": 59,
      "metadata": {
        "jupyter": {
          "source_hidden": false,
          "outputs_hidden": false
        },
        "nteract": {
          "transient": {
            "deleting": false
          }
        },
        "gather": {
          "logged": 1676794414873
        }
      }
    },
    {
      "cell_type": "code",
      "source": [
        "match_df.shape"
      ],
      "outputs": [
        {
          "output_type": "execute_result",
          "execution_count": 60,
          "data": {
            "text/plain": "(162553, 17)"
          },
          "metadata": {}
        }
      ],
      "execution_count": 60,
      "metadata": {
        "jupyter": {
          "source_hidden": false,
          "outputs_hidden": false
        },
        "nteract": {
          "transient": {
            "deleting": false
          }
        },
        "gather": {
          "logged": 1676794415141
        }
      }
    },
    {
      "cell_type": "code",
      "source": [
        "match_df = match_df[['ID','City','WinningTeam','total_run']]"
      ],
      "outputs": [],
      "execution_count": 61,
      "metadata": {
        "jupyter": {
          "source_hidden": false,
          "outputs_hidden": false
        },
        "nteract": {
          "transient": {
            "deleting": false
          }
        },
        "gather": {
          "logged": 1676794418230
        }
      }
    },
    {
      "cell_type": "code",
      "source": [
        "match_df"
      ],
      "outputs": [
        {
          "output_type": "execute_result",
          "execution_count": 62,
          "data": {
            "text/plain": "             ID       City            WinningTeam  total_run\n0       1312200  Ahmedabad         Gujarat Titans        130\n1       1312200  Ahmedabad         Gujarat Titans        130\n2       1312200  Ahmedabad         Gujarat Titans        130\n3       1312200  Ahmedabad         Gujarat Titans        130\n4       1312200  Ahmedabad         Gujarat Titans        130\n...         ...        ...                    ...        ...\n225949   335982  Bangalore  Kolkata Knight Riders        222\n225950   335982  Bangalore  Kolkata Knight Riders        222\n225951   335982  Bangalore  Kolkata Knight Riders        222\n225952   335982  Bangalore  Kolkata Knight Riders        222\n225953   335982  Bangalore  Kolkata Knight Riders        222\n\n[162553 rows x 4 columns]",
            "text/html": "<div>\n<style scoped>\n    .dataframe tbody tr th:only-of-type {\n        vertical-align: middle;\n    }\n\n    .dataframe tbody tr th {\n        vertical-align: top;\n    }\n\n    .dataframe thead th {\n        text-align: right;\n    }\n</style>\n<table border=\"1\" class=\"dataframe\">\n  <thead>\n    <tr style=\"text-align: right;\">\n      <th></th>\n      <th>ID</th>\n      <th>City</th>\n      <th>WinningTeam</th>\n      <th>total_run</th>\n    </tr>\n  </thead>\n  <tbody>\n    <tr>\n      <th>0</th>\n      <td>1312200</td>\n      <td>Ahmedabad</td>\n      <td>Gujarat Titans</td>\n      <td>130</td>\n    </tr>\n    <tr>\n      <th>1</th>\n      <td>1312200</td>\n      <td>Ahmedabad</td>\n      <td>Gujarat Titans</td>\n      <td>130</td>\n    </tr>\n    <tr>\n      <th>2</th>\n      <td>1312200</td>\n      <td>Ahmedabad</td>\n      <td>Gujarat Titans</td>\n      <td>130</td>\n    </tr>\n    <tr>\n      <th>3</th>\n      <td>1312200</td>\n      <td>Ahmedabad</td>\n      <td>Gujarat Titans</td>\n      <td>130</td>\n    </tr>\n    <tr>\n      <th>4</th>\n      <td>1312200</td>\n      <td>Ahmedabad</td>\n      <td>Gujarat Titans</td>\n      <td>130</td>\n    </tr>\n    <tr>\n      <th>...</th>\n      <td>...</td>\n      <td>...</td>\n      <td>...</td>\n      <td>...</td>\n    </tr>\n    <tr>\n      <th>225949</th>\n      <td>335982</td>\n      <td>Bangalore</td>\n      <td>Kolkata Knight Riders</td>\n      <td>222</td>\n    </tr>\n    <tr>\n      <th>225950</th>\n      <td>335982</td>\n      <td>Bangalore</td>\n      <td>Kolkata Knight Riders</td>\n      <td>222</td>\n    </tr>\n    <tr>\n      <th>225951</th>\n      <td>335982</td>\n      <td>Bangalore</td>\n      <td>Kolkata Knight Riders</td>\n      <td>222</td>\n    </tr>\n    <tr>\n      <th>225952</th>\n      <td>335982</td>\n      <td>Bangalore</td>\n      <td>Kolkata Knight Riders</td>\n      <td>222</td>\n    </tr>\n    <tr>\n      <th>225953</th>\n      <td>335982</td>\n      <td>Bangalore</td>\n      <td>Kolkata Knight Riders</td>\n      <td>222</td>\n    </tr>\n  </tbody>\n</table>\n<p>162553 rows × 4 columns</p>\n</div>"
          },
          "metadata": {}
        }
      ],
      "execution_count": 62,
      "metadata": {
        "jupyter": {
          "source_hidden": false,
          "outputs_hidden": false
        },
        "nteract": {
          "transient": {
            "deleting": false
          }
        },
        "gather": {
          "logged": 1676794418634
        }
      }
    },
    {
      "cell_type": "markdown",
      "source": [
        "#### Step 10: Merge delivery_df and match_df"
      ],
      "metadata": {
        "nteract": {
          "transient": {
            "deleting": false
          }
        }
      }
    },
    {
      "cell_type": "code",
      "source": [
        "delivery_df = match_df.merge(delivery_df,on='ID')"
      ],
      "outputs": [],
      "execution_count": 63,
      "metadata": {
        "jupyter": {
          "source_hidden": false,
          "outputs_hidden": false
        },
        "nteract": {
          "transient": {
            "deleting": false
          }
        },
        "gather": {
          "logged": 1676794442884
        }
      }
    },
    {
      "cell_type": "code",
      "source": [
        "delivery_df"
      ],
      "outputs": [],
      "execution_count": null,
      "metadata": {
        "jupyter": {
          "source_hidden": false,
          "outputs_hidden": false
        },
        "nteract": {
          "transient": {
            "deleting": false
          }
        },
        "gather": {
          "logged": 1676794442910
        }
      }
    },
    {
      "cell_type": "markdown",
      "source": [
        "#### Step 11: Group by second innings"
      ],
      "metadata": {
        "nteract": {
          "transient": {
            "deleting": false
          }
        }
      }
    },
    {
      "cell_type": "code",
      "source": [
        "delivery_df = delivery_df[delivery_df['innings'] == 2]"
      ],
      "outputs": [],
      "execution_count": null,
      "metadata": {
        "jupyter": {
          "source_hidden": false,
          "outputs_hidden": false
        },
        "nteract": {
          "transient": {
            "deleting": false
          }
        },
        "gather": {
          "logged": 1676793989399
        }
      }
    },
    {
      "cell_type": "code",
      "source": [
        "delivery_df"
      ],
      "outputs": [],
      "execution_count": null,
      "metadata": {
        "jupyter": {
          "source_hidden": false,
          "outputs_hidden": false
        },
        "nteract": {
          "transient": {
            "deleting": false
          }
        },
        "gather": {
          "logged": 1676793989434
        }
      }
    },
    {
      "cell_type": "markdown",
      "source": [
        "#### Step 12: Create remaining fields necessary for prediction"
      ],
      "metadata": {
        "nteract": {
          "transient": {
            "deleting": false
          }
        }
      }
    },
    {
      "cell_type": "markdown",
      "source": [
        "current score"
      ],
      "metadata": {
        "nteract": {
          "transient": {
            "deleting": false
          }
        }
      }
    },
    {
      "cell_type": "code",
      "source": [
        "delivery_df['current_score'] = delivery_df.groupby('ID').cumsum()['total_run_y']"
      ],
      "outputs": [],
      "execution_count": null,
      "metadata": {
        "jupyter": {
          "source_hidden": false,
          "outputs_hidden": false
        },
        "nteract": {
          "transient": {
            "deleting": false
          }
        },
        "gather": {
          "logged": 1676793989467
        }
      }
    },
    {
      "cell_type": "markdown",
      "source": [
        "Runs left"
      ],
      "metadata": {
        "nteract": {
          "transient": {
            "deleting": false
          }
        }
      }
    },
    {
      "cell_type": "code",
      "source": [
        "#important because i added +1\n",
        "delivery_df['runs_left'] = delivery_df['total_run_x'] - delivery_df['current_score']+1"
      ],
      "outputs": [],
      "execution_count": null,
      "metadata": {
        "jupyter": {
          "source_hidden": false,
          "outputs_hidden": false
        },
        "nteract": {
          "transient": {
            "deleting": false
          }
        },
        "gather": {
          "logged": 1676793989497
        }
      }
    },
    {
      "cell_type": "markdown",
      "source": [
        "Balls left"
      ],
      "metadata": {
        "nteract": {
          "transient": {
            "deleting": false
          }
        }
      }
    },
    {
      "cell_type": "code",
      "source": [
        "delivery_df['balls_left'] = 126 - (delivery_df['overs']*6 + delivery_df['ballnumber'])"
      ],
      "outputs": [],
      "execution_count": null,
      "metadata": {
        "jupyter": {
          "source_hidden": false,
          "outputs_hidden": false
        },
        "nteract": {
          "transient": {
            "deleting": false
          }
        },
        "gather": {
          "logged": 1676542759884
        }
      }
    },
    {
      "cell_type": "code",
      "source": [
        "delivery_df"
      ],
      "outputs": [],
      "execution_count": null,
      "metadata": {
        "jupyter": {
          "source_hidden": false,
          "outputs_hidden": false
        },
        "nteract": {
          "transient": {
            "deleting": false
          }
        },
        "gather": {
          "logged": 1676542759912
        }
      }
    },
    {
      "cell_type": "markdown",
      "source": [
        "Wickets"
      ],
      "metadata": {
        "nteract": {
          "transient": {
            "deleting": false
          }
        }
      }
    },
    {
      "cell_type": "code",
      "source": [
        "wickets = delivery_df.groupby('ID').cumsum()['isWicketDelivery'].values\n",
        "delivery_df['wickets'] = 10 - wickets"
      ],
      "outputs": [],
      "execution_count": null,
      "metadata": {
        "jupyter": {
          "source_hidden": false,
          "outputs_hidden": false
        },
        "nteract": {
          "transient": {
            "deleting": false
          }
        },
        "gather": {
          "logged": 1676542759940
        }
      }
    },
    {
      "cell_type": "code",
      "source": [
        "delivery_df"
      ],
      "outputs": [],
      "execution_count": null,
      "metadata": {
        "jupyter": {
          "source_hidden": false,
          "outputs_hidden": false
        },
        "nteract": {
          "transient": {
            "deleting": false
          }
        },
        "gather": {
          "logged": 1676542759968
        }
      }
    },
    {
      "cell_type": "markdown",
      "source": [
        "Current Run Rate"
      ],
      "metadata": {
        "nteract": {
          "transient": {
            "deleting": false
          }
        }
      }
    },
    {
      "cell_type": "code",
      "source": [
        "# current_run_rate = runs/overs\n",
        "delivery_df['current_run_rate'] = (delivery_df['current_score']*6)/(120 - delivery_df['balls_left'])"
      ],
      "outputs": [],
      "execution_count": null,
      "metadata": {
        "jupyter": {
          "source_hidden": false,
          "outputs_hidden": false
        },
        "nteract": {
          "transient": {
            "deleting": false
          }
        },
        "gather": {
          "logged": 1676542759992
        }
      }
    },
    {
      "cell_type": "markdown",
      "source": [
        "Required Run Rate"
      ],
      "metadata": {
        "nteract": {
          "transient": {
            "deleting": false
          }
        }
      }
    },
    {
      "cell_type": "code",
      "source": [
        "# required_run_rate = runs_left/overs_left\n",
        "delivery_df['required_run_rate'] = (delivery_df['runs_left']*6)/delivery_df['balls_left']"
      ],
      "outputs": [],
      "execution_count": null,
      "metadata": {
        "jupyter": {
          "source_hidden": false,
          "outputs_hidden": false
        },
        "nteract": {
          "transient": {
            "deleting": false
          }
        },
        "gather": {
          "logged": 1676542760043
        }
      }
    },
    {
      "cell_type": "markdown",
      "source": [
        "Final Result"
      ],
      "metadata": {
        "nteract": {
          "transient": {
            "deleting": false
          }
        }
      }
    },
    {
      "cell_type": "code",
      "source": [
        "def result(row):\n",
        "    if row['BattingTeam'] == row['WinningTeam']:\n",
        "        return 1 \n",
        "    else:\n",
        "        return 0"
      ],
      "outputs": [],
      "execution_count": null,
      "metadata": {
        "jupyter": {
          "source_hidden": false,
          "outputs_hidden": false
        },
        "nteract": {
          "transient": {
            "deleting": false
          }
        },
        "gather": {
          "logged": 1676542760251
        }
      }
    },
    {
      "cell_type": "code",
      "source": [
        "delivery_df['Result'] = delivery_df.apply(result,axis=1)"
      ],
      "outputs": [],
      "execution_count": null,
      "metadata": {
        "jupyter": {
          "source_hidden": false,
          "outputs_hidden": false
        },
        "nteract": {
          "transient": {
            "deleting": false
          }
        },
        "gather": {
          "logged": 1676542760423
        }
      }
    },
    {
      "cell_type": "markdown",
      "source": [
        "#### Step 13: Creating the required table"
      ],
      "metadata": {
        "nteract": {
          "transient": {
            "deleting": false
          }
        }
      }
    },
    {
      "cell_type": "code",
      "source": [
        "ultimate_df = delivery_df[['BattingTeam','BowlingTeam','City','runs_left','balls_left','wickets','total_run_x','current_run_rate','required_run_rate','Result']]"
      ],
      "outputs": [],
      "execution_count": null,
      "metadata": {
        "jupyter": {
          "source_hidden": false,
          "outputs_hidden": false
        },
        "nteract": {
          "transient": {
            "deleting": false
          }
        },
        "gather": {
          "logged": 1676542760629
        }
      }
    },
    {
      "cell_type": "code",
      "source": [
        "ultimate_df = ultimate_df.sample(ultimate_df.shape[0])"
      ],
      "outputs": [],
      "execution_count": null,
      "metadata": {
        "jupyter": {
          "source_hidden": false,
          "outputs_hidden": false
        },
        "nteract": {
          "transient": {
            "deleting": false
          }
        },
        "gather": {
          "logged": 1676542760839
        }
      }
    },
    {
      "cell_type": "code",
      "source": [
        "ultimate_df.sample()"
      ],
      "outputs": [],
      "execution_count": null,
      "metadata": {
        "jupyter": {
          "source_hidden": false,
          "outputs_hidden": false
        },
        "nteract": {
          "transient": {
            "deleting": false
          }
        }
      }
    },
    {
      "cell_type": "code",
      "source": [
        "ultimate_df.isnull().sum()"
      ],
      "outputs": [],
      "execution_count": null,
      "metadata": {
        "jupyter": {
          "source_hidden": false,
          "outputs_hidden": false
        },
        "nteract": {
          "transient": {
            "deleting": false
          }
        },
        "gather": {
          "logged": 1676542554311
        }
      }
    },
    {
      "cell_type": "code",
      "source": [
        "ultimate_df.to_csv('IPL_Ball_by_Ball_2008_2022.csv', index=False)"
      ],
      "outputs": [],
      "execution_count": null,
      "metadata": {
        "jupyter": {
          "source_hidden": false,
          "outputs_hidden": false
        },
        "nteract": {
          "transient": {
            "deleting": false
          }
        }
      }
    }
  ],
  "metadata": {
    "kernelspec": {
      "name": "python310-sdkv2",
      "language": "python",
      "display_name": "Python 3.10 - SDK V2"
    },
    "language_info": {
      "name": "python",
      "version": "3.10.4",
      "mimetype": "text/x-python",
      "codemirror_mode": {
        "name": "ipython",
        "version": 3
      },
      "pygments_lexer": "ipython3",
      "nbconvert_exporter": "python",
      "file_extension": ".py"
    },
    "kernel_info": {
      "name": "python310-sdkv2"
    },
    "microsoft": {
      "host": {
        "AzureML": {
          "notebookHasBeenCompleted": true
        }
      },
      "ms_spell_check": {
        "ms_spell_check_language": "en"
      }
    },
    "nteract": {
      "version": "nteract-front-end@1.0.0"
    }
  },
  "nbformat": 4,
  "nbformat_minor": 2
}