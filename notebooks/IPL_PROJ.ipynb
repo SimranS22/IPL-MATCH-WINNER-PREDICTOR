{
  "cells": [
    {
      "cell_type": "markdown",
      "metadata": {
        "nteract": {
          "transient": {
            "deleting": false
          }
        }
      },
      "source": [
        "# IPL WIN PROBABILITY PREDICTOR"
      ]
    },
    {
      "cell_type": "markdown",
      "metadata": {
        "nteract": {
          "transient": {
            "deleting": false
          }
        }
      },
      "source": [
        "## (1) DATA PREPROCESSING"
      ]
    },
    {
      "cell_type": "markdown",
      "metadata": {
        "nteract": {
          "transient": {
            "deleting": false
          }
        }
      },
      "source": [
        "#### Step 1: Import all the required libraries"
      ]
    },
    {
      "cell_type": "code",
      "execution_count": 1,
      "metadata": {
        "gather": {
          "logged": 1676794388836
        }
      },
      "outputs": [],
      "source": [
        "import numpy as np\n",
        "import pandas as pd"
      ]
    },
    {
      "cell_type": "markdown",
      "metadata": {
        "nteract": {
          "transient": {
            "deleting": false
          }
        }
      },
      "source": [
        "#### Step 2: Read Dataset from CSV file"
      ]
    },
    {
      "cell_type": "code",
      "execution_count": 2,
      "metadata": {
        "gather": {
          "logged": 1676794390955
        },
        "jupyter": {
          "outputs_hidden": false,
          "source_hidden": false
        },
        "nteract": {
          "transient": {
            "deleting": false
          }
        }
      },
      "outputs": [],
      "source": [
        "match_df = pd.read_csv('../data/IPL_Matches_2008_2022.csv')\n",
        "delivery_df = pd.read_csv('../data/IPL_Ball_by_Ball_2008_2022.csv')"
      ]
    },
    {
      "cell_type": "code",
      "execution_count": 3,
      "metadata": {
        "gather": {
          "logged": 1676794391280
        },
        "jupyter": {
          "outputs_hidden": false,
          "source_hidden": false
        },
        "nteract": {
          "transient": {
            "deleting": false
          }
        }
      },
      "outputs": [
        {
          "data": {
            "text/html": [
              "<div>\n",
              "<style scoped>\n",
              "    .dataframe tbody tr th:only-of-type {\n",
              "        vertical-align: middle;\n",
              "    }\n",
              "\n",
              "    .dataframe tbody tr th {\n",
              "        vertical-align: top;\n",
              "    }\n",
              "\n",
              "    .dataframe thead th {\n",
              "        text-align: right;\n",
              "    }\n",
              "</style>\n",
              "<table border=\"1\" class=\"dataframe\">\n",
              "  <thead>\n",
              "    <tr style=\"text-align: right;\">\n",
              "      <th></th>\n",
              "      <th>ID</th>\n",
              "      <th>City</th>\n",
              "      <th>Date</th>\n",
              "      <th>Season</th>\n",
              "      <th>MatchNumber</th>\n",
              "      <th>Team1</th>\n",
              "      <th>Team2</th>\n",
              "      <th>Venue</th>\n",
              "      <th>TossWinner</th>\n",
              "      <th>TossDecision</th>\n",
              "      <th>SuperOver</th>\n",
              "      <th>WinningTeam</th>\n",
              "      <th>WonBy</th>\n",
              "      <th>Margin</th>\n",
              "      <th>method</th>\n",
              "      <th>Player_of_Match</th>\n",
              "      <th>Team1Players</th>\n",
              "      <th>Team2Players</th>\n",
              "      <th>Umpire1</th>\n",
              "      <th>Umpire2</th>\n",
              "    </tr>\n",
              "  </thead>\n",
              "  <tbody>\n",
              "    <tr>\n",
              "      <th>0</th>\n",
              "      <td>1312200</td>\n",
              "      <td>Ahmedabad</td>\n",
              "      <td>2022-05-29</td>\n",
              "      <td>2022</td>\n",
              "      <td>Final</td>\n",
              "      <td>Rajasthan Royals</td>\n",
              "      <td>Gujarat Titans</td>\n",
              "      <td>Narendra Modi Stadium, Ahmedabad</td>\n",
              "      <td>Rajasthan Royals</td>\n",
              "      <td>bat</td>\n",
              "      <td>N</td>\n",
              "      <td>Gujarat Titans</td>\n",
              "      <td>Wickets</td>\n",
              "      <td>7.0</td>\n",
              "      <td>NaN</td>\n",
              "      <td>HH Pandya</td>\n",
              "      <td>['YBK Jaiswal', 'JC Buttler', 'SV Samson', 'D ...</td>\n",
              "      <td>['WP Saha', 'Shubman Gill', 'MS Wade', 'HH Pan...</td>\n",
              "      <td>CB Gaffaney</td>\n",
              "      <td>Nitin Menon</td>\n",
              "    </tr>\n",
              "    <tr>\n",
              "      <th>1</th>\n",
              "      <td>1312199</td>\n",
              "      <td>Ahmedabad</td>\n",
              "      <td>2022-05-27</td>\n",
              "      <td>2022</td>\n",
              "      <td>Qualifier 2</td>\n",
              "      <td>Royal Challengers Bangalore</td>\n",
              "      <td>Rajasthan Royals</td>\n",
              "      <td>Narendra Modi Stadium, Ahmedabad</td>\n",
              "      <td>Rajasthan Royals</td>\n",
              "      <td>field</td>\n",
              "      <td>N</td>\n",
              "      <td>Rajasthan Royals</td>\n",
              "      <td>Wickets</td>\n",
              "      <td>7.0</td>\n",
              "      <td>NaN</td>\n",
              "      <td>JC Buttler</td>\n",
              "      <td>['V Kohli', 'F du Plessis', 'RM Patidar', 'GJ ...</td>\n",
              "      <td>['YBK Jaiswal', 'JC Buttler', 'SV Samson', 'D ...</td>\n",
              "      <td>CB Gaffaney</td>\n",
              "      <td>Nitin Menon</td>\n",
              "    </tr>\n",
              "    <tr>\n",
              "      <th>2</th>\n",
              "      <td>1312198</td>\n",
              "      <td>Kolkata</td>\n",
              "      <td>2022-05-25</td>\n",
              "      <td>2022</td>\n",
              "      <td>Eliminator</td>\n",
              "      <td>Royal Challengers Bangalore</td>\n",
              "      <td>Lucknow Super Giants</td>\n",
              "      <td>Eden Gardens, Kolkata</td>\n",
              "      <td>Lucknow Super Giants</td>\n",
              "      <td>field</td>\n",
              "      <td>N</td>\n",
              "      <td>Royal Challengers Bangalore</td>\n",
              "      <td>Runs</td>\n",
              "      <td>14.0</td>\n",
              "      <td>NaN</td>\n",
              "      <td>RM Patidar</td>\n",
              "      <td>['V Kohli', 'F du Plessis', 'RM Patidar', 'GJ ...</td>\n",
              "      <td>['Q de Kock', 'KL Rahul', 'M Vohra', 'DJ Hooda...</td>\n",
              "      <td>J Madanagopal</td>\n",
              "      <td>MA Gough</td>\n",
              "    </tr>\n",
              "    <tr>\n",
              "      <th>3</th>\n",
              "      <td>1312197</td>\n",
              "      <td>Kolkata</td>\n",
              "      <td>2022-05-24</td>\n",
              "      <td>2022</td>\n",
              "      <td>Qualifier 1</td>\n",
              "      <td>Rajasthan Royals</td>\n",
              "      <td>Gujarat Titans</td>\n",
              "      <td>Eden Gardens, Kolkata</td>\n",
              "      <td>Gujarat Titans</td>\n",
              "      <td>field</td>\n",
              "      <td>N</td>\n",
              "      <td>Gujarat Titans</td>\n",
              "      <td>Wickets</td>\n",
              "      <td>7.0</td>\n",
              "      <td>NaN</td>\n",
              "      <td>DA Miller</td>\n",
              "      <td>['YBK Jaiswal', 'JC Buttler', 'SV Samson', 'D ...</td>\n",
              "      <td>['WP Saha', 'Shubman Gill', 'MS Wade', 'HH Pan...</td>\n",
              "      <td>BNJ Oxenford</td>\n",
              "      <td>VK Sharma</td>\n",
              "    </tr>\n",
              "    <tr>\n",
              "      <th>4</th>\n",
              "      <td>1304116</td>\n",
              "      <td>Mumbai</td>\n",
              "      <td>2022-05-22</td>\n",
              "      <td>2022</td>\n",
              "      <td>70</td>\n",
              "      <td>Sunrisers Hyderabad</td>\n",
              "      <td>Punjab Kings</td>\n",
              "      <td>Wankhede Stadium, Mumbai</td>\n",
              "      <td>Sunrisers Hyderabad</td>\n",
              "      <td>bat</td>\n",
              "      <td>N</td>\n",
              "      <td>Punjab Kings</td>\n",
              "      <td>Wickets</td>\n",
              "      <td>5.0</td>\n",
              "      <td>NaN</td>\n",
              "      <td>Harpreet Brar</td>\n",
              "      <td>['PK Garg', 'Abhishek Sharma', 'RA Tripathi', ...</td>\n",
              "      <td>['JM Bairstow', 'S Dhawan', 'M Shahrukh Khan',...</td>\n",
              "      <td>AK Chaudhary</td>\n",
              "      <td>NA Patwardhan</td>\n",
              "    </tr>\n",
              "  </tbody>\n",
              "</table>\n",
              "</div>"
            ],
            "text/plain": [
              "        ID       City        Date Season  MatchNumber  \\\n",
              "0  1312200  Ahmedabad  2022-05-29   2022        Final   \n",
              "1  1312199  Ahmedabad  2022-05-27   2022  Qualifier 2   \n",
              "2  1312198    Kolkata  2022-05-25   2022   Eliminator   \n",
              "3  1312197    Kolkata  2022-05-24   2022  Qualifier 1   \n",
              "4  1304116     Mumbai  2022-05-22   2022           70   \n",
              "\n",
              "                         Team1                 Team2  \\\n",
              "0             Rajasthan Royals        Gujarat Titans   \n",
              "1  Royal Challengers Bangalore      Rajasthan Royals   \n",
              "2  Royal Challengers Bangalore  Lucknow Super Giants   \n",
              "3             Rajasthan Royals        Gujarat Titans   \n",
              "4          Sunrisers Hyderabad          Punjab Kings   \n",
              "\n",
              "                              Venue            TossWinner TossDecision  \\\n",
              "0  Narendra Modi Stadium, Ahmedabad      Rajasthan Royals          bat   \n",
              "1  Narendra Modi Stadium, Ahmedabad      Rajasthan Royals        field   \n",
              "2             Eden Gardens, Kolkata  Lucknow Super Giants        field   \n",
              "3             Eden Gardens, Kolkata        Gujarat Titans        field   \n",
              "4          Wankhede Stadium, Mumbai   Sunrisers Hyderabad          bat   \n",
              "\n",
              "  SuperOver                  WinningTeam    WonBy  Margin method  \\\n",
              "0         N               Gujarat Titans  Wickets     7.0    NaN   \n",
              "1         N             Rajasthan Royals  Wickets     7.0    NaN   \n",
              "2         N  Royal Challengers Bangalore     Runs    14.0    NaN   \n",
              "3         N               Gujarat Titans  Wickets     7.0    NaN   \n",
              "4         N                 Punjab Kings  Wickets     5.0    NaN   \n",
              "\n",
              "  Player_of_Match                                       Team1Players  \\\n",
              "0       HH Pandya  ['YBK Jaiswal', 'JC Buttler', 'SV Samson', 'D ...   \n",
              "1      JC Buttler  ['V Kohli', 'F du Plessis', 'RM Patidar', 'GJ ...   \n",
              "2      RM Patidar  ['V Kohli', 'F du Plessis', 'RM Patidar', 'GJ ...   \n",
              "3       DA Miller  ['YBK Jaiswal', 'JC Buttler', 'SV Samson', 'D ...   \n",
              "4   Harpreet Brar  ['PK Garg', 'Abhishek Sharma', 'RA Tripathi', ...   \n",
              "\n",
              "                                        Team2Players        Umpire1  \\\n",
              "0  ['WP Saha', 'Shubman Gill', 'MS Wade', 'HH Pan...    CB Gaffaney   \n",
              "1  ['YBK Jaiswal', 'JC Buttler', 'SV Samson', 'D ...    CB Gaffaney   \n",
              "2  ['Q de Kock', 'KL Rahul', 'M Vohra', 'DJ Hooda...  J Madanagopal   \n",
              "3  ['WP Saha', 'Shubman Gill', 'MS Wade', 'HH Pan...   BNJ Oxenford   \n",
              "4  ['JM Bairstow', 'S Dhawan', 'M Shahrukh Khan',...   AK Chaudhary   \n",
              "\n",
              "         Umpire2  \n",
              "0    Nitin Menon  \n",
              "1    Nitin Menon  \n",
              "2       MA Gough  \n",
              "3      VK Sharma  \n",
              "4  NA Patwardhan  "
            ]
          },
          "execution_count": 3,
          "metadata": {},
          "output_type": "execute_result"
        }
      ],
      "source": [
        "match_df.head()"
      ]
    },
    {
      "cell_type": "code",
      "execution_count": 4,
      "metadata": {
        "gather": {
          "logged": 1676794391616
        },
        "jupyter": {
          "outputs_hidden": false,
          "source_hidden": false
        },
        "nteract": {
          "transient": {
            "deleting": false
          }
        }
      },
      "outputs": [
        {
          "data": {
            "text/html": [
              "<div>\n",
              "<style scoped>\n",
              "    .dataframe tbody tr th:only-of-type {\n",
              "        vertical-align: middle;\n",
              "    }\n",
              "\n",
              "    .dataframe tbody tr th {\n",
              "        vertical-align: top;\n",
              "    }\n",
              "\n",
              "    .dataframe thead th {\n",
              "        text-align: right;\n",
              "    }\n",
              "</style>\n",
              "<table border=\"1\" class=\"dataframe\">\n",
              "  <thead>\n",
              "    <tr style=\"text-align: right;\">\n",
              "      <th></th>\n",
              "      <th>ID</th>\n",
              "      <th>innings</th>\n",
              "      <th>overs</th>\n",
              "      <th>ballnumber</th>\n",
              "      <th>batter</th>\n",
              "      <th>bowler</th>\n",
              "      <th>non-striker</th>\n",
              "      <th>extra_type</th>\n",
              "      <th>batsman_run</th>\n",
              "      <th>extras_run</th>\n",
              "      <th>total_run</th>\n",
              "      <th>non_boundary</th>\n",
              "      <th>isWicketDelivery</th>\n",
              "      <th>player_out</th>\n",
              "      <th>kind</th>\n",
              "      <th>fielders_involved</th>\n",
              "      <th>BattingTeam</th>\n",
              "    </tr>\n",
              "  </thead>\n",
              "  <tbody>\n",
              "    <tr>\n",
              "      <th>0</th>\n",
              "      <td>1312200</td>\n",
              "      <td>1</td>\n",
              "      <td>0</td>\n",
              "      <td>1</td>\n",
              "      <td>YBK Jaiswal</td>\n",
              "      <td>Mohammed Shami</td>\n",
              "      <td>JC Buttler</td>\n",
              "      <td>NaN</td>\n",
              "      <td>0</td>\n",
              "      <td>0</td>\n",
              "      <td>0</td>\n",
              "      <td>0</td>\n",
              "      <td>0</td>\n",
              "      <td>NaN</td>\n",
              "      <td>NaN</td>\n",
              "      <td>NaN</td>\n",
              "      <td>Rajasthan Royals</td>\n",
              "    </tr>\n",
              "    <tr>\n",
              "      <th>1</th>\n",
              "      <td>1312200</td>\n",
              "      <td>1</td>\n",
              "      <td>0</td>\n",
              "      <td>2</td>\n",
              "      <td>YBK Jaiswal</td>\n",
              "      <td>Mohammed Shami</td>\n",
              "      <td>JC Buttler</td>\n",
              "      <td>legbyes</td>\n",
              "      <td>0</td>\n",
              "      <td>1</td>\n",
              "      <td>1</td>\n",
              "      <td>0</td>\n",
              "      <td>0</td>\n",
              "      <td>NaN</td>\n",
              "      <td>NaN</td>\n",
              "      <td>NaN</td>\n",
              "      <td>Rajasthan Royals</td>\n",
              "    </tr>\n",
              "    <tr>\n",
              "      <th>2</th>\n",
              "      <td>1312200</td>\n",
              "      <td>1</td>\n",
              "      <td>0</td>\n",
              "      <td>3</td>\n",
              "      <td>JC Buttler</td>\n",
              "      <td>Mohammed Shami</td>\n",
              "      <td>YBK Jaiswal</td>\n",
              "      <td>NaN</td>\n",
              "      <td>1</td>\n",
              "      <td>0</td>\n",
              "      <td>1</td>\n",
              "      <td>0</td>\n",
              "      <td>0</td>\n",
              "      <td>NaN</td>\n",
              "      <td>NaN</td>\n",
              "      <td>NaN</td>\n",
              "      <td>Rajasthan Royals</td>\n",
              "    </tr>\n",
              "    <tr>\n",
              "      <th>3</th>\n",
              "      <td>1312200</td>\n",
              "      <td>1</td>\n",
              "      <td>0</td>\n",
              "      <td>4</td>\n",
              "      <td>YBK Jaiswal</td>\n",
              "      <td>Mohammed Shami</td>\n",
              "      <td>JC Buttler</td>\n",
              "      <td>NaN</td>\n",
              "      <td>0</td>\n",
              "      <td>0</td>\n",
              "      <td>0</td>\n",
              "      <td>0</td>\n",
              "      <td>0</td>\n",
              "      <td>NaN</td>\n",
              "      <td>NaN</td>\n",
              "      <td>NaN</td>\n",
              "      <td>Rajasthan Royals</td>\n",
              "    </tr>\n",
              "    <tr>\n",
              "      <th>4</th>\n",
              "      <td>1312200</td>\n",
              "      <td>1</td>\n",
              "      <td>0</td>\n",
              "      <td>5</td>\n",
              "      <td>YBK Jaiswal</td>\n",
              "      <td>Mohammed Shami</td>\n",
              "      <td>JC Buttler</td>\n",
              "      <td>NaN</td>\n",
              "      <td>0</td>\n",
              "      <td>0</td>\n",
              "      <td>0</td>\n",
              "      <td>0</td>\n",
              "      <td>0</td>\n",
              "      <td>NaN</td>\n",
              "      <td>NaN</td>\n",
              "      <td>NaN</td>\n",
              "      <td>Rajasthan Royals</td>\n",
              "    </tr>\n",
              "  </tbody>\n",
              "</table>\n",
              "</div>"
            ],
            "text/plain": [
              "        ID  innings  overs  ballnumber       batter          bowler  \\\n",
              "0  1312200        1      0           1  YBK Jaiswal  Mohammed Shami   \n",
              "1  1312200        1      0           2  YBK Jaiswal  Mohammed Shami   \n",
              "2  1312200        1      0           3   JC Buttler  Mohammed Shami   \n",
              "3  1312200        1      0           4  YBK Jaiswal  Mohammed Shami   \n",
              "4  1312200        1      0           5  YBK Jaiswal  Mohammed Shami   \n",
              "\n",
              "   non-striker extra_type  batsman_run  extras_run  total_run  non_boundary  \\\n",
              "0   JC Buttler        NaN            0           0          0             0   \n",
              "1   JC Buttler    legbyes            0           1          1             0   \n",
              "2  YBK Jaiswal        NaN            1           0          1             0   \n",
              "3   JC Buttler        NaN            0           0          0             0   \n",
              "4   JC Buttler        NaN            0           0          0             0   \n",
              "\n",
              "   isWicketDelivery player_out kind fielders_involved       BattingTeam  \n",
              "0                 0        NaN  NaN               NaN  Rajasthan Royals  \n",
              "1                 0        NaN  NaN               NaN  Rajasthan Royals  \n",
              "2                 0        NaN  NaN               NaN  Rajasthan Royals  \n",
              "3                 0        NaN  NaN               NaN  Rajasthan Royals  \n",
              "4                 0        NaN  NaN               NaN  Rajasthan Royals  "
            ]
          },
          "execution_count": 4,
          "metadata": {},
          "output_type": "execute_result"
        }
      ],
      "source": [
        "delivery_df.head()"
      ]
    },
    {
      "cell_type": "markdown",
      "metadata": {
        "nteract": {
          "transient": {
            "deleting": false
          }
        }
      },
      "source": [
        "##"
      ]
    },
    {
      "cell_type": "markdown",
      "metadata": {
        "nteract": {
          "transient": {
            "deleting": false
          }
        }
      },
      "source": [
        "#### Step 3: Add the field - Bowling Team "
      ]
    },
    {
      "cell_type": "code",
      "execution_count": 5,
      "metadata": {
        "gather": {
          "logged": 1676794391937
        },
        "jupyter": {
          "outputs_hidden": false,
          "source_hidden": false
        },
        "nteract": {
          "transient": {
            "deleting": false
          }
        }
      },
      "outputs": [],
      "source": [
        "match_df = match_df.merge(delivery_df, on='ID')"
      ]
    },
    {
      "cell_type": "code",
      "execution_count": 6,
      "metadata": {
        "gather": {
          "logged": 1676794392255
        },
        "jupyter": {
          "outputs_hidden": false,
          "source_hidden": false
        },
        "nteract": {
          "transient": {
            "deleting": false
          }
        }
      },
      "outputs": [
        {
          "data": {
            "text/html": [
              "<div>\n",
              "<style scoped>\n",
              "    .dataframe tbody tr th:only-of-type {\n",
              "        vertical-align: middle;\n",
              "    }\n",
              "\n",
              "    .dataframe tbody tr th {\n",
              "        vertical-align: top;\n",
              "    }\n",
              "\n",
              "    .dataframe thead th {\n",
              "        text-align: right;\n",
              "    }\n",
              "</style>\n",
              "<table border=\"1\" class=\"dataframe\">\n",
              "  <thead>\n",
              "    <tr style=\"text-align: right;\">\n",
              "      <th></th>\n",
              "      <th>ID</th>\n",
              "      <th>City</th>\n",
              "      <th>Date</th>\n",
              "      <th>Season</th>\n",
              "      <th>MatchNumber</th>\n",
              "      <th>Team1</th>\n",
              "      <th>Team2</th>\n",
              "      <th>Venue</th>\n",
              "      <th>TossWinner</th>\n",
              "      <th>TossDecision</th>\n",
              "      <th>...</th>\n",
              "      <th>extra_type</th>\n",
              "      <th>batsman_run</th>\n",
              "      <th>extras_run</th>\n",
              "      <th>total_run</th>\n",
              "      <th>non_boundary</th>\n",
              "      <th>isWicketDelivery</th>\n",
              "      <th>player_out</th>\n",
              "      <th>kind</th>\n",
              "      <th>fielders_involved</th>\n",
              "      <th>BattingTeam</th>\n",
              "    </tr>\n",
              "  </thead>\n",
              "  <tbody>\n",
              "    <tr>\n",
              "      <th>0</th>\n",
              "      <td>1312200</td>\n",
              "      <td>Ahmedabad</td>\n",
              "      <td>2022-05-29</td>\n",
              "      <td>2022</td>\n",
              "      <td>Final</td>\n",
              "      <td>Rajasthan Royals</td>\n",
              "      <td>Gujarat Titans</td>\n",
              "      <td>Narendra Modi Stadium, Ahmedabad</td>\n",
              "      <td>Rajasthan Royals</td>\n",
              "      <td>bat</td>\n",
              "      <td>...</td>\n",
              "      <td>NaN</td>\n",
              "      <td>0</td>\n",
              "      <td>0</td>\n",
              "      <td>0</td>\n",
              "      <td>0</td>\n",
              "      <td>0</td>\n",
              "      <td>NaN</td>\n",
              "      <td>NaN</td>\n",
              "      <td>NaN</td>\n",
              "      <td>Rajasthan Royals</td>\n",
              "    </tr>\n",
              "    <tr>\n",
              "      <th>1</th>\n",
              "      <td>1312200</td>\n",
              "      <td>Ahmedabad</td>\n",
              "      <td>2022-05-29</td>\n",
              "      <td>2022</td>\n",
              "      <td>Final</td>\n",
              "      <td>Rajasthan Royals</td>\n",
              "      <td>Gujarat Titans</td>\n",
              "      <td>Narendra Modi Stadium, Ahmedabad</td>\n",
              "      <td>Rajasthan Royals</td>\n",
              "      <td>bat</td>\n",
              "      <td>...</td>\n",
              "      <td>legbyes</td>\n",
              "      <td>0</td>\n",
              "      <td>1</td>\n",
              "      <td>1</td>\n",
              "      <td>0</td>\n",
              "      <td>0</td>\n",
              "      <td>NaN</td>\n",
              "      <td>NaN</td>\n",
              "      <td>NaN</td>\n",
              "      <td>Rajasthan Royals</td>\n",
              "    </tr>\n",
              "    <tr>\n",
              "      <th>2</th>\n",
              "      <td>1312200</td>\n",
              "      <td>Ahmedabad</td>\n",
              "      <td>2022-05-29</td>\n",
              "      <td>2022</td>\n",
              "      <td>Final</td>\n",
              "      <td>Rajasthan Royals</td>\n",
              "      <td>Gujarat Titans</td>\n",
              "      <td>Narendra Modi Stadium, Ahmedabad</td>\n",
              "      <td>Rajasthan Royals</td>\n",
              "      <td>bat</td>\n",
              "      <td>...</td>\n",
              "      <td>NaN</td>\n",
              "      <td>1</td>\n",
              "      <td>0</td>\n",
              "      <td>1</td>\n",
              "      <td>0</td>\n",
              "      <td>0</td>\n",
              "      <td>NaN</td>\n",
              "      <td>NaN</td>\n",
              "      <td>NaN</td>\n",
              "      <td>Rajasthan Royals</td>\n",
              "    </tr>\n",
              "    <tr>\n",
              "      <th>3</th>\n",
              "      <td>1312200</td>\n",
              "      <td>Ahmedabad</td>\n",
              "      <td>2022-05-29</td>\n",
              "      <td>2022</td>\n",
              "      <td>Final</td>\n",
              "      <td>Rajasthan Royals</td>\n",
              "      <td>Gujarat Titans</td>\n",
              "      <td>Narendra Modi Stadium, Ahmedabad</td>\n",
              "      <td>Rajasthan Royals</td>\n",
              "      <td>bat</td>\n",
              "      <td>...</td>\n",
              "      <td>NaN</td>\n",
              "      <td>0</td>\n",
              "      <td>0</td>\n",
              "      <td>0</td>\n",
              "      <td>0</td>\n",
              "      <td>0</td>\n",
              "      <td>NaN</td>\n",
              "      <td>NaN</td>\n",
              "      <td>NaN</td>\n",
              "      <td>Rajasthan Royals</td>\n",
              "    </tr>\n",
              "    <tr>\n",
              "      <th>4</th>\n",
              "      <td>1312200</td>\n",
              "      <td>Ahmedabad</td>\n",
              "      <td>2022-05-29</td>\n",
              "      <td>2022</td>\n",
              "      <td>Final</td>\n",
              "      <td>Rajasthan Royals</td>\n",
              "      <td>Gujarat Titans</td>\n",
              "      <td>Narendra Modi Stadium, Ahmedabad</td>\n",
              "      <td>Rajasthan Royals</td>\n",
              "      <td>bat</td>\n",
              "      <td>...</td>\n",
              "      <td>NaN</td>\n",
              "      <td>0</td>\n",
              "      <td>0</td>\n",
              "      <td>0</td>\n",
              "      <td>0</td>\n",
              "      <td>0</td>\n",
              "      <td>NaN</td>\n",
              "      <td>NaN</td>\n",
              "      <td>NaN</td>\n",
              "      <td>Rajasthan Royals</td>\n",
              "    </tr>\n",
              "    <tr>\n",
              "      <th>...</th>\n",
              "      <td>...</td>\n",
              "      <td>...</td>\n",
              "      <td>...</td>\n",
              "      <td>...</td>\n",
              "      <td>...</td>\n",
              "      <td>...</td>\n",
              "      <td>...</td>\n",
              "      <td>...</td>\n",
              "      <td>...</td>\n",
              "      <td>...</td>\n",
              "      <td>...</td>\n",
              "      <td>...</td>\n",
              "      <td>...</td>\n",
              "      <td>...</td>\n",
              "      <td>...</td>\n",
              "      <td>...</td>\n",
              "      <td>...</td>\n",
              "      <td>...</td>\n",
              "      <td>...</td>\n",
              "      <td>...</td>\n",
              "      <td>...</td>\n",
              "    </tr>\n",
              "    <tr>\n",
              "      <th>225949</th>\n",
              "      <td>335982</td>\n",
              "      <td>Bangalore</td>\n",
              "      <td>2008-04-18</td>\n",
              "      <td>2007/08</td>\n",
              "      <td>1</td>\n",
              "      <td>Royal Challengers Bangalore</td>\n",
              "      <td>Kolkata Knight Riders</td>\n",
              "      <td>M Chinnaswamy Stadium</td>\n",
              "      <td>Royal Challengers Bangalore</td>\n",
              "      <td>field</td>\n",
              "      <td>...</td>\n",
              "      <td>legbyes</td>\n",
              "      <td>0</td>\n",
              "      <td>1</td>\n",
              "      <td>1</td>\n",
              "      <td>0</td>\n",
              "      <td>0</td>\n",
              "      <td>NaN</td>\n",
              "      <td>NaN</td>\n",
              "      <td>NaN</td>\n",
              "      <td>Royal Challengers Bangalore</td>\n",
              "    </tr>\n",
              "    <tr>\n",
              "      <th>225950</th>\n",
              "      <td>335982</td>\n",
              "      <td>Bangalore</td>\n",
              "      <td>2008-04-18</td>\n",
              "      <td>2007/08</td>\n",
              "      <td>1</td>\n",
              "      <td>Royal Challengers Bangalore</td>\n",
              "      <td>Kolkata Knight Riders</td>\n",
              "      <td>M Chinnaswamy Stadium</td>\n",
              "      <td>Royal Challengers Bangalore</td>\n",
              "      <td>field</td>\n",
              "      <td>...</td>\n",
              "      <td>NaN</td>\n",
              "      <td>1</td>\n",
              "      <td>0</td>\n",
              "      <td>1</td>\n",
              "      <td>0</td>\n",
              "      <td>0</td>\n",
              "      <td>NaN</td>\n",
              "      <td>NaN</td>\n",
              "      <td>NaN</td>\n",
              "      <td>Royal Challengers Bangalore</td>\n",
              "    </tr>\n",
              "    <tr>\n",
              "      <th>225951</th>\n",
              "      <td>335982</td>\n",
              "      <td>Bangalore</td>\n",
              "      <td>2008-04-18</td>\n",
              "      <td>2007/08</td>\n",
              "      <td>1</td>\n",
              "      <td>Royal Challengers Bangalore</td>\n",
              "      <td>Kolkata Knight Riders</td>\n",
              "      <td>M Chinnaswamy Stadium</td>\n",
              "      <td>Royal Challengers Bangalore</td>\n",
              "      <td>field</td>\n",
              "      <td>...</td>\n",
              "      <td>NaN</td>\n",
              "      <td>0</td>\n",
              "      <td>0</td>\n",
              "      <td>0</td>\n",
              "      <td>0</td>\n",
              "      <td>0</td>\n",
              "      <td>NaN</td>\n",
              "      <td>NaN</td>\n",
              "      <td>NaN</td>\n",
              "      <td>Royal Challengers Bangalore</td>\n",
              "    </tr>\n",
              "    <tr>\n",
              "      <th>225952</th>\n",
              "      <td>335982</td>\n",
              "      <td>Bangalore</td>\n",
              "      <td>2008-04-18</td>\n",
              "      <td>2007/08</td>\n",
              "      <td>1</td>\n",
              "      <td>Royal Challengers Bangalore</td>\n",
              "      <td>Kolkata Knight Riders</td>\n",
              "      <td>M Chinnaswamy Stadium</td>\n",
              "      <td>Royal Challengers Bangalore</td>\n",
              "      <td>field</td>\n",
              "      <td>...</td>\n",
              "      <td>wides</td>\n",
              "      <td>0</td>\n",
              "      <td>1</td>\n",
              "      <td>1</td>\n",
              "      <td>0</td>\n",
              "      <td>0</td>\n",
              "      <td>NaN</td>\n",
              "      <td>NaN</td>\n",
              "      <td>NaN</td>\n",
              "      <td>Royal Challengers Bangalore</td>\n",
              "    </tr>\n",
              "    <tr>\n",
              "      <th>225953</th>\n",
              "      <td>335982</td>\n",
              "      <td>Bangalore</td>\n",
              "      <td>2008-04-18</td>\n",
              "      <td>2007/08</td>\n",
              "      <td>1</td>\n",
              "      <td>Royal Challengers Bangalore</td>\n",
              "      <td>Kolkata Knight Riders</td>\n",
              "      <td>M Chinnaswamy Stadium</td>\n",
              "      <td>Royal Challengers Bangalore</td>\n",
              "      <td>field</td>\n",
              "      <td>...</td>\n",
              "      <td>NaN</td>\n",
              "      <td>0</td>\n",
              "      <td>0</td>\n",
              "      <td>0</td>\n",
              "      <td>0</td>\n",
              "      <td>1</td>\n",
              "      <td>SB Joshi</td>\n",
              "      <td>caught</td>\n",
              "      <td>BB McCullum</td>\n",
              "      <td>Royal Challengers Bangalore</td>\n",
              "    </tr>\n",
              "  </tbody>\n",
              "</table>\n",
              "<p>225954 rows × 36 columns</p>\n",
              "</div>"
            ],
            "text/plain": [
              "             ID       City        Date   Season MatchNumber  \\\n",
              "0       1312200  Ahmedabad  2022-05-29     2022       Final   \n",
              "1       1312200  Ahmedabad  2022-05-29     2022       Final   \n",
              "2       1312200  Ahmedabad  2022-05-29     2022       Final   \n",
              "3       1312200  Ahmedabad  2022-05-29     2022       Final   \n",
              "4       1312200  Ahmedabad  2022-05-29     2022       Final   \n",
              "...         ...        ...         ...      ...         ...   \n",
              "225949   335982  Bangalore  2008-04-18  2007/08           1   \n",
              "225950   335982  Bangalore  2008-04-18  2007/08           1   \n",
              "225951   335982  Bangalore  2008-04-18  2007/08           1   \n",
              "225952   335982  Bangalore  2008-04-18  2007/08           1   \n",
              "225953   335982  Bangalore  2008-04-18  2007/08           1   \n",
              "\n",
              "                              Team1                  Team2  \\\n",
              "0                  Rajasthan Royals         Gujarat Titans   \n",
              "1                  Rajasthan Royals         Gujarat Titans   \n",
              "2                  Rajasthan Royals         Gujarat Titans   \n",
              "3                  Rajasthan Royals         Gujarat Titans   \n",
              "4                  Rajasthan Royals         Gujarat Titans   \n",
              "...                             ...                    ...   \n",
              "225949  Royal Challengers Bangalore  Kolkata Knight Riders   \n",
              "225950  Royal Challengers Bangalore  Kolkata Knight Riders   \n",
              "225951  Royal Challengers Bangalore  Kolkata Knight Riders   \n",
              "225952  Royal Challengers Bangalore  Kolkata Knight Riders   \n",
              "225953  Royal Challengers Bangalore  Kolkata Knight Riders   \n",
              "\n",
              "                                   Venue                   TossWinner  \\\n",
              "0       Narendra Modi Stadium, Ahmedabad             Rajasthan Royals   \n",
              "1       Narendra Modi Stadium, Ahmedabad             Rajasthan Royals   \n",
              "2       Narendra Modi Stadium, Ahmedabad             Rajasthan Royals   \n",
              "3       Narendra Modi Stadium, Ahmedabad             Rajasthan Royals   \n",
              "4       Narendra Modi Stadium, Ahmedabad             Rajasthan Royals   \n",
              "...                                  ...                          ...   \n",
              "225949             M Chinnaswamy Stadium  Royal Challengers Bangalore   \n",
              "225950             M Chinnaswamy Stadium  Royal Challengers Bangalore   \n",
              "225951             M Chinnaswamy Stadium  Royal Challengers Bangalore   \n",
              "225952             M Chinnaswamy Stadium  Royal Challengers Bangalore   \n",
              "225953             M Chinnaswamy Stadium  Royal Challengers Bangalore   \n",
              "\n",
              "       TossDecision  ... extra_type batsman_run extras_run  total_run  \\\n",
              "0               bat  ...        NaN           0          0          0   \n",
              "1               bat  ...    legbyes           0          1          1   \n",
              "2               bat  ...        NaN           1          0          1   \n",
              "3               bat  ...        NaN           0          0          0   \n",
              "4               bat  ...        NaN           0          0          0   \n",
              "...             ...  ...        ...         ...        ...        ...   \n",
              "225949        field  ...    legbyes           0          1          1   \n",
              "225950        field  ...        NaN           1          0          1   \n",
              "225951        field  ...        NaN           0          0          0   \n",
              "225952        field  ...      wides           0          1          1   \n",
              "225953        field  ...        NaN           0          0          0   \n",
              "\n",
              "       non_boundary isWicketDelivery player_out    kind fielders_involved  \\\n",
              "0                 0                0        NaN     NaN               NaN   \n",
              "1                 0                0        NaN     NaN               NaN   \n",
              "2                 0                0        NaN     NaN               NaN   \n",
              "3                 0                0        NaN     NaN               NaN   \n",
              "4                 0                0        NaN     NaN               NaN   \n",
              "...             ...              ...        ...     ...               ...   \n",
              "225949            0                0        NaN     NaN               NaN   \n",
              "225950            0                0        NaN     NaN               NaN   \n",
              "225951            0                0        NaN     NaN               NaN   \n",
              "225952            0                0        NaN     NaN               NaN   \n",
              "225953            0                1   SB Joshi  caught       BB McCullum   \n",
              "\n",
              "                        BattingTeam  \n",
              "0                  Rajasthan Royals  \n",
              "1                  Rajasthan Royals  \n",
              "2                  Rajasthan Royals  \n",
              "3                  Rajasthan Royals  \n",
              "4                  Rajasthan Royals  \n",
              "...                             ...  \n",
              "225949  Royal Challengers Bangalore  \n",
              "225950  Royal Challengers Bangalore  \n",
              "225951  Royal Challengers Bangalore  \n",
              "225952  Royal Challengers Bangalore  \n",
              "225953  Royal Challengers Bangalore  \n",
              "\n",
              "[225954 rows x 36 columns]"
            ]
          },
          "execution_count": 6,
          "metadata": {},
          "output_type": "execute_result"
        }
      ],
      "source": [
        "match_df"
      ]
    },
    {
      "cell_type": "code",
      "execution_count": 7,
      "metadata": {
        "gather": {
          "logged": 1676794394446
        },
        "jupyter": {
          "outputs_hidden": false,
          "source_hidden": false
        },
        "nteract": {
          "transient": {
            "deleting": false
          }
        }
      },
      "outputs": [],
      "source": [
        "def bowl(row):\n",
        "    if row['Team1'] == row['BattingTeam']:\n",
        "        return row['Team2']\n",
        "    else:\n",
        "        return row['Team1']"
      ]
    },
    {
      "cell_type": "code",
      "execution_count": 8,
      "metadata": {
        "gather": {
          "logged": 1676794397699
        },
        "jupyter": {
          "outputs_hidden": false,
          "source_hidden": false
        },
        "nteract": {
          "transient": {
            "deleting": false
          }
        }
      },
      "outputs": [],
      "source": [
        "match_df['BowlingTeam'] = match_df.apply(bowl,axis=1)"
      ]
    },
    {
      "cell_type": "code",
      "execution_count": 9,
      "metadata": {
        "gather": {
          "logged": 1676794397993
        },
        "jupyter": {
          "outputs_hidden": false,
          "source_hidden": false
        },
        "nteract": {
          "transient": {
            "deleting": false
          }
        }
      },
      "outputs": [
        {
          "data": {
            "text/html": [
              "<div>\n",
              "<style scoped>\n",
              "    .dataframe tbody tr th:only-of-type {\n",
              "        vertical-align: middle;\n",
              "    }\n",
              "\n",
              "    .dataframe tbody tr th {\n",
              "        vertical-align: top;\n",
              "    }\n",
              "\n",
              "    .dataframe thead th {\n",
              "        text-align: right;\n",
              "    }\n",
              "</style>\n",
              "<table border=\"1\" class=\"dataframe\">\n",
              "  <thead>\n",
              "    <tr style=\"text-align: right;\">\n",
              "      <th></th>\n",
              "      <th>ID</th>\n",
              "      <th>City</th>\n",
              "      <th>Date</th>\n",
              "      <th>Season</th>\n",
              "      <th>MatchNumber</th>\n",
              "      <th>Team1</th>\n",
              "      <th>Team2</th>\n",
              "      <th>Venue</th>\n",
              "      <th>TossWinner</th>\n",
              "      <th>TossDecision</th>\n",
              "      <th>...</th>\n",
              "      <th>batsman_run</th>\n",
              "      <th>extras_run</th>\n",
              "      <th>total_run</th>\n",
              "      <th>non_boundary</th>\n",
              "      <th>isWicketDelivery</th>\n",
              "      <th>player_out</th>\n",
              "      <th>kind</th>\n",
              "      <th>fielders_involved</th>\n",
              "      <th>BattingTeam</th>\n",
              "      <th>BowlingTeam</th>\n",
              "    </tr>\n",
              "  </thead>\n",
              "  <tbody>\n",
              "    <tr>\n",
              "      <th>0</th>\n",
              "      <td>1312200</td>\n",
              "      <td>Ahmedabad</td>\n",
              "      <td>2022-05-29</td>\n",
              "      <td>2022</td>\n",
              "      <td>Final</td>\n",
              "      <td>Rajasthan Royals</td>\n",
              "      <td>Gujarat Titans</td>\n",
              "      <td>Narendra Modi Stadium, Ahmedabad</td>\n",
              "      <td>Rajasthan Royals</td>\n",
              "      <td>bat</td>\n",
              "      <td>...</td>\n",
              "      <td>0</td>\n",
              "      <td>0</td>\n",
              "      <td>0</td>\n",
              "      <td>0</td>\n",
              "      <td>0</td>\n",
              "      <td>NaN</td>\n",
              "      <td>NaN</td>\n",
              "      <td>NaN</td>\n",
              "      <td>Rajasthan Royals</td>\n",
              "      <td>Gujarat Titans</td>\n",
              "    </tr>\n",
              "    <tr>\n",
              "      <th>1</th>\n",
              "      <td>1312200</td>\n",
              "      <td>Ahmedabad</td>\n",
              "      <td>2022-05-29</td>\n",
              "      <td>2022</td>\n",
              "      <td>Final</td>\n",
              "      <td>Rajasthan Royals</td>\n",
              "      <td>Gujarat Titans</td>\n",
              "      <td>Narendra Modi Stadium, Ahmedabad</td>\n",
              "      <td>Rajasthan Royals</td>\n",
              "      <td>bat</td>\n",
              "      <td>...</td>\n",
              "      <td>0</td>\n",
              "      <td>1</td>\n",
              "      <td>1</td>\n",
              "      <td>0</td>\n",
              "      <td>0</td>\n",
              "      <td>NaN</td>\n",
              "      <td>NaN</td>\n",
              "      <td>NaN</td>\n",
              "      <td>Rajasthan Royals</td>\n",
              "      <td>Gujarat Titans</td>\n",
              "    </tr>\n",
              "    <tr>\n",
              "      <th>2</th>\n",
              "      <td>1312200</td>\n",
              "      <td>Ahmedabad</td>\n",
              "      <td>2022-05-29</td>\n",
              "      <td>2022</td>\n",
              "      <td>Final</td>\n",
              "      <td>Rajasthan Royals</td>\n",
              "      <td>Gujarat Titans</td>\n",
              "      <td>Narendra Modi Stadium, Ahmedabad</td>\n",
              "      <td>Rajasthan Royals</td>\n",
              "      <td>bat</td>\n",
              "      <td>...</td>\n",
              "      <td>1</td>\n",
              "      <td>0</td>\n",
              "      <td>1</td>\n",
              "      <td>0</td>\n",
              "      <td>0</td>\n",
              "      <td>NaN</td>\n",
              "      <td>NaN</td>\n",
              "      <td>NaN</td>\n",
              "      <td>Rajasthan Royals</td>\n",
              "      <td>Gujarat Titans</td>\n",
              "    </tr>\n",
              "    <tr>\n",
              "      <th>3</th>\n",
              "      <td>1312200</td>\n",
              "      <td>Ahmedabad</td>\n",
              "      <td>2022-05-29</td>\n",
              "      <td>2022</td>\n",
              "      <td>Final</td>\n",
              "      <td>Rajasthan Royals</td>\n",
              "      <td>Gujarat Titans</td>\n",
              "      <td>Narendra Modi Stadium, Ahmedabad</td>\n",
              "      <td>Rajasthan Royals</td>\n",
              "      <td>bat</td>\n",
              "      <td>...</td>\n",
              "      <td>0</td>\n",
              "      <td>0</td>\n",
              "      <td>0</td>\n",
              "      <td>0</td>\n",
              "      <td>0</td>\n",
              "      <td>NaN</td>\n",
              "      <td>NaN</td>\n",
              "      <td>NaN</td>\n",
              "      <td>Rajasthan Royals</td>\n",
              "      <td>Gujarat Titans</td>\n",
              "    </tr>\n",
              "    <tr>\n",
              "      <th>4</th>\n",
              "      <td>1312200</td>\n",
              "      <td>Ahmedabad</td>\n",
              "      <td>2022-05-29</td>\n",
              "      <td>2022</td>\n",
              "      <td>Final</td>\n",
              "      <td>Rajasthan Royals</td>\n",
              "      <td>Gujarat Titans</td>\n",
              "      <td>Narendra Modi Stadium, Ahmedabad</td>\n",
              "      <td>Rajasthan Royals</td>\n",
              "      <td>bat</td>\n",
              "      <td>...</td>\n",
              "      <td>0</td>\n",
              "      <td>0</td>\n",
              "      <td>0</td>\n",
              "      <td>0</td>\n",
              "      <td>0</td>\n",
              "      <td>NaN</td>\n",
              "      <td>NaN</td>\n",
              "      <td>NaN</td>\n",
              "      <td>Rajasthan Royals</td>\n",
              "      <td>Gujarat Titans</td>\n",
              "    </tr>\n",
              "    <tr>\n",
              "      <th>...</th>\n",
              "      <td>...</td>\n",
              "      <td>...</td>\n",
              "      <td>...</td>\n",
              "      <td>...</td>\n",
              "      <td>...</td>\n",
              "      <td>...</td>\n",
              "      <td>...</td>\n",
              "      <td>...</td>\n",
              "      <td>...</td>\n",
              "      <td>...</td>\n",
              "      <td>...</td>\n",
              "      <td>...</td>\n",
              "      <td>...</td>\n",
              "      <td>...</td>\n",
              "      <td>...</td>\n",
              "      <td>...</td>\n",
              "      <td>...</td>\n",
              "      <td>...</td>\n",
              "      <td>...</td>\n",
              "      <td>...</td>\n",
              "      <td>...</td>\n",
              "    </tr>\n",
              "    <tr>\n",
              "      <th>225949</th>\n",
              "      <td>335982</td>\n",
              "      <td>Bangalore</td>\n",
              "      <td>2008-04-18</td>\n",
              "      <td>2007/08</td>\n",
              "      <td>1</td>\n",
              "      <td>Royal Challengers Bangalore</td>\n",
              "      <td>Kolkata Knight Riders</td>\n",
              "      <td>M Chinnaswamy Stadium</td>\n",
              "      <td>Royal Challengers Bangalore</td>\n",
              "      <td>field</td>\n",
              "      <td>...</td>\n",
              "      <td>0</td>\n",
              "      <td>1</td>\n",
              "      <td>1</td>\n",
              "      <td>0</td>\n",
              "      <td>0</td>\n",
              "      <td>NaN</td>\n",
              "      <td>NaN</td>\n",
              "      <td>NaN</td>\n",
              "      <td>Royal Challengers Bangalore</td>\n",
              "      <td>Kolkata Knight Riders</td>\n",
              "    </tr>\n",
              "    <tr>\n",
              "      <th>225950</th>\n",
              "      <td>335982</td>\n",
              "      <td>Bangalore</td>\n",
              "      <td>2008-04-18</td>\n",
              "      <td>2007/08</td>\n",
              "      <td>1</td>\n",
              "      <td>Royal Challengers Bangalore</td>\n",
              "      <td>Kolkata Knight Riders</td>\n",
              "      <td>M Chinnaswamy Stadium</td>\n",
              "      <td>Royal Challengers Bangalore</td>\n",
              "      <td>field</td>\n",
              "      <td>...</td>\n",
              "      <td>1</td>\n",
              "      <td>0</td>\n",
              "      <td>1</td>\n",
              "      <td>0</td>\n",
              "      <td>0</td>\n",
              "      <td>NaN</td>\n",
              "      <td>NaN</td>\n",
              "      <td>NaN</td>\n",
              "      <td>Royal Challengers Bangalore</td>\n",
              "      <td>Kolkata Knight Riders</td>\n",
              "    </tr>\n",
              "    <tr>\n",
              "      <th>225951</th>\n",
              "      <td>335982</td>\n",
              "      <td>Bangalore</td>\n",
              "      <td>2008-04-18</td>\n",
              "      <td>2007/08</td>\n",
              "      <td>1</td>\n",
              "      <td>Royal Challengers Bangalore</td>\n",
              "      <td>Kolkata Knight Riders</td>\n",
              "      <td>M Chinnaswamy Stadium</td>\n",
              "      <td>Royal Challengers Bangalore</td>\n",
              "      <td>field</td>\n",
              "      <td>...</td>\n",
              "      <td>0</td>\n",
              "      <td>0</td>\n",
              "      <td>0</td>\n",
              "      <td>0</td>\n",
              "      <td>0</td>\n",
              "      <td>NaN</td>\n",
              "      <td>NaN</td>\n",
              "      <td>NaN</td>\n",
              "      <td>Royal Challengers Bangalore</td>\n",
              "      <td>Kolkata Knight Riders</td>\n",
              "    </tr>\n",
              "    <tr>\n",
              "      <th>225952</th>\n",
              "      <td>335982</td>\n",
              "      <td>Bangalore</td>\n",
              "      <td>2008-04-18</td>\n",
              "      <td>2007/08</td>\n",
              "      <td>1</td>\n",
              "      <td>Royal Challengers Bangalore</td>\n",
              "      <td>Kolkata Knight Riders</td>\n",
              "      <td>M Chinnaswamy Stadium</td>\n",
              "      <td>Royal Challengers Bangalore</td>\n",
              "      <td>field</td>\n",
              "      <td>...</td>\n",
              "      <td>0</td>\n",
              "      <td>1</td>\n",
              "      <td>1</td>\n",
              "      <td>0</td>\n",
              "      <td>0</td>\n",
              "      <td>NaN</td>\n",
              "      <td>NaN</td>\n",
              "      <td>NaN</td>\n",
              "      <td>Royal Challengers Bangalore</td>\n",
              "      <td>Kolkata Knight Riders</td>\n",
              "    </tr>\n",
              "    <tr>\n",
              "      <th>225953</th>\n",
              "      <td>335982</td>\n",
              "      <td>Bangalore</td>\n",
              "      <td>2008-04-18</td>\n",
              "      <td>2007/08</td>\n",
              "      <td>1</td>\n",
              "      <td>Royal Challengers Bangalore</td>\n",
              "      <td>Kolkata Knight Riders</td>\n",
              "      <td>M Chinnaswamy Stadium</td>\n",
              "      <td>Royal Challengers Bangalore</td>\n",
              "      <td>field</td>\n",
              "      <td>...</td>\n",
              "      <td>0</td>\n",
              "      <td>0</td>\n",
              "      <td>0</td>\n",
              "      <td>0</td>\n",
              "      <td>1</td>\n",
              "      <td>SB Joshi</td>\n",
              "      <td>caught</td>\n",
              "      <td>BB McCullum</td>\n",
              "      <td>Royal Challengers Bangalore</td>\n",
              "      <td>Kolkata Knight Riders</td>\n",
              "    </tr>\n",
              "  </tbody>\n",
              "</table>\n",
              "<p>225954 rows × 37 columns</p>\n",
              "</div>"
            ],
            "text/plain": [
              "             ID       City        Date   Season MatchNumber  \\\n",
              "0       1312200  Ahmedabad  2022-05-29     2022       Final   \n",
              "1       1312200  Ahmedabad  2022-05-29     2022       Final   \n",
              "2       1312200  Ahmedabad  2022-05-29     2022       Final   \n",
              "3       1312200  Ahmedabad  2022-05-29     2022       Final   \n",
              "4       1312200  Ahmedabad  2022-05-29     2022       Final   \n",
              "...         ...        ...         ...      ...         ...   \n",
              "225949   335982  Bangalore  2008-04-18  2007/08           1   \n",
              "225950   335982  Bangalore  2008-04-18  2007/08           1   \n",
              "225951   335982  Bangalore  2008-04-18  2007/08           1   \n",
              "225952   335982  Bangalore  2008-04-18  2007/08           1   \n",
              "225953   335982  Bangalore  2008-04-18  2007/08           1   \n",
              "\n",
              "                              Team1                  Team2  \\\n",
              "0                  Rajasthan Royals         Gujarat Titans   \n",
              "1                  Rajasthan Royals         Gujarat Titans   \n",
              "2                  Rajasthan Royals         Gujarat Titans   \n",
              "3                  Rajasthan Royals         Gujarat Titans   \n",
              "4                  Rajasthan Royals         Gujarat Titans   \n",
              "...                             ...                    ...   \n",
              "225949  Royal Challengers Bangalore  Kolkata Knight Riders   \n",
              "225950  Royal Challengers Bangalore  Kolkata Knight Riders   \n",
              "225951  Royal Challengers Bangalore  Kolkata Knight Riders   \n",
              "225952  Royal Challengers Bangalore  Kolkata Knight Riders   \n",
              "225953  Royal Challengers Bangalore  Kolkata Knight Riders   \n",
              "\n",
              "                                   Venue                   TossWinner  \\\n",
              "0       Narendra Modi Stadium, Ahmedabad             Rajasthan Royals   \n",
              "1       Narendra Modi Stadium, Ahmedabad             Rajasthan Royals   \n",
              "2       Narendra Modi Stadium, Ahmedabad             Rajasthan Royals   \n",
              "3       Narendra Modi Stadium, Ahmedabad             Rajasthan Royals   \n",
              "4       Narendra Modi Stadium, Ahmedabad             Rajasthan Royals   \n",
              "...                                  ...                          ...   \n",
              "225949             M Chinnaswamy Stadium  Royal Challengers Bangalore   \n",
              "225950             M Chinnaswamy Stadium  Royal Challengers Bangalore   \n",
              "225951             M Chinnaswamy Stadium  Royal Challengers Bangalore   \n",
              "225952             M Chinnaswamy Stadium  Royal Challengers Bangalore   \n",
              "225953             M Chinnaswamy Stadium  Royal Challengers Bangalore   \n",
              "\n",
              "       TossDecision  ... batsman_run extras_run total_run  non_boundary  \\\n",
              "0               bat  ...           0          0         0             0   \n",
              "1               bat  ...           0          1         1             0   \n",
              "2               bat  ...           1          0         1             0   \n",
              "3               bat  ...           0          0         0             0   \n",
              "4               bat  ...           0          0         0             0   \n",
              "...             ...  ...         ...        ...       ...           ...   \n",
              "225949        field  ...           0          1         1             0   \n",
              "225950        field  ...           1          0         1             0   \n",
              "225951        field  ...           0          0         0             0   \n",
              "225952        field  ...           0          1         1             0   \n",
              "225953        field  ...           0          0         0             0   \n",
              "\n",
              "       isWicketDelivery player_out    kind fielders_involved  \\\n",
              "0                     0        NaN     NaN               NaN   \n",
              "1                     0        NaN     NaN               NaN   \n",
              "2                     0        NaN     NaN               NaN   \n",
              "3                     0        NaN     NaN               NaN   \n",
              "4                     0        NaN     NaN               NaN   \n",
              "...                 ...        ...     ...               ...   \n",
              "225949                0        NaN     NaN               NaN   \n",
              "225950                0        NaN     NaN               NaN   \n",
              "225951                0        NaN     NaN               NaN   \n",
              "225952                0        NaN     NaN               NaN   \n",
              "225953                1   SB Joshi  caught       BB McCullum   \n",
              "\n",
              "                        BattingTeam            BowlingTeam  \n",
              "0                  Rajasthan Royals         Gujarat Titans  \n",
              "1                  Rajasthan Royals         Gujarat Titans  \n",
              "2                  Rajasthan Royals         Gujarat Titans  \n",
              "3                  Rajasthan Royals         Gujarat Titans  \n",
              "4                  Rajasthan Royals         Gujarat Titans  \n",
              "...                             ...                    ...  \n",
              "225949  Royal Challengers Bangalore  Kolkata Knight Riders  \n",
              "225950  Royal Challengers Bangalore  Kolkata Knight Riders  \n",
              "225951  Royal Challengers Bangalore  Kolkata Knight Riders  \n",
              "225952  Royal Challengers Bangalore  Kolkata Knight Riders  \n",
              "225953  Royal Challengers Bangalore  Kolkata Knight Riders  \n",
              "\n",
              "[225954 rows x 37 columns]"
            ]
          },
          "execution_count": 9,
          "metadata": {},
          "output_type": "execute_result"
        }
      ],
      "source": [
        "match_df"
      ]
    },
    {
      "cell_type": "code",
      "execution_count": 10,
      "metadata": {
        "gather": {
          "logged": 1676794398569
        },
        "jupyter": {
          "outputs_hidden": false,
          "source_hidden": false
        },
        "nteract": {
          "transient": {
            "deleting": false
          }
        }
      },
      "outputs": [],
      "source": [
        "delivery_df = match_df[['ID','innings','overs','ballnumber','batsman_run','extras_run','total_run','isWicketDelivery','BattingTeam','BowlingTeam']]"
      ]
    },
    {
      "cell_type": "code",
      "execution_count": 11,
      "metadata": {
        "gather": {
          "logged": 1676794402019
        },
        "jupyter": {
          "outputs_hidden": false,
          "source_hidden": false
        },
        "nteract": {
          "transient": {
            "deleting": false
          }
        }
      },
      "outputs": [
        {
          "data": {
            "text/html": [
              "<div>\n",
              "<style scoped>\n",
              "    .dataframe tbody tr th:only-of-type {\n",
              "        vertical-align: middle;\n",
              "    }\n",
              "\n",
              "    .dataframe tbody tr th {\n",
              "        vertical-align: top;\n",
              "    }\n",
              "\n",
              "    .dataframe thead th {\n",
              "        text-align: right;\n",
              "    }\n",
              "</style>\n",
              "<table border=\"1\" class=\"dataframe\">\n",
              "  <thead>\n",
              "    <tr style=\"text-align: right;\">\n",
              "      <th></th>\n",
              "      <th>ID</th>\n",
              "      <th>innings</th>\n",
              "      <th>overs</th>\n",
              "      <th>ballnumber</th>\n",
              "      <th>batsman_run</th>\n",
              "      <th>extras_run</th>\n",
              "      <th>total_run</th>\n",
              "      <th>isWicketDelivery</th>\n",
              "      <th>BattingTeam</th>\n",
              "      <th>BowlingTeam</th>\n",
              "    </tr>\n",
              "  </thead>\n",
              "  <tbody>\n",
              "    <tr>\n",
              "      <th>0</th>\n",
              "      <td>1312200</td>\n",
              "      <td>1</td>\n",
              "      <td>0</td>\n",
              "      <td>1</td>\n",
              "      <td>0</td>\n",
              "      <td>0</td>\n",
              "      <td>0</td>\n",
              "      <td>0</td>\n",
              "      <td>Rajasthan Royals</td>\n",
              "      <td>Gujarat Titans</td>\n",
              "    </tr>\n",
              "    <tr>\n",
              "      <th>1</th>\n",
              "      <td>1312200</td>\n",
              "      <td>1</td>\n",
              "      <td>0</td>\n",
              "      <td>2</td>\n",
              "      <td>0</td>\n",
              "      <td>1</td>\n",
              "      <td>1</td>\n",
              "      <td>0</td>\n",
              "      <td>Rajasthan Royals</td>\n",
              "      <td>Gujarat Titans</td>\n",
              "    </tr>\n",
              "    <tr>\n",
              "      <th>2</th>\n",
              "      <td>1312200</td>\n",
              "      <td>1</td>\n",
              "      <td>0</td>\n",
              "      <td>3</td>\n",
              "      <td>1</td>\n",
              "      <td>0</td>\n",
              "      <td>1</td>\n",
              "      <td>0</td>\n",
              "      <td>Rajasthan Royals</td>\n",
              "      <td>Gujarat Titans</td>\n",
              "    </tr>\n",
              "    <tr>\n",
              "      <th>3</th>\n",
              "      <td>1312200</td>\n",
              "      <td>1</td>\n",
              "      <td>0</td>\n",
              "      <td>4</td>\n",
              "      <td>0</td>\n",
              "      <td>0</td>\n",
              "      <td>0</td>\n",
              "      <td>0</td>\n",
              "      <td>Rajasthan Royals</td>\n",
              "      <td>Gujarat Titans</td>\n",
              "    </tr>\n",
              "    <tr>\n",
              "      <th>4</th>\n",
              "      <td>1312200</td>\n",
              "      <td>1</td>\n",
              "      <td>0</td>\n",
              "      <td>5</td>\n",
              "      <td>0</td>\n",
              "      <td>0</td>\n",
              "      <td>0</td>\n",
              "      <td>0</td>\n",
              "      <td>Rajasthan Royals</td>\n",
              "      <td>Gujarat Titans</td>\n",
              "    </tr>\n",
              "    <tr>\n",
              "      <th>...</th>\n",
              "      <td>...</td>\n",
              "      <td>...</td>\n",
              "      <td>...</td>\n",
              "      <td>...</td>\n",
              "      <td>...</td>\n",
              "      <td>...</td>\n",
              "      <td>...</td>\n",
              "      <td>...</td>\n",
              "      <td>...</td>\n",
              "      <td>...</td>\n",
              "    </tr>\n",
              "    <tr>\n",
              "      <th>225949</th>\n",
              "      <td>335982</td>\n",
              "      <td>2</td>\n",
              "      <td>14</td>\n",
              "      <td>5</td>\n",
              "      <td>0</td>\n",
              "      <td>1</td>\n",
              "      <td>1</td>\n",
              "      <td>0</td>\n",
              "      <td>Royal Challengers Bangalore</td>\n",
              "      <td>Kolkata Knight Riders</td>\n",
              "    </tr>\n",
              "    <tr>\n",
              "      <th>225950</th>\n",
              "      <td>335982</td>\n",
              "      <td>2</td>\n",
              "      <td>14</td>\n",
              "      <td>6</td>\n",
              "      <td>1</td>\n",
              "      <td>0</td>\n",
              "      <td>1</td>\n",
              "      <td>0</td>\n",
              "      <td>Royal Challengers Bangalore</td>\n",
              "      <td>Kolkata Knight Riders</td>\n",
              "    </tr>\n",
              "    <tr>\n",
              "      <th>225951</th>\n",
              "      <td>335982</td>\n",
              "      <td>2</td>\n",
              "      <td>14</td>\n",
              "      <td>7</td>\n",
              "      <td>0</td>\n",
              "      <td>0</td>\n",
              "      <td>0</td>\n",
              "      <td>0</td>\n",
              "      <td>Royal Challengers Bangalore</td>\n",
              "      <td>Kolkata Knight Riders</td>\n",
              "    </tr>\n",
              "    <tr>\n",
              "      <th>225952</th>\n",
              "      <td>335982</td>\n",
              "      <td>2</td>\n",
              "      <td>15</td>\n",
              "      <td>1</td>\n",
              "      <td>0</td>\n",
              "      <td>1</td>\n",
              "      <td>1</td>\n",
              "      <td>0</td>\n",
              "      <td>Royal Challengers Bangalore</td>\n",
              "      <td>Kolkata Knight Riders</td>\n",
              "    </tr>\n",
              "    <tr>\n",
              "      <th>225953</th>\n",
              "      <td>335982</td>\n",
              "      <td>2</td>\n",
              "      <td>15</td>\n",
              "      <td>2</td>\n",
              "      <td>0</td>\n",
              "      <td>0</td>\n",
              "      <td>0</td>\n",
              "      <td>1</td>\n",
              "      <td>Royal Challengers Bangalore</td>\n",
              "      <td>Kolkata Knight Riders</td>\n",
              "    </tr>\n",
              "  </tbody>\n",
              "</table>\n",
              "<p>225954 rows × 10 columns</p>\n",
              "</div>"
            ],
            "text/plain": [
              "             ID  innings  overs  ballnumber  batsman_run  extras_run  \\\n",
              "0       1312200        1      0           1            0           0   \n",
              "1       1312200        1      0           2            0           1   \n",
              "2       1312200        1      0           3            1           0   \n",
              "3       1312200        1      0           4            0           0   \n",
              "4       1312200        1      0           5            0           0   \n",
              "...         ...      ...    ...         ...          ...         ...   \n",
              "225949   335982        2     14           5            0           1   \n",
              "225950   335982        2     14           6            1           0   \n",
              "225951   335982        2     14           7            0           0   \n",
              "225952   335982        2     15           1            0           1   \n",
              "225953   335982        2     15           2            0           0   \n",
              "\n",
              "        total_run  isWicketDelivery                  BattingTeam  \\\n",
              "0               0                 0             Rajasthan Royals   \n",
              "1               1                 0             Rajasthan Royals   \n",
              "2               1                 0             Rajasthan Royals   \n",
              "3               0                 0             Rajasthan Royals   \n",
              "4               0                 0             Rajasthan Royals   \n",
              "...           ...               ...                          ...   \n",
              "225949          1                 0  Royal Challengers Bangalore   \n",
              "225950          1                 0  Royal Challengers Bangalore   \n",
              "225951          0                 0  Royal Challengers Bangalore   \n",
              "225952          1                 0  Royal Challengers Bangalore   \n",
              "225953          0                 1  Royal Challengers Bangalore   \n",
              "\n",
              "                  BowlingTeam  \n",
              "0              Gujarat Titans  \n",
              "1              Gujarat Titans  \n",
              "2              Gujarat Titans  \n",
              "3              Gujarat Titans  \n",
              "4              Gujarat Titans  \n",
              "...                       ...  \n",
              "225949  Kolkata Knight Riders  \n",
              "225950  Kolkata Knight Riders  \n",
              "225951  Kolkata Knight Riders  \n",
              "225952  Kolkata Knight Riders  \n",
              "225953  Kolkata Knight Riders  \n",
              "\n",
              "[225954 rows x 10 columns]"
            ]
          },
          "execution_count": 11,
          "metadata": {},
          "output_type": "execute_result"
        }
      ],
      "source": [
        "delivery_df"
      ]
    },
    {
      "cell_type": "code",
      "execution_count": 12,
      "metadata": {
        "gather": {
          "logged": 1676794402485
        },
        "jupyter": {
          "outputs_hidden": false,
          "source_hidden": false
        },
        "nteract": {
          "transient": {
            "deleting": false
          }
        }
      },
      "outputs": [],
      "source": [
        "match_df=match_df[['ID','City','Team1','Team2','WinningTeam']]"
      ]
    },
    {
      "cell_type": "code",
      "execution_count": 13,
      "metadata": {
        "gather": {
          "logged": 1676794402794
        },
        "jupyter": {
          "outputs_hidden": false,
          "source_hidden": false
        },
        "nteract": {
          "transient": {
            "deleting": false
          }
        }
      },
      "outputs": [
        {
          "data": {
            "text/html": [
              "<div>\n",
              "<style scoped>\n",
              "    .dataframe tbody tr th:only-of-type {\n",
              "        vertical-align: middle;\n",
              "    }\n",
              "\n",
              "    .dataframe tbody tr th {\n",
              "        vertical-align: top;\n",
              "    }\n",
              "\n",
              "    .dataframe thead th {\n",
              "        text-align: right;\n",
              "    }\n",
              "</style>\n",
              "<table border=\"1\" class=\"dataframe\">\n",
              "  <thead>\n",
              "    <tr style=\"text-align: right;\">\n",
              "      <th></th>\n",
              "      <th>ID</th>\n",
              "      <th>City</th>\n",
              "      <th>Team1</th>\n",
              "      <th>Team2</th>\n",
              "      <th>WinningTeam</th>\n",
              "    </tr>\n",
              "  </thead>\n",
              "  <tbody>\n",
              "    <tr>\n",
              "      <th>0</th>\n",
              "      <td>1312200</td>\n",
              "      <td>Ahmedabad</td>\n",
              "      <td>Rajasthan Royals</td>\n",
              "      <td>Gujarat Titans</td>\n",
              "      <td>Gujarat Titans</td>\n",
              "    </tr>\n",
              "    <tr>\n",
              "      <th>1</th>\n",
              "      <td>1312200</td>\n",
              "      <td>Ahmedabad</td>\n",
              "      <td>Rajasthan Royals</td>\n",
              "      <td>Gujarat Titans</td>\n",
              "      <td>Gujarat Titans</td>\n",
              "    </tr>\n",
              "    <tr>\n",
              "      <th>2</th>\n",
              "      <td>1312200</td>\n",
              "      <td>Ahmedabad</td>\n",
              "      <td>Rajasthan Royals</td>\n",
              "      <td>Gujarat Titans</td>\n",
              "      <td>Gujarat Titans</td>\n",
              "    </tr>\n",
              "    <tr>\n",
              "      <th>3</th>\n",
              "      <td>1312200</td>\n",
              "      <td>Ahmedabad</td>\n",
              "      <td>Rajasthan Royals</td>\n",
              "      <td>Gujarat Titans</td>\n",
              "      <td>Gujarat Titans</td>\n",
              "    </tr>\n",
              "    <tr>\n",
              "      <th>4</th>\n",
              "      <td>1312200</td>\n",
              "      <td>Ahmedabad</td>\n",
              "      <td>Rajasthan Royals</td>\n",
              "      <td>Gujarat Titans</td>\n",
              "      <td>Gujarat Titans</td>\n",
              "    </tr>\n",
              "    <tr>\n",
              "      <th>...</th>\n",
              "      <td>...</td>\n",
              "      <td>...</td>\n",
              "      <td>...</td>\n",
              "      <td>...</td>\n",
              "      <td>...</td>\n",
              "    </tr>\n",
              "    <tr>\n",
              "      <th>225949</th>\n",
              "      <td>335982</td>\n",
              "      <td>Bangalore</td>\n",
              "      <td>Royal Challengers Bangalore</td>\n",
              "      <td>Kolkata Knight Riders</td>\n",
              "      <td>Kolkata Knight Riders</td>\n",
              "    </tr>\n",
              "    <tr>\n",
              "      <th>225950</th>\n",
              "      <td>335982</td>\n",
              "      <td>Bangalore</td>\n",
              "      <td>Royal Challengers Bangalore</td>\n",
              "      <td>Kolkata Knight Riders</td>\n",
              "      <td>Kolkata Knight Riders</td>\n",
              "    </tr>\n",
              "    <tr>\n",
              "      <th>225951</th>\n",
              "      <td>335982</td>\n",
              "      <td>Bangalore</td>\n",
              "      <td>Royal Challengers Bangalore</td>\n",
              "      <td>Kolkata Knight Riders</td>\n",
              "      <td>Kolkata Knight Riders</td>\n",
              "    </tr>\n",
              "    <tr>\n",
              "      <th>225952</th>\n",
              "      <td>335982</td>\n",
              "      <td>Bangalore</td>\n",
              "      <td>Royal Challengers Bangalore</td>\n",
              "      <td>Kolkata Knight Riders</td>\n",
              "      <td>Kolkata Knight Riders</td>\n",
              "    </tr>\n",
              "    <tr>\n",
              "      <th>225953</th>\n",
              "      <td>335982</td>\n",
              "      <td>Bangalore</td>\n",
              "      <td>Royal Challengers Bangalore</td>\n",
              "      <td>Kolkata Knight Riders</td>\n",
              "      <td>Kolkata Knight Riders</td>\n",
              "    </tr>\n",
              "  </tbody>\n",
              "</table>\n",
              "<p>225954 rows × 5 columns</p>\n",
              "</div>"
            ],
            "text/plain": [
              "             ID       City                        Team1  \\\n",
              "0       1312200  Ahmedabad             Rajasthan Royals   \n",
              "1       1312200  Ahmedabad             Rajasthan Royals   \n",
              "2       1312200  Ahmedabad             Rajasthan Royals   \n",
              "3       1312200  Ahmedabad             Rajasthan Royals   \n",
              "4       1312200  Ahmedabad             Rajasthan Royals   \n",
              "...         ...        ...                          ...   \n",
              "225949   335982  Bangalore  Royal Challengers Bangalore   \n",
              "225950   335982  Bangalore  Royal Challengers Bangalore   \n",
              "225951   335982  Bangalore  Royal Challengers Bangalore   \n",
              "225952   335982  Bangalore  Royal Challengers Bangalore   \n",
              "225953   335982  Bangalore  Royal Challengers Bangalore   \n",
              "\n",
              "                        Team2            WinningTeam  \n",
              "0              Gujarat Titans         Gujarat Titans  \n",
              "1              Gujarat Titans         Gujarat Titans  \n",
              "2              Gujarat Titans         Gujarat Titans  \n",
              "3              Gujarat Titans         Gujarat Titans  \n",
              "4              Gujarat Titans         Gujarat Titans  \n",
              "...                       ...                    ...  \n",
              "225949  Kolkata Knight Riders  Kolkata Knight Riders  \n",
              "225950  Kolkata Knight Riders  Kolkata Knight Riders  \n",
              "225951  Kolkata Knight Riders  Kolkata Knight Riders  \n",
              "225952  Kolkata Knight Riders  Kolkata Knight Riders  \n",
              "225953  Kolkata Knight Riders  Kolkata Knight Riders  \n",
              "\n",
              "[225954 rows x 5 columns]"
            ]
          },
          "execution_count": 13,
          "metadata": {},
          "output_type": "execute_result"
        }
      ],
      "source": [
        "match_df"
      ]
    },
    {
      "cell_type": "markdown",
      "metadata": {
        "nteract": {
          "transient": {
            "deleting": false
          }
        }
      },
      "source": [
        "#### Step 4: Checking the shape of the data"
      ]
    },
    {
      "cell_type": "code",
      "execution_count": 14,
      "metadata": {
        "gather": {
          "logged": 1676794403065
        },
        "jupyter": {
          "outputs_hidden": false,
          "source_hidden": false
        },
        "nteract": {
          "transient": {
            "deleting": false
          }
        }
      },
      "outputs": [
        {
          "data": {
            "text/plain": [
              "(225954, 5)"
            ]
          },
          "execution_count": 14,
          "metadata": {},
          "output_type": "execute_result"
        }
      ],
      "source": [
        "match_df.shape"
      ]
    },
    {
      "cell_type": "code",
      "execution_count": 15,
      "metadata": {
        "gather": {
          "logged": 1676794403317
        },
        "jupyter": {
          "outputs_hidden": false,
          "source_hidden": false
        },
        "nteract": {
          "transient": {
            "deleting": false
          }
        }
      },
      "outputs": [
        {
          "data": {
            "text/plain": [
              "(225954, 10)"
            ]
          },
          "execution_count": 15,
          "metadata": {},
          "output_type": "execute_result"
        }
      ],
      "source": [
        "delivery_df.shape"
      ]
    },
    {
      "cell_type": "markdown",
      "metadata": {
        "nteract": {
          "transient": {
            "deleting": false
          }
        }
      },
      "source": [
        "#### Step 5: Group by innings and display the total runs per match in each inning"
      ]
    },
    {
      "cell_type": "code",
      "execution_count": 16,
      "metadata": {
        "gather": {
          "logged": 1676794407518
        },
        "jupyter": {
          "outputs_hidden": false,
          "source_hidden": false
        },
        "nteract": {
          "transient": {
            "deleting": false
          }
        }
      },
      "outputs": [
        {
          "name": "stderr",
          "output_type": "stream",
          "text": [
            "/tmp/ipykernel_11888/1386064346.py:1: FutureWarning: The default value of numeric_only in DataFrameGroupBy.sum is deprecated. In a future version, numeric_only will default to False. Either specify numeric_only or select only columns which should be valid for the function.\n",
            "  total_scores_df = delivery_df.groupby(['ID','innings']).sum()['total_run'].reset_index()\n"
          ]
        }
      ],
      "source": [
        "total_scores_df = delivery_df.groupby(['ID','innings']).sum()['total_run'].reset_index()"
      ]
    },
    {
      "cell_type": "code",
      "execution_count": 17,
      "metadata": {
        "gather": {
          "logged": 1676794407939
        },
        "jupyter": {
          "outputs_hidden": false,
          "source_hidden": false
        },
        "nteract": {
          "transient": {
            "deleting": false
          }
        }
      },
      "outputs": [
        {
          "data": {
            "text/html": [
              "<div>\n",
              "<style scoped>\n",
              "    .dataframe tbody tr th:only-of-type {\n",
              "        vertical-align: middle;\n",
              "    }\n",
              "\n",
              "    .dataframe tbody tr th {\n",
              "        vertical-align: top;\n",
              "    }\n",
              "\n",
              "    .dataframe thead th {\n",
              "        text-align: right;\n",
              "    }\n",
              "</style>\n",
              "<table border=\"1\" class=\"dataframe\">\n",
              "  <thead>\n",
              "    <tr style=\"text-align: right;\">\n",
              "      <th></th>\n",
              "      <th>ID</th>\n",
              "      <th>innings</th>\n",
              "      <th>total_run</th>\n",
              "    </tr>\n",
              "  </thead>\n",
              "  <tbody>\n",
              "    <tr>\n",
              "      <th>0</th>\n",
              "      <td>335982</td>\n",
              "      <td>1</td>\n",
              "      <td>222</td>\n",
              "    </tr>\n",
              "    <tr>\n",
              "      <th>1</th>\n",
              "      <td>335982</td>\n",
              "      <td>2</td>\n",
              "      <td>82</td>\n",
              "    </tr>\n",
              "    <tr>\n",
              "      <th>2</th>\n",
              "      <td>335983</td>\n",
              "      <td>1</td>\n",
              "      <td>240</td>\n",
              "    </tr>\n",
              "    <tr>\n",
              "      <th>3</th>\n",
              "      <td>335983</td>\n",
              "      <td>2</td>\n",
              "      <td>207</td>\n",
              "    </tr>\n",
              "    <tr>\n",
              "      <th>4</th>\n",
              "      <td>335984</td>\n",
              "      <td>1</td>\n",
              "      <td>129</td>\n",
              "    </tr>\n",
              "    <tr>\n",
              "      <th>...</th>\n",
              "      <td>...</td>\n",
              "      <td>...</td>\n",
              "      <td>...</td>\n",
              "    </tr>\n",
              "    <tr>\n",
              "      <th>1923</th>\n",
              "      <td>1312198</td>\n",
              "      <td>2</td>\n",
              "      <td>193</td>\n",
              "    </tr>\n",
              "    <tr>\n",
              "      <th>1924</th>\n",
              "      <td>1312199</td>\n",
              "      <td>1</td>\n",
              "      <td>157</td>\n",
              "    </tr>\n",
              "    <tr>\n",
              "      <th>1925</th>\n",
              "      <td>1312199</td>\n",
              "      <td>2</td>\n",
              "      <td>161</td>\n",
              "    </tr>\n",
              "    <tr>\n",
              "      <th>1926</th>\n",
              "      <td>1312200</td>\n",
              "      <td>1</td>\n",
              "      <td>130</td>\n",
              "    </tr>\n",
              "    <tr>\n",
              "      <th>1927</th>\n",
              "      <td>1312200</td>\n",
              "      <td>2</td>\n",
              "      <td>133</td>\n",
              "    </tr>\n",
              "  </tbody>\n",
              "</table>\n",
              "<p>1928 rows × 3 columns</p>\n",
              "</div>"
            ],
            "text/plain": [
              "           ID  innings  total_run\n",
              "0      335982        1        222\n",
              "1      335982        2         82\n",
              "2      335983        1        240\n",
              "3      335983        2        207\n",
              "4      335984        1        129\n",
              "...       ...      ...        ...\n",
              "1923  1312198        2        193\n",
              "1924  1312199        1        157\n",
              "1925  1312199        2        161\n",
              "1926  1312200        1        130\n",
              "1927  1312200        2        133\n",
              "\n",
              "[1928 rows x 3 columns]"
            ]
          },
          "execution_count": 17,
          "metadata": {},
          "output_type": "execute_result"
        }
      ],
      "source": [
        "total_scores_df"
      ]
    },
    {
      "cell_type": "markdown",
      "metadata": {
        "nteract": {
          "transient": {
            "deleting": false
          }
        }
      },
      "source": [
        "#### Step 6: Gather the data of only the first innings"
      ]
    },
    {
      "cell_type": "code",
      "execution_count": 18,
      "metadata": {
        "gather": {
          "logged": 1676794408461
        },
        "jupyter": {
          "outputs_hidden": false,
          "source_hidden": false
        },
        "nteract": {
          "transient": {
            "deleting": false
          }
        }
      },
      "outputs": [],
      "source": [
        "total_scores_df = total_scores_df[total_scores_df['innings'] == 1]"
      ]
    },
    {
      "cell_type": "code",
      "execution_count": 19,
      "metadata": {
        "gather": {
          "logged": 1676794408781
        },
        "jupyter": {
          "outputs_hidden": false,
          "source_hidden": false
        },
        "nteract": {
          "transient": {
            "deleting": false
          }
        }
      },
      "outputs": [
        {
          "data": {
            "text/html": [
              "<div>\n",
              "<style scoped>\n",
              "    .dataframe tbody tr th:only-of-type {\n",
              "        vertical-align: middle;\n",
              "    }\n",
              "\n",
              "    .dataframe tbody tr th {\n",
              "        vertical-align: top;\n",
              "    }\n",
              "\n",
              "    .dataframe thead th {\n",
              "        text-align: right;\n",
              "    }\n",
              "</style>\n",
              "<table border=\"1\" class=\"dataframe\">\n",
              "  <thead>\n",
              "    <tr style=\"text-align: right;\">\n",
              "      <th></th>\n",
              "      <th>ID</th>\n",
              "      <th>innings</th>\n",
              "      <th>total_run</th>\n",
              "    </tr>\n",
              "  </thead>\n",
              "  <tbody>\n",
              "    <tr>\n",
              "      <th>0</th>\n",
              "      <td>335982</td>\n",
              "      <td>1</td>\n",
              "      <td>222</td>\n",
              "    </tr>\n",
              "    <tr>\n",
              "      <th>2</th>\n",
              "      <td>335983</td>\n",
              "      <td>1</td>\n",
              "      <td>240</td>\n",
              "    </tr>\n",
              "    <tr>\n",
              "      <th>4</th>\n",
              "      <td>335984</td>\n",
              "      <td>1</td>\n",
              "      <td>129</td>\n",
              "    </tr>\n",
              "    <tr>\n",
              "      <th>6</th>\n",
              "      <td>335985</td>\n",
              "      <td>1</td>\n",
              "      <td>165</td>\n",
              "    </tr>\n",
              "    <tr>\n",
              "      <th>8</th>\n",
              "      <td>335986</td>\n",
              "      <td>1</td>\n",
              "      <td>110</td>\n",
              "    </tr>\n",
              "    <tr>\n",
              "      <th>...</th>\n",
              "      <td>...</td>\n",
              "      <td>...</td>\n",
              "      <td>...</td>\n",
              "    </tr>\n",
              "    <tr>\n",
              "      <th>1918</th>\n",
              "      <td>1304116</td>\n",
              "      <td>1</td>\n",
              "      <td>157</td>\n",
              "    </tr>\n",
              "    <tr>\n",
              "      <th>1920</th>\n",
              "      <td>1312197</td>\n",
              "      <td>1</td>\n",
              "      <td>188</td>\n",
              "    </tr>\n",
              "    <tr>\n",
              "      <th>1922</th>\n",
              "      <td>1312198</td>\n",
              "      <td>1</td>\n",
              "      <td>207</td>\n",
              "    </tr>\n",
              "    <tr>\n",
              "      <th>1924</th>\n",
              "      <td>1312199</td>\n",
              "      <td>1</td>\n",
              "      <td>157</td>\n",
              "    </tr>\n",
              "    <tr>\n",
              "      <th>1926</th>\n",
              "      <td>1312200</td>\n",
              "      <td>1</td>\n",
              "      <td>130</td>\n",
              "    </tr>\n",
              "  </tbody>\n",
              "</table>\n",
              "<p>950 rows × 3 columns</p>\n",
              "</div>"
            ],
            "text/plain": [
              "           ID  innings  total_run\n",
              "0      335982        1        222\n",
              "2      335983        1        240\n",
              "4      335984        1        129\n",
              "6      335985        1        165\n",
              "8      335986        1        110\n",
              "...       ...      ...        ...\n",
              "1918  1304116        1        157\n",
              "1920  1312197        1        188\n",
              "1922  1312198        1        207\n",
              "1924  1312199        1        157\n",
              "1926  1312200        1        130\n",
              "\n",
              "[950 rows x 3 columns]"
            ]
          },
          "execution_count": 19,
          "metadata": {},
          "output_type": "execute_result"
        }
      ],
      "source": [
        "total_scores_df"
      ]
    },
    {
      "cell_type": "markdown",
      "metadata": {
        "nteract": {
          "transient": {
            "deleting": false
          }
        }
      },
      "source": [
        "#### Step 7: Merge total_scores_df and match_df\n",
        "\n",
        "This is done to get the total runs in the match table."
      ]
    },
    {
      "cell_type": "code",
      "execution_count": 20,
      "metadata": {
        "gather": {
          "logged": 1676794409049
        },
        "jupyter": {
          "outputs_hidden": false,
          "source_hidden": false
        },
        "nteract": {
          "transient": {
            "deleting": false
          }
        }
      },
      "outputs": [],
      "source": [
        "match_df = match_df.merge(total_scores_df[['ID','total_run']], on='ID')"
      ]
    },
    {
      "cell_type": "code",
      "execution_count": 21,
      "metadata": {
        "gather": {
          "logged": 1676794412573
        },
        "jupyter": {
          "outputs_hidden": false,
          "source_hidden": false
        },
        "nteract": {
          "transient": {
            "deleting": false
          }
        }
      },
      "outputs": [
        {
          "data": {
            "text/html": [
              "<div>\n",
              "<style scoped>\n",
              "    .dataframe tbody tr th:only-of-type {\n",
              "        vertical-align: middle;\n",
              "    }\n",
              "\n",
              "    .dataframe tbody tr th {\n",
              "        vertical-align: top;\n",
              "    }\n",
              "\n",
              "    .dataframe thead th {\n",
              "        text-align: right;\n",
              "    }\n",
              "</style>\n",
              "<table border=\"1\" class=\"dataframe\">\n",
              "  <thead>\n",
              "    <tr style=\"text-align: right;\">\n",
              "      <th></th>\n",
              "      <th>ID</th>\n",
              "      <th>City</th>\n",
              "      <th>Team1</th>\n",
              "      <th>Team2</th>\n",
              "      <th>WinningTeam</th>\n",
              "      <th>total_run</th>\n",
              "    </tr>\n",
              "  </thead>\n",
              "  <tbody>\n",
              "    <tr>\n",
              "      <th>0</th>\n",
              "      <td>1312200</td>\n",
              "      <td>Ahmedabad</td>\n",
              "      <td>Rajasthan Royals</td>\n",
              "      <td>Gujarat Titans</td>\n",
              "      <td>Gujarat Titans</td>\n",
              "      <td>130</td>\n",
              "    </tr>\n",
              "    <tr>\n",
              "      <th>1</th>\n",
              "      <td>1312200</td>\n",
              "      <td>Ahmedabad</td>\n",
              "      <td>Rajasthan Royals</td>\n",
              "      <td>Gujarat Titans</td>\n",
              "      <td>Gujarat Titans</td>\n",
              "      <td>130</td>\n",
              "    </tr>\n",
              "    <tr>\n",
              "      <th>2</th>\n",
              "      <td>1312200</td>\n",
              "      <td>Ahmedabad</td>\n",
              "      <td>Rajasthan Royals</td>\n",
              "      <td>Gujarat Titans</td>\n",
              "      <td>Gujarat Titans</td>\n",
              "      <td>130</td>\n",
              "    </tr>\n",
              "    <tr>\n",
              "      <th>3</th>\n",
              "      <td>1312200</td>\n",
              "      <td>Ahmedabad</td>\n",
              "      <td>Rajasthan Royals</td>\n",
              "      <td>Gujarat Titans</td>\n",
              "      <td>Gujarat Titans</td>\n",
              "      <td>130</td>\n",
              "    </tr>\n",
              "    <tr>\n",
              "      <th>4</th>\n",
              "      <td>1312200</td>\n",
              "      <td>Ahmedabad</td>\n",
              "      <td>Rajasthan Royals</td>\n",
              "      <td>Gujarat Titans</td>\n",
              "      <td>Gujarat Titans</td>\n",
              "      <td>130</td>\n",
              "    </tr>\n",
              "    <tr>\n",
              "      <th>...</th>\n",
              "      <td>...</td>\n",
              "      <td>...</td>\n",
              "      <td>...</td>\n",
              "      <td>...</td>\n",
              "      <td>...</td>\n",
              "      <td>...</td>\n",
              "    </tr>\n",
              "    <tr>\n",
              "      <th>225949</th>\n",
              "      <td>335982</td>\n",
              "      <td>Bangalore</td>\n",
              "      <td>Royal Challengers Bangalore</td>\n",
              "      <td>Kolkata Knight Riders</td>\n",
              "      <td>Kolkata Knight Riders</td>\n",
              "      <td>222</td>\n",
              "    </tr>\n",
              "    <tr>\n",
              "      <th>225950</th>\n",
              "      <td>335982</td>\n",
              "      <td>Bangalore</td>\n",
              "      <td>Royal Challengers Bangalore</td>\n",
              "      <td>Kolkata Knight Riders</td>\n",
              "      <td>Kolkata Knight Riders</td>\n",
              "      <td>222</td>\n",
              "    </tr>\n",
              "    <tr>\n",
              "      <th>225951</th>\n",
              "      <td>335982</td>\n",
              "      <td>Bangalore</td>\n",
              "      <td>Royal Challengers Bangalore</td>\n",
              "      <td>Kolkata Knight Riders</td>\n",
              "      <td>Kolkata Knight Riders</td>\n",
              "      <td>222</td>\n",
              "    </tr>\n",
              "    <tr>\n",
              "      <th>225952</th>\n",
              "      <td>335982</td>\n",
              "      <td>Bangalore</td>\n",
              "      <td>Royal Challengers Bangalore</td>\n",
              "      <td>Kolkata Knight Riders</td>\n",
              "      <td>Kolkata Knight Riders</td>\n",
              "      <td>222</td>\n",
              "    </tr>\n",
              "    <tr>\n",
              "      <th>225953</th>\n",
              "      <td>335982</td>\n",
              "      <td>Bangalore</td>\n",
              "      <td>Royal Challengers Bangalore</td>\n",
              "      <td>Kolkata Knight Riders</td>\n",
              "      <td>Kolkata Knight Riders</td>\n",
              "      <td>222</td>\n",
              "    </tr>\n",
              "  </tbody>\n",
              "</table>\n",
              "<p>225954 rows × 6 columns</p>\n",
              "</div>"
            ],
            "text/plain": [
              "             ID       City                        Team1  \\\n",
              "0       1312200  Ahmedabad             Rajasthan Royals   \n",
              "1       1312200  Ahmedabad             Rajasthan Royals   \n",
              "2       1312200  Ahmedabad             Rajasthan Royals   \n",
              "3       1312200  Ahmedabad             Rajasthan Royals   \n",
              "4       1312200  Ahmedabad             Rajasthan Royals   \n",
              "...         ...        ...                          ...   \n",
              "225949   335982  Bangalore  Royal Challengers Bangalore   \n",
              "225950   335982  Bangalore  Royal Challengers Bangalore   \n",
              "225951   335982  Bangalore  Royal Challengers Bangalore   \n",
              "225952   335982  Bangalore  Royal Challengers Bangalore   \n",
              "225953   335982  Bangalore  Royal Challengers Bangalore   \n",
              "\n",
              "                        Team2            WinningTeam  total_run  \n",
              "0              Gujarat Titans         Gujarat Titans        130  \n",
              "1              Gujarat Titans         Gujarat Titans        130  \n",
              "2              Gujarat Titans         Gujarat Titans        130  \n",
              "3              Gujarat Titans         Gujarat Titans        130  \n",
              "4              Gujarat Titans         Gujarat Titans        130  \n",
              "...                       ...                    ...        ...  \n",
              "225949  Kolkata Knight Riders  Kolkata Knight Riders        222  \n",
              "225950  Kolkata Knight Riders  Kolkata Knight Riders        222  \n",
              "225951  Kolkata Knight Riders  Kolkata Knight Riders        222  \n",
              "225952  Kolkata Knight Riders  Kolkata Knight Riders        222  \n",
              "225953  Kolkata Knight Riders  Kolkata Knight Riders        222  \n",
              "\n",
              "[225954 rows x 6 columns]"
            ]
          },
          "execution_count": 21,
          "metadata": {},
          "output_type": "execute_result"
        }
      ],
      "source": [
        "match_df"
      ]
    },
    {
      "cell_type": "markdown",
      "metadata": {
        "nteract": {
          "transient": {
            "deleting": false
          }
        }
      },
      "source": [
        "#### Step 8: List the unique teams"
      ]
    },
    {
      "cell_type": "code",
      "execution_count": 22,
      "metadata": {
        "gather": {
          "logged": 1676794412982
        },
        "jupyter": {
          "outputs_hidden": false,
          "source_hidden": false
        },
        "nteract": {
          "transient": {
            "deleting": false
          }
        }
      },
      "outputs": [
        {
          "data": {
            "text/plain": [
              "array(['Rajasthan Royals', 'Royal Challengers Bangalore',\n",
              "       'Sunrisers Hyderabad', 'Delhi Capitals', 'Chennai Super Kings',\n",
              "       'Gujarat Titans', 'Lucknow Super Giants', 'Kolkata Knight Riders',\n",
              "       'Punjab Kings', 'Mumbai Indians', 'Kings XI Punjab',\n",
              "       'Delhi Daredevils', 'Rising Pune Supergiant', 'Gujarat Lions',\n",
              "       'Rising Pune Supergiants', 'Pune Warriors', 'Deccan Chargers',\n",
              "       'Kochi Tuskers Kerala'], dtype=object)"
            ]
          },
          "execution_count": 22,
          "metadata": {},
          "output_type": "execute_result"
        }
      ],
      "source": [
        "match_df['Team1'].unique()"
      ]
    },
    {
      "cell_type": "code",
      "execution_count": 23,
      "metadata": {
        "gather": {
          "logged": 1676794413408
        },
        "jupyter": {
          "outputs_hidden": false,
          "source_hidden": false
        },
        "nteract": {
          "transient": {
            "deleting": false
          }
        }
      },
      "outputs": [],
      "source": [
        "teams = [\n",
        "    'Rajasthan Royals',\n",
        "    'Royal Challengers Bangalore',\n",
        "    'Sunrisers Hyderabad',\n",
        "    'Delhi Capitals',\n",
        "    'Chennai Super Kings',\n",
        "    'Gujarat Titans',\n",
        "    'Lucknow Super Giants',\n",
        "    'Kolkata Knight Riders',\n",
        "    'Punjab Kings',\n",
        "    'Mumbai Indians'\n",
        "]"
      ]
    },
    {
      "cell_type": "code",
      "execution_count": 24,
      "metadata": {
        "gather": {
          "logged": 1676794414314
        },
        "jupyter": {
          "outputs_hidden": false,
          "source_hidden": false
        },
        "nteract": {
          "transient": {
            "deleting": false
          }
        }
      },
      "outputs": [],
      "source": [
        "match_df['Team1'] = match_df['Team1'].str.replace('Delhi Daredevils','Delhi Capitals')\n",
        "match_df['Team2'] = match_df['Team2'].str.replace('Delhi Daredevils','Delhi Capitals')\n",
        "match_df['WinningTeam'] = match_df['WinningTeam'].str.replace('Delhi Daredevils','Delhi Capitals')\n",
        "\n",
        "match_df['Team1'] = match_df['Team1'].str.replace('Deccan Chargers','Sunrisers Hyderabad')\n",
        "match_df['Team2'] = match_df['Team2'].str.replace('Deccan Chargers','Sunrisers Hyderabad')\n",
        "match_df['WinningTeam'] = match_df['WinningTeam'].str.replace('Deccan Chargers','Sunrisers Hyderabad')\n",
        "\n",
        "match_df['Team1'] = match_df['Team1'].str.replace('Gujarat Lions','Gujarat Titans')\n",
        "match_df['Team2'] = match_df['Team2'].str.replace('Gujarat Lions','Gujarat Titans')\n",
        "match_df['WinningTeam'] = match_df['WinningTeam'].str.replace('Gujarat Lions','Gujarat Titans')\n",
        "\n",
        "match_df['Team1'] = match_df['Team1'].str.replace('Kings XI Punjab','Punjab Kings')\n",
        "match_df['Team2'] = match_df['Team2'].str.replace('Kings XI Punjab','Punjab Kings')\n",
        "match_df['WinningTeam'] = match_df['WinningTeam'].str.replace('Kings XI Punjab','Punjab Kings')"
      ]
    },
    {
      "cell_type": "code",
      "execution_count": 25,
      "metadata": {},
      "outputs": [
        {
          "name": "stderr",
          "output_type": "stream",
          "text": [
            "/tmp/ipykernel_11888/306222907.py:1: SettingWithCopyWarning: \n",
            "A value is trying to be set on a copy of a slice from a DataFrame.\n",
            "Try using .loc[row_indexer,col_indexer] = value instead\n",
            "\n",
            "See the caveats in the documentation: https://pandas.pydata.org/pandas-docs/stable/user_guide/indexing.html#returning-a-view-versus-a-copy\n",
            "  delivery_df['BattingTeam'] = delivery_df['BattingTeam'].str.replace('Delhi Daredevils','Delhi Capitals')\n",
            "/tmp/ipykernel_11888/306222907.py:2: SettingWithCopyWarning: \n",
            "A value is trying to be set on a copy of a slice from a DataFrame.\n",
            "Try using .loc[row_indexer,col_indexer] = value instead\n",
            "\n",
            "See the caveats in the documentation: https://pandas.pydata.org/pandas-docs/stable/user_guide/indexing.html#returning-a-view-versus-a-copy\n",
            "  delivery_df['BowlingTeam'] = delivery_df['BowlingTeam'].str.replace('Delhi Daredevils','Delhi Capitals')\n",
            "/tmp/ipykernel_11888/306222907.py:4: SettingWithCopyWarning: \n",
            "A value is trying to be set on a copy of a slice from a DataFrame.\n",
            "Try using .loc[row_indexer,col_indexer] = value instead\n",
            "\n",
            "See the caveats in the documentation: https://pandas.pydata.org/pandas-docs/stable/user_guide/indexing.html#returning-a-view-versus-a-copy\n",
            "  delivery_df['BattingTeam'] = delivery_df['BattingTeam'].str.replace('Deccan Chargers','Sunrisers Hyderabad')\n",
            "/tmp/ipykernel_11888/306222907.py:5: SettingWithCopyWarning: \n",
            "A value is trying to be set on a copy of a slice from a DataFrame.\n",
            "Try using .loc[row_indexer,col_indexer] = value instead\n",
            "\n",
            "See the caveats in the documentation: https://pandas.pydata.org/pandas-docs/stable/user_guide/indexing.html#returning-a-view-versus-a-copy\n",
            "  delivery_df['BowlingTeam'] = delivery_df['BowlingTeam'].str.replace('Deccan Chargers','Sunrisers Hyderabad')\n",
            "/tmp/ipykernel_11888/306222907.py:7: SettingWithCopyWarning: \n",
            "A value is trying to be set on a copy of a slice from a DataFrame.\n",
            "Try using .loc[row_indexer,col_indexer] = value instead\n",
            "\n",
            "See the caveats in the documentation: https://pandas.pydata.org/pandas-docs/stable/user_guide/indexing.html#returning-a-view-versus-a-copy\n",
            "  delivery_df['BattingTeam'] = delivery_df['BattingTeam'].str.replace('Gujarat Lions','Gujarat Titans')\n",
            "/tmp/ipykernel_11888/306222907.py:8: SettingWithCopyWarning: \n",
            "A value is trying to be set on a copy of a slice from a DataFrame.\n",
            "Try using .loc[row_indexer,col_indexer] = value instead\n",
            "\n",
            "See the caveats in the documentation: https://pandas.pydata.org/pandas-docs/stable/user_guide/indexing.html#returning-a-view-versus-a-copy\n",
            "  delivery_df['BowlingTeam'] = delivery_df['BowlingTeam'].str.replace('Gujarat Lions','Gujarat Titans')\n",
            "/tmp/ipykernel_11888/306222907.py:10: SettingWithCopyWarning: \n",
            "A value is trying to be set on a copy of a slice from a DataFrame.\n",
            "Try using .loc[row_indexer,col_indexer] = value instead\n",
            "\n",
            "See the caveats in the documentation: https://pandas.pydata.org/pandas-docs/stable/user_guide/indexing.html#returning-a-view-versus-a-copy\n",
            "  delivery_df['BattingTeam'] = delivery_df['BattingTeam'].str.replace('Kings XI Punjab','Punjab Kings')\n",
            "/tmp/ipykernel_11888/306222907.py:11: SettingWithCopyWarning: \n",
            "A value is trying to be set on a copy of a slice from a DataFrame.\n",
            "Try using .loc[row_indexer,col_indexer] = value instead\n",
            "\n",
            "See the caveats in the documentation: https://pandas.pydata.org/pandas-docs/stable/user_guide/indexing.html#returning-a-view-versus-a-copy\n",
            "  delivery_df['BowlingTeam'] = delivery_df['BowlingTeam'].str.replace('Kings XI Punjab','Punjab Kings')\n"
          ]
        }
      ],
      "source": [
        "delivery_df['BattingTeam'] = delivery_df['BattingTeam'].str.replace('Delhi Daredevils','Delhi Capitals')\n",
        "delivery_df['BowlingTeam'] = delivery_df['BowlingTeam'].str.replace('Delhi Daredevils','Delhi Capitals')\n",
        "\n",
        "delivery_df['BattingTeam'] = delivery_df['BattingTeam'].str.replace('Deccan Chargers','Sunrisers Hyderabad')\n",
        "delivery_df['BowlingTeam'] = delivery_df['BowlingTeam'].str.replace('Deccan Chargers','Sunrisers Hyderabad')\n",
        "\n",
        "delivery_df['BattingTeam'] = delivery_df['BattingTeam'].str.replace('Gujarat Lions','Gujarat Titans')\n",
        "delivery_df['BowlingTeam'] = delivery_df['BowlingTeam'].str.replace('Gujarat Lions','Gujarat Titans')\n",
        "\n",
        "delivery_df['BattingTeam'] = delivery_df['BattingTeam'].str.replace('Kings XI Punjab','Punjab Kings')\n",
        "delivery_df['BowlingTeam'] = delivery_df['BowlingTeam'].str.replace('Kings XI Punjab','Punjab Kings')"
      ]
    },
    {
      "attachments": {},
      "cell_type": "markdown",
      "metadata": {
        "nteract": {
          "transient": {
            "deleting": false
          }
        }
      },
      "source": [
        "#### Step 9: Update the match_df and delivery_df"
      ]
    },
    {
      "attachments": {},
      "cell_type": "markdown",
      "metadata": {},
      "source": [
        "match_df"
      ]
    },
    {
      "cell_type": "code",
      "execution_count": 26,
      "metadata": {
        "gather": {
          "logged": 1676794414873
        },
        "jupyter": {
          "outputs_hidden": false,
          "source_hidden": false
        },
        "nteract": {
          "transient": {
            "deleting": false
          }
        }
      },
      "outputs": [],
      "source": [
        "match_df = match_df[match_df['Team1'].isin(teams)]\n",
        "match_df = match_df[match_df['Team2'].isin(teams)]\n",
        "match_df = match_df[match_df['WinningTeam'].isin(teams)]"
      ]
    },
    {
      "cell_type": "code",
      "execution_count": 27,
      "metadata": {
        "gather": {
          "logged": 1676794415141
        },
        "jupyter": {
          "outputs_hidden": false,
          "source_hidden": false
        },
        "nteract": {
          "transient": {
            "deleting": false
          }
        }
      },
      "outputs": [
        {
          "data": {
            "text/plain": [
              "(204772, 6)"
            ]
          },
          "execution_count": 27,
          "metadata": {},
          "output_type": "execute_result"
        }
      ],
      "source": [
        "match_df.shape"
      ]
    },
    {
      "cell_type": "code",
      "execution_count": 28,
      "metadata": {
        "gather": {
          "logged": 1676794418230
        },
        "jupyter": {
          "outputs_hidden": false,
          "source_hidden": false
        },
        "nteract": {
          "transient": {
            "deleting": false
          }
        }
      },
      "outputs": [],
      "source": [
        "match_df = match_df[['ID','City','WinningTeam','total_run']]"
      ]
    },
    {
      "cell_type": "code",
      "execution_count": 29,
      "metadata": {
        "gather": {
          "logged": 1676794418634
        },
        "jupyter": {
          "outputs_hidden": false,
          "source_hidden": false
        },
        "nteract": {
          "transient": {
            "deleting": false
          }
        }
      },
      "outputs": [
        {
          "data": {
            "text/html": [
              "<div>\n",
              "<style scoped>\n",
              "    .dataframe tbody tr th:only-of-type {\n",
              "        vertical-align: middle;\n",
              "    }\n",
              "\n",
              "    .dataframe tbody tr th {\n",
              "        vertical-align: top;\n",
              "    }\n",
              "\n",
              "    .dataframe thead th {\n",
              "        text-align: right;\n",
              "    }\n",
              "</style>\n",
              "<table border=\"1\" class=\"dataframe\">\n",
              "  <thead>\n",
              "    <tr style=\"text-align: right;\">\n",
              "      <th></th>\n",
              "      <th>ID</th>\n",
              "      <th>City</th>\n",
              "      <th>WinningTeam</th>\n",
              "      <th>total_run</th>\n",
              "    </tr>\n",
              "  </thead>\n",
              "  <tbody>\n",
              "    <tr>\n",
              "      <th>0</th>\n",
              "      <td>1312200</td>\n",
              "      <td>Ahmedabad</td>\n",
              "      <td>Gujarat Titans</td>\n",
              "      <td>130</td>\n",
              "    </tr>\n",
              "    <tr>\n",
              "      <th>1</th>\n",
              "      <td>1312200</td>\n",
              "      <td>Ahmedabad</td>\n",
              "      <td>Gujarat Titans</td>\n",
              "      <td>130</td>\n",
              "    </tr>\n",
              "    <tr>\n",
              "      <th>2</th>\n",
              "      <td>1312200</td>\n",
              "      <td>Ahmedabad</td>\n",
              "      <td>Gujarat Titans</td>\n",
              "      <td>130</td>\n",
              "    </tr>\n",
              "    <tr>\n",
              "      <th>3</th>\n",
              "      <td>1312200</td>\n",
              "      <td>Ahmedabad</td>\n",
              "      <td>Gujarat Titans</td>\n",
              "      <td>130</td>\n",
              "    </tr>\n",
              "    <tr>\n",
              "      <th>4</th>\n",
              "      <td>1312200</td>\n",
              "      <td>Ahmedabad</td>\n",
              "      <td>Gujarat Titans</td>\n",
              "      <td>130</td>\n",
              "    </tr>\n",
              "    <tr>\n",
              "      <th>...</th>\n",
              "      <td>...</td>\n",
              "      <td>...</td>\n",
              "      <td>...</td>\n",
              "      <td>...</td>\n",
              "    </tr>\n",
              "    <tr>\n",
              "      <th>225949</th>\n",
              "      <td>335982</td>\n",
              "      <td>Bangalore</td>\n",
              "      <td>Kolkata Knight Riders</td>\n",
              "      <td>222</td>\n",
              "    </tr>\n",
              "    <tr>\n",
              "      <th>225950</th>\n",
              "      <td>335982</td>\n",
              "      <td>Bangalore</td>\n",
              "      <td>Kolkata Knight Riders</td>\n",
              "      <td>222</td>\n",
              "    </tr>\n",
              "    <tr>\n",
              "      <th>225951</th>\n",
              "      <td>335982</td>\n",
              "      <td>Bangalore</td>\n",
              "      <td>Kolkata Knight Riders</td>\n",
              "      <td>222</td>\n",
              "    </tr>\n",
              "    <tr>\n",
              "      <th>225952</th>\n",
              "      <td>335982</td>\n",
              "      <td>Bangalore</td>\n",
              "      <td>Kolkata Knight Riders</td>\n",
              "      <td>222</td>\n",
              "    </tr>\n",
              "    <tr>\n",
              "      <th>225953</th>\n",
              "      <td>335982</td>\n",
              "      <td>Bangalore</td>\n",
              "      <td>Kolkata Knight Riders</td>\n",
              "      <td>222</td>\n",
              "    </tr>\n",
              "  </tbody>\n",
              "</table>\n",
              "<p>204772 rows × 4 columns</p>\n",
              "</div>"
            ],
            "text/plain": [
              "             ID       City            WinningTeam  total_run\n",
              "0       1312200  Ahmedabad         Gujarat Titans        130\n",
              "1       1312200  Ahmedabad         Gujarat Titans        130\n",
              "2       1312200  Ahmedabad         Gujarat Titans        130\n",
              "3       1312200  Ahmedabad         Gujarat Titans        130\n",
              "4       1312200  Ahmedabad         Gujarat Titans        130\n",
              "...         ...        ...                    ...        ...\n",
              "225949   335982  Bangalore  Kolkata Knight Riders        222\n",
              "225950   335982  Bangalore  Kolkata Knight Riders        222\n",
              "225951   335982  Bangalore  Kolkata Knight Riders        222\n",
              "225952   335982  Bangalore  Kolkata Knight Riders        222\n",
              "225953   335982  Bangalore  Kolkata Knight Riders        222\n",
              "\n",
              "[204772 rows x 4 columns]"
            ]
          },
          "execution_count": 29,
          "metadata": {},
          "output_type": "execute_result"
        }
      ],
      "source": [
        "match_df"
      ]
    },
    {
      "attachments": {},
      "cell_type": "markdown",
      "metadata": {},
      "source": [
        "Updating delivery_df"
      ]
    },
    {
      "cell_type": "code",
      "execution_count": 30,
      "metadata": {},
      "outputs": [],
      "source": [
        "delivery_df = delivery_df[delivery_df['BowlingTeam'].isin(teams)]\n",
        "delivery_df = delivery_df[delivery_df['BattingTeam'].isin(teams)]"
      ]
    },
    {
      "cell_type": "code",
      "execution_count": 31,
      "metadata": {},
      "outputs": [
        {
          "data": {
            "text/html": [
              "<div>\n",
              "<style scoped>\n",
              "    .dataframe tbody tr th:only-of-type {\n",
              "        vertical-align: middle;\n",
              "    }\n",
              "\n",
              "    .dataframe tbody tr th {\n",
              "        vertical-align: top;\n",
              "    }\n",
              "\n",
              "    .dataframe thead th {\n",
              "        text-align: right;\n",
              "    }\n",
              "</style>\n",
              "<table border=\"1\" class=\"dataframe\">\n",
              "  <thead>\n",
              "    <tr style=\"text-align: right;\">\n",
              "      <th></th>\n",
              "      <th>ID</th>\n",
              "      <th>innings</th>\n",
              "      <th>overs</th>\n",
              "      <th>ballnumber</th>\n",
              "      <th>batsman_run</th>\n",
              "      <th>extras_run</th>\n",
              "      <th>total_run</th>\n",
              "      <th>isWicketDelivery</th>\n",
              "      <th>BattingTeam</th>\n",
              "      <th>BowlingTeam</th>\n",
              "    </tr>\n",
              "  </thead>\n",
              "  <tbody>\n",
              "    <tr>\n",
              "      <th>0</th>\n",
              "      <td>1312200</td>\n",
              "      <td>1</td>\n",
              "      <td>0</td>\n",
              "      <td>1</td>\n",
              "      <td>0</td>\n",
              "      <td>0</td>\n",
              "      <td>0</td>\n",
              "      <td>0</td>\n",
              "      <td>Rajasthan Royals</td>\n",
              "      <td>Gujarat Titans</td>\n",
              "    </tr>\n",
              "    <tr>\n",
              "      <th>1</th>\n",
              "      <td>1312200</td>\n",
              "      <td>1</td>\n",
              "      <td>0</td>\n",
              "      <td>2</td>\n",
              "      <td>0</td>\n",
              "      <td>1</td>\n",
              "      <td>1</td>\n",
              "      <td>0</td>\n",
              "      <td>Rajasthan Royals</td>\n",
              "      <td>Gujarat Titans</td>\n",
              "    </tr>\n",
              "    <tr>\n",
              "      <th>2</th>\n",
              "      <td>1312200</td>\n",
              "      <td>1</td>\n",
              "      <td>0</td>\n",
              "      <td>3</td>\n",
              "      <td>1</td>\n",
              "      <td>0</td>\n",
              "      <td>1</td>\n",
              "      <td>0</td>\n",
              "      <td>Rajasthan Royals</td>\n",
              "      <td>Gujarat Titans</td>\n",
              "    </tr>\n",
              "    <tr>\n",
              "      <th>3</th>\n",
              "      <td>1312200</td>\n",
              "      <td>1</td>\n",
              "      <td>0</td>\n",
              "      <td>4</td>\n",
              "      <td>0</td>\n",
              "      <td>0</td>\n",
              "      <td>0</td>\n",
              "      <td>0</td>\n",
              "      <td>Rajasthan Royals</td>\n",
              "      <td>Gujarat Titans</td>\n",
              "    </tr>\n",
              "    <tr>\n",
              "      <th>4</th>\n",
              "      <td>1312200</td>\n",
              "      <td>1</td>\n",
              "      <td>0</td>\n",
              "      <td>5</td>\n",
              "      <td>0</td>\n",
              "      <td>0</td>\n",
              "      <td>0</td>\n",
              "      <td>0</td>\n",
              "      <td>Rajasthan Royals</td>\n",
              "      <td>Gujarat Titans</td>\n",
              "    </tr>\n",
              "    <tr>\n",
              "      <th>...</th>\n",
              "      <td>...</td>\n",
              "      <td>...</td>\n",
              "      <td>...</td>\n",
              "      <td>...</td>\n",
              "      <td>...</td>\n",
              "      <td>...</td>\n",
              "      <td>...</td>\n",
              "      <td>...</td>\n",
              "      <td>...</td>\n",
              "      <td>...</td>\n",
              "    </tr>\n",
              "    <tr>\n",
              "      <th>225949</th>\n",
              "      <td>335982</td>\n",
              "      <td>2</td>\n",
              "      <td>14</td>\n",
              "      <td>5</td>\n",
              "      <td>0</td>\n",
              "      <td>1</td>\n",
              "      <td>1</td>\n",
              "      <td>0</td>\n",
              "      <td>Royal Challengers Bangalore</td>\n",
              "      <td>Kolkata Knight Riders</td>\n",
              "    </tr>\n",
              "    <tr>\n",
              "      <th>225950</th>\n",
              "      <td>335982</td>\n",
              "      <td>2</td>\n",
              "      <td>14</td>\n",
              "      <td>6</td>\n",
              "      <td>1</td>\n",
              "      <td>0</td>\n",
              "      <td>1</td>\n",
              "      <td>0</td>\n",
              "      <td>Royal Challengers Bangalore</td>\n",
              "      <td>Kolkata Knight Riders</td>\n",
              "    </tr>\n",
              "    <tr>\n",
              "      <th>225951</th>\n",
              "      <td>335982</td>\n",
              "      <td>2</td>\n",
              "      <td>14</td>\n",
              "      <td>7</td>\n",
              "      <td>0</td>\n",
              "      <td>0</td>\n",
              "      <td>0</td>\n",
              "      <td>0</td>\n",
              "      <td>Royal Challengers Bangalore</td>\n",
              "      <td>Kolkata Knight Riders</td>\n",
              "    </tr>\n",
              "    <tr>\n",
              "      <th>225952</th>\n",
              "      <td>335982</td>\n",
              "      <td>2</td>\n",
              "      <td>15</td>\n",
              "      <td>1</td>\n",
              "      <td>0</td>\n",
              "      <td>1</td>\n",
              "      <td>1</td>\n",
              "      <td>0</td>\n",
              "      <td>Royal Challengers Bangalore</td>\n",
              "      <td>Kolkata Knight Riders</td>\n",
              "    </tr>\n",
              "    <tr>\n",
              "      <th>225953</th>\n",
              "      <td>335982</td>\n",
              "      <td>2</td>\n",
              "      <td>15</td>\n",
              "      <td>2</td>\n",
              "      <td>0</td>\n",
              "      <td>0</td>\n",
              "      <td>0</td>\n",
              "      <td>1</td>\n",
              "      <td>Royal Challengers Bangalore</td>\n",
              "      <td>Kolkata Knight Riders</td>\n",
              "    </tr>\n",
              "  </tbody>\n",
              "</table>\n",
              "<p>205081 rows × 10 columns</p>\n",
              "</div>"
            ],
            "text/plain": [
              "             ID  innings  overs  ballnumber  batsman_run  extras_run  \\\n",
              "0       1312200        1      0           1            0           0   \n",
              "1       1312200        1      0           2            0           1   \n",
              "2       1312200        1      0           3            1           0   \n",
              "3       1312200        1      0           4            0           0   \n",
              "4       1312200        1      0           5            0           0   \n",
              "...         ...      ...    ...         ...          ...         ...   \n",
              "225949   335982        2     14           5            0           1   \n",
              "225950   335982        2     14           6            1           0   \n",
              "225951   335982        2     14           7            0           0   \n",
              "225952   335982        2     15           1            0           1   \n",
              "225953   335982        2     15           2            0           0   \n",
              "\n",
              "        total_run  isWicketDelivery                  BattingTeam  \\\n",
              "0               0                 0             Rajasthan Royals   \n",
              "1               1                 0             Rajasthan Royals   \n",
              "2               1                 0             Rajasthan Royals   \n",
              "3               0                 0             Rajasthan Royals   \n",
              "4               0                 0             Rajasthan Royals   \n",
              "...           ...               ...                          ...   \n",
              "225949          1                 0  Royal Challengers Bangalore   \n",
              "225950          1                 0  Royal Challengers Bangalore   \n",
              "225951          0                 0  Royal Challengers Bangalore   \n",
              "225952          1                 0  Royal Challengers Bangalore   \n",
              "225953          0                 1  Royal Challengers Bangalore   \n",
              "\n",
              "                  BowlingTeam  \n",
              "0              Gujarat Titans  \n",
              "1              Gujarat Titans  \n",
              "2              Gujarat Titans  \n",
              "3              Gujarat Titans  \n",
              "4              Gujarat Titans  \n",
              "...                       ...  \n",
              "225949  Kolkata Knight Riders  \n",
              "225950  Kolkata Knight Riders  \n",
              "225951  Kolkata Knight Riders  \n",
              "225952  Kolkata Knight Riders  \n",
              "225953  Kolkata Knight Riders  \n",
              "\n",
              "[205081 rows x 10 columns]"
            ]
          },
          "execution_count": 31,
          "metadata": {},
          "output_type": "execute_result"
        }
      ],
      "source": [
        "delivery_df"
      ]
    },
    {
      "cell_type": "markdown",
      "metadata": {
        "nteract": {
          "transient": {
            "deleting": false
          }
        }
      },
      "source": [
        "#### Step 10: Merge delivery_df and match_df"
      ]
    },
    {
      "cell_type": "code",
      "execution_count": 32,
      "metadata": {
        "gather": {
          "logged": 1676794442884
        },
        "jupyter": {
          "outputs_hidden": false,
          "source_hidden": false
        },
        "nteract": {
          "transient": {
            "deleting": false
          }
        }
      },
      "outputs": [
        {
          "ename": "",
          "evalue": "",
          "output_type": "error",
          "traceback": [
            "\u001b[1;31mCanceled future for execute_request message before replies were done"
          ]
        },
        {
          "ename": "",
          "evalue": "",
          "output_type": "error",
          "traceback": [
            "\u001b[1;31mThe Kernel crashed while executing code in the the current cell or a previous cell. Please review the code in the cell(s) to identify a possible cause of the failure. Click <a href='https://aka.ms/vscodeJupyterKernelCrash'>here</a> for more info. View Jupyter <a href='command:jupyter.viewOutput'>log</a> for further details."
          ]
        }
      ],
      "source": [
        "delivery_df = match_df.merge(delivery_df, on='ID')"
      ]
    },
    {
      "cell_type": "code",
      "execution_count": null,
      "metadata": {
        "gather": {
          "logged": 1676794442910
        },
        "jupyter": {
          "outputs_hidden": false,
          "source_hidden": false
        },
        "nteract": {
          "transient": {
            "deleting": false
          }
        }
      },
      "outputs": [],
      "source": [
        "delivery_df"
      ]
    },
    {
      "cell_type": "markdown",
      "metadata": {
        "nteract": {
          "transient": {
            "deleting": false
          }
        }
      },
      "source": [
        "#### Step 11: Group by second innings"
      ]
    },
    {
      "cell_type": "code",
      "execution_count": null,
      "metadata": {
        "gather": {
          "logged": 1676793989399
        },
        "jupyter": {
          "outputs_hidden": false,
          "source_hidden": false
        },
        "nteract": {
          "transient": {
            "deleting": false
          }
        }
      },
      "outputs": [],
      "source": [
        "delivery_df = delivery_df[delivery_df['innings'] == 2]"
      ]
    },
    {
      "cell_type": "code",
      "execution_count": null,
      "metadata": {
        "gather": {
          "logged": 1676793989434
        },
        "jupyter": {
          "outputs_hidden": false,
          "source_hidden": false
        },
        "nteract": {
          "transient": {
            "deleting": false
          }
        }
      },
      "outputs": [],
      "source": [
        "delivery_df"
      ]
    },
    {
      "cell_type": "markdown",
      "metadata": {
        "nteract": {
          "transient": {
            "deleting": false
          }
        }
      },
      "source": [
        "#### Step 12: Create remaining fields necessary for prediction"
      ]
    },
    {
      "cell_type": "markdown",
      "metadata": {
        "nteract": {
          "transient": {
            "deleting": false
          }
        }
      },
      "source": [
        "current score"
      ]
    },
    {
      "cell_type": "code",
      "execution_count": null,
      "metadata": {
        "gather": {
          "logged": 1676793989467
        },
        "jupyter": {
          "outputs_hidden": false,
          "source_hidden": false
        },
        "nteract": {
          "transient": {
            "deleting": false
          }
        }
      },
      "outputs": [],
      "source": [
        "delivery_df['current_score'] = delivery_df.groupby('ID').cumsum()['total_run_y']"
      ]
    },
    {
      "cell_type": "markdown",
      "metadata": {
        "nteract": {
          "transient": {
            "deleting": false
          }
        }
      },
      "source": [
        "Runs left"
      ]
    },
    {
      "cell_type": "code",
      "execution_count": null,
      "metadata": {
        "gather": {
          "logged": 1676793989497
        },
        "jupyter": {
          "outputs_hidden": false,
          "source_hidden": false
        },
        "nteract": {
          "transient": {
            "deleting": false
          }
        }
      },
      "outputs": [],
      "source": [
        "#important because i added +1\n",
        "delivery_df['runs_left'] = delivery_df['total_run_x'] - delivery_df['current_score']+1"
      ]
    },
    {
      "cell_type": "markdown",
      "metadata": {
        "nteract": {
          "transient": {
            "deleting": false
          }
        }
      },
      "source": [
        "Balls left"
      ]
    },
    {
      "cell_type": "code",
      "execution_count": null,
      "metadata": {
        "gather": {
          "logged": 1676542759884
        },
        "jupyter": {
          "outputs_hidden": false,
          "source_hidden": false
        },
        "nteract": {
          "transient": {
            "deleting": false
          }
        }
      },
      "outputs": [],
      "source": [
        "delivery_df['balls_left'] = 126 - (delivery_df['overs']*6 + delivery_df['ballnumber'])"
      ]
    },
    {
      "cell_type": "code",
      "execution_count": null,
      "metadata": {
        "gather": {
          "logged": 1676542759912
        },
        "jupyter": {
          "outputs_hidden": false,
          "source_hidden": false
        },
        "nteract": {
          "transient": {
            "deleting": false
          }
        }
      },
      "outputs": [],
      "source": [
        "delivery_df"
      ]
    },
    {
      "cell_type": "markdown",
      "metadata": {
        "nteract": {
          "transient": {
            "deleting": false
          }
        }
      },
      "source": [
        "Wickets"
      ]
    },
    {
      "cell_type": "code",
      "execution_count": null,
      "metadata": {
        "gather": {
          "logged": 1676542759940
        },
        "jupyter": {
          "outputs_hidden": false,
          "source_hidden": false
        },
        "nteract": {
          "transient": {
            "deleting": false
          }
        }
      },
      "outputs": [],
      "source": [
        "wickets = delivery_df.groupby('ID').cumsum()['isWicketDelivery'].values\n",
        "delivery_df['wickets'] = 10 - wickets"
      ]
    },
    {
      "cell_type": "code",
      "execution_count": null,
      "metadata": {
        "gather": {
          "logged": 1676542759968
        },
        "jupyter": {
          "outputs_hidden": false,
          "source_hidden": false
        },
        "nteract": {
          "transient": {
            "deleting": false
          }
        }
      },
      "outputs": [],
      "source": [
        "delivery_df"
      ]
    },
    {
      "cell_type": "markdown",
      "metadata": {
        "nteract": {
          "transient": {
            "deleting": false
          }
        }
      },
      "source": [
        "Current Run Rate"
      ]
    },
    {
      "cell_type": "code",
      "execution_count": null,
      "metadata": {
        "gather": {
          "logged": 1676542759992
        },
        "jupyter": {
          "outputs_hidden": false,
          "source_hidden": false
        },
        "nteract": {
          "transient": {
            "deleting": false
          }
        }
      },
      "outputs": [],
      "source": [
        "# current_run_rate = runs/overs\n",
        "delivery_df['current_run_rate'] = (delivery_df['current_score']*6)/(120 - delivery_df['balls_left'])"
      ]
    },
    {
      "cell_type": "markdown",
      "metadata": {
        "nteract": {
          "transient": {
            "deleting": false
          }
        }
      },
      "source": [
        "Required Run Rate"
      ]
    },
    {
      "cell_type": "code",
      "execution_count": null,
      "metadata": {
        "gather": {
          "logged": 1676542760043
        },
        "jupyter": {
          "outputs_hidden": false,
          "source_hidden": false
        },
        "nteract": {
          "transient": {
            "deleting": false
          }
        }
      },
      "outputs": [],
      "source": [
        "# required_run_rate = runs_left/overs_left\n",
        "delivery_df['required_run_rate'] = (delivery_df['runs_left']*6)/delivery_df['balls_left']"
      ]
    },
    {
      "cell_type": "markdown",
      "metadata": {
        "nteract": {
          "transient": {
            "deleting": false
          }
        }
      },
      "source": [
        "Final Result"
      ]
    },
    {
      "cell_type": "code",
      "execution_count": null,
      "metadata": {
        "gather": {
          "logged": 1676542760251
        },
        "jupyter": {
          "outputs_hidden": false,
          "source_hidden": false
        },
        "nteract": {
          "transient": {
            "deleting": false
          }
        }
      },
      "outputs": [],
      "source": [
        "def result(row):\n",
        "    if row['BattingTeam'] == row['WinningTeam']:\n",
        "        return 1 \n",
        "    else:\n",
        "        return 0"
      ]
    },
    {
      "cell_type": "code",
      "execution_count": null,
      "metadata": {
        "gather": {
          "logged": 1676542760423
        },
        "jupyter": {
          "outputs_hidden": false,
          "source_hidden": false
        },
        "nteract": {
          "transient": {
            "deleting": false
          }
        }
      },
      "outputs": [],
      "source": [
        "delivery_df['Result'] = delivery_df.apply(result,axis=1)"
      ]
    },
    {
      "cell_type": "markdown",
      "metadata": {
        "nteract": {
          "transient": {
            "deleting": false
          }
        }
      },
      "source": [
        "#### Step 13: Creating the required table"
      ]
    },
    {
      "cell_type": "code",
      "execution_count": null,
      "metadata": {
        "gather": {
          "logged": 1676542760629
        },
        "jupyter": {
          "outputs_hidden": false,
          "source_hidden": false
        },
        "nteract": {
          "transient": {
            "deleting": false
          }
        }
      },
      "outputs": [],
      "source": [
        "ultimate_df = delivery_df[['BattingTeam','BowlingTeam','City','runs_left','balls_left','wickets','total_run_x','current_run_rate','required_run_rate','Result']]"
      ]
    },
    {
      "cell_type": "code",
      "execution_count": null,
      "metadata": {
        "gather": {
          "logged": 1676542760839
        },
        "jupyter": {
          "outputs_hidden": false,
          "source_hidden": false
        },
        "nteract": {
          "transient": {
            "deleting": false
          }
        }
      },
      "outputs": [],
      "source": [
        "ultimate_df = ultimate_df.sample(ultimate_df.shape[0])"
      ]
    },
    {
      "cell_type": "code",
      "execution_count": null,
      "metadata": {
        "jupyter": {
          "outputs_hidden": false,
          "source_hidden": false
        },
        "nteract": {
          "transient": {
            "deleting": false
          }
        }
      },
      "outputs": [],
      "source": [
        "ultimate_df.sample()"
      ]
    },
    {
      "cell_type": "code",
      "execution_count": null,
      "metadata": {
        "gather": {
          "logged": 1676542554311
        },
        "jupyter": {
          "outputs_hidden": false,
          "source_hidden": false
        },
        "nteract": {
          "transient": {
            "deleting": false
          }
        }
      },
      "outputs": [],
      "source": [
        "ultimate_df.isnull().sum()"
      ]
    },
    {
      "cell_type": "code",
      "execution_count": null,
      "metadata": {
        "jupyter": {
          "outputs_hidden": false,
          "source_hidden": false
        },
        "nteract": {
          "transient": {
            "deleting": false
          }
        }
      },
      "outputs": [],
      "source": [
        "#ultimate_df.to_csv('IPL_Ball_by_Ball_2008_2022.csv', index=False)"
      ]
    }
  ],
  "metadata": {
    "kernel_info": {
      "name": "python310-sdkv2"
    },
    "kernelspec": {
      "display_name": "Python 3 (ipykernel)",
      "language": "python",
      "name": "python3"
    },
    "language_info": {
      "codemirror_mode": {
        "name": "ipython",
        "version": 3
      },
      "file_extension": ".py",
      "mimetype": "text/x-python",
      "name": "python",
      "nbconvert_exporter": "python",
      "pygments_lexer": "ipython3",
      "version": "3.10.4"
    },
    "microsoft": {
      "host": {
        "AzureML": {
          "notebookHasBeenCompleted": true
        }
      },
      "ms_spell_check": {
        "ms_spell_check_language": "en"
      }
    },
    "nteract": {
      "version": "nteract-front-end@1.0.0"
    },
    "vscode": {
      "interpreter": {
        "hash": "3ad933181bd8a04b432d3370b9dc3b0662ad032c4dfaa4e4f1596c548f763858"
      }
    }
  },
  "nbformat": 4,
  "nbformat_minor": 2
}
